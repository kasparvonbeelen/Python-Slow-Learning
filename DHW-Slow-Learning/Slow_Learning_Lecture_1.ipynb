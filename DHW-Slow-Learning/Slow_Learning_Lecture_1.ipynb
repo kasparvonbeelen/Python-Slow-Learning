{
 "cells": [
  {
   "cell_type": "markdown",
   "metadata": {},
   "source": [
    "# -1. Disclaimer\n",
    "-- Many of the materials are gently stolen from the following courses: \n",
    "- **[\"A Python Course for the Humanities\"](https://github.com/fbkarsdorp/python-course)** a course designed by Folgert Karsdorp and Maarten van Gompel\n",
    "- and later modified by Mike Kestemont and Lars Wieneke for the course **[\"Programming for Linguistics and Literature\"](https://github.com/mikekestemont/prog1617)**\n",
    "- **[\"Python for text analysis\"](https://github.com/cltl/python-for-text-analysis)** designed by H.D. van der Vliet and taught at the Vrije Universiteit\n",
    "- **[\"How to Think Like a Computer Scientist\"](http://www.greenteapress.com/thinkpython/thinkCSpy.pdf)** by Allen Downey, Jeffrey Elkner, Chris Meyers\n",
    "- **[\"The Programming Historian\"](https://programminghistorian.org/en/lessons)**: [\"Fetch and Parse Data with OpenRefine\"](https://programminghistorian.org/en/lessons/fetch-and-parse-data-with-openrefine) (by Evan P. Williamson) and [\"Manipulating Strings in Python\"](https://programminghistorian.org/en/lessons/manipulating-strings-in-python) by William J. Turkel and Adam Crymble"
   ]
  },
  {
   "cell_type": "markdown",
   "metadata": {},
   "source": [
    "# 0. Before we kick off: Installing Jupyter Notebook\n",
    "\n",
    "- Download Anaconda: https://www.anaconda.com/download\n",
    "        Select the Python 3.6 Version\n",
    "        Follow the installation instructions\n",
    "- Download the Notebook and data [here](https://github.com/kasparvonbeelen/Python-Slow-Learning)\n",
    "        Open Anaconda Navigator\n",
    "        Launch Jupyter Notebook\n",
    "        This should open a tab in your browser\n",
    "        Go to the location where you cloned/unzipped the material downloaded from Github"
   ]
  },
  {
   "cell_type": "markdown",
   "metadata": {},
   "source": [
    "# 1. Philosophy of the Course"
   ]
  },
  {
   "cell_type": "markdown",
   "metadata": {},
   "source": [
    "- **We have time...** (if we don't get everything done, we just add an extra session)\n",
    "- Coding is **not** difficult, but obtaining basic programming skills requires a **sustained effort**.\n",
    "- With only a few basic skills you can go a long way (writing scripts vs. developing tools).\n",
    "- Learning Python is not a linear, incremental process. Sometimes I will **fast-forward** and skip some of the details but hope you get a feeling for what is possible, and why coding could be useful for your research.\n",
    "- The full course, with all the details, is available [here](https://github.com/kasparvonbeelen/Coding-the-Humanities) (but still under construction).\n",
    "- It takes a while before you can do some more fancy stuff (you have to go through kindergarten again before you become a rocket scientist)."
   ]
  },
  {
   "cell_type": "markdown",
   "metadata": {},
   "source": [
    "### 1.1 The Language of Choice: Python\n",
    "\n",
    "#### **What** is Python?\n",
    "\n",
    "[From Wikipedia](https://en.wikipedia.org/wiki/Python_(programming_language): Python is a widely used **high-level** programming language for **general-purpose** programming.\n",
    "- ** high-level programming language**: In computer science, a high-level programming language is a programming language with **strong abstraction from the details of the computer**. In comparison to low-level programming languages, it may use **natural language elements**, be easier to use, or may **automate** (or even **hide** entirely) significant areas of computing systems (e.g. memory management), making the process of developing a program simpler and more understandable relative to a lower-level language. The amount of **abstraction** provided defines how \"high-level\" a programming language is.\n",
    "\n",
    "\n",
    "#### **Why** Python?\n",
    "\n",
    "In general, Python is **easier to learn and to read**. Let's look at a very simple example. "
   ]
  },
  {
   "cell_type": "code",
   "execution_count": null,
   "metadata": {
    "collapsed": true
   },
   "outputs": [],
   "source": [
    "print('Hello, World.')"
   ]
  },
  {
   "cell_type": "markdown",
   "metadata": {},
   "source": [
    "Compare this to the C++ version of  \"Hello, World.\" which looks like this:\n",
    "\n",
    "C++ code below:\n",
    "``\n",
    "#include <iostream.h>\n",
    "\n",
    "void main()\n",
    "\n",
    "{\n",
    "    \n",
    "    cout << \"Hello, world.\" << endl;\n",
    "\n",
    "}\n",
    "\n",
    "``\n",
    "\n",
    "End of C++ code.\n",
    "\n",
    "\n",
    "So, in general, the reasons why I teach **Python** are:\n",
    "\n",
    "- Software **Quality**: Python code is designed to be **readable**, and hence reusable and maintainable. \n",
    "- Developer **Productivity**: Python code is typically one-third to one-fifth the size of C++ or Java code. \n",
    "- **Portability**: Python code runs unchanged on all major computer platforms (Windows, Linux, MacOS). \n",
    "- **General-purpose**: data analysis, web development etc.\n",
    "- **Support Libraries**: Standard, homegrown and third-party libraries.\n",
    "- **Widely used by the academic and scientific community!**"
   ]
  },
  {
   "cell_type": "markdown",
   "metadata": {},
   "source": [
    "# 2. Goal of Today's Lecture"
   ]
  },
  {
   "cell_type": "markdown",
   "metadata": {},
   "source": [
    "Today we cover a few basic **Python data types and objects**:\n",
    "- Strings\n",
    "- Lists\n",
    "- Dictionaries\n",
    "\n",
    "And survey some tools for manipulating these objects:\n",
    "- String formatting\n",
    "- Appending items to a list\n",
    "- Exploring dictionaries and JSON Objects\n",
    "\n",
    "\n",
    "In general, the course shows how to **collect and save data from the Web**. In the following courses, we turn to analysing the retrieved data. "
   ]
  },
  {
   "cell_type": "markdown",
   "metadata": {},
   "source": [
    "At the end of this session, you should be able to **understand** most of the following code. For now, just try to run it by simultaneously pressing `ctrl` and `enter` or the **play** button at the top of your Notebook."
   ]
  },
  {
   "cell_type": "markdown",
   "metadata": {},
   "source": [
    "### 2.1. Leading Example\n",
    "#### A real-world application of the elements we discuss today."
   ]
  },
  {
   "cell_type": "code",
   "execution_count": null,
   "metadata": {
    "collapsed": true
   },
   "outputs": [],
   "source": [
    "import requests # Import models, here a set of tools that help you donwloading data\n",
    "'''\n",
    "Script that retrieves data \"Chronicling America\" and stores information in a list.\n",
    "'''\n",
    "\n",
    "data = \"\"\"Idaho,1865\\nMontana,1865\\nOregon,1865\\nWashington,1865\"\"\" # Variable Assignment & Strings\n",
    "print('Input data is a csv file.')\n",
    "print(data)\n",
    "url = \"http://chroniclingamerica.loc.gov/search/pages/results/?state={0}&date1={1}&date2={1}&dateFilterType=yearRange&sequence=1&sort=date&rows=5&format=json\"\n",
    "# String formatting, Getting data from APIs\n",
    "\n",
    "all_data = [] # Empty Lists & Variable Assignment\n",
    "print('\\n')\n",
    "lines = data.split('\\n') # Split string (convert string to list)\n",
    "print('Split the csv file by newline characters \"\\\\n\"')\n",
    "print(lines) # Printing the list\n",
    "print('\\n')\n",
    "for line in lines: # For loop \n",
    "    state,year = line.split(',') # Split string, multiple assignment\n",
    "    formatted_url = url.format(state,year)\n",
    "    print('Downloading data for state={} year={}'.format(state,year))\n",
    "    print(formatted_url)\n",
    "    response = requests.get(formatted_url).json() # Calling the API & download data\n",
    "    all_data.append(response) # Storing data in a variable\n",
    "\n",
    "print('\\nDownloaded {} items.\\nDone!\\n'.format(len(all_data)))"
   ]
  },
  {
   "cell_type": "code",
   "execution_count": null,
   "metadata": {
    "collapsed": true
   },
   "outputs": [],
   "source": [
    "import json # Import JSON tools\n",
    "'''\n",
    "Inspect the downloaded data.\n",
    "'''\n",
    "idaho = all_data[0] # Indexing and slicing\n",
    "idaho.keys() # Inspecting JSON objects & Python dictionaries\n",
    "print(json.dumps(idaho)) # Copy-Paste the print output to http://jsonviewer.stack.hu/"
   ]
  },
  {
   "cell_type": "code",
   "execution_count": null,
   "metadata": {
    "collapsed": true
   },
   "outputs": [],
   "source": [
    "# print the title\n",
    "print(idaho['items'][0]['alt_title'])"
   ]
  },
  {
   "cell_type": "code",
   "execution_count": null,
   "metadata": {
    "collapsed": true
   },
   "outputs": [],
   "source": [
    "# print ocr text\n",
    "print(idaho['items'][0]['ocr_eng'])"
   ]
  },
  {
   "cell_type": "code",
   "execution_count": null,
   "metadata": {
    "collapsed": true
   },
   "outputs": [],
   "source": [
    "# how many words does this text contain?\n",
    "idaho_text = idaho['items'][0]['ocr_eng']\n",
    "print(len(idaho_text.split()))"
   ]
  },
  {
   "cell_type": "code",
   "execution_count": null,
   "metadata": {
    "collapsed": true
   },
   "outputs": [],
   "source": [
    "json.dump(all_data,open('./chrom_america.json','w')) # Store the data on your disk as a JSON file"
   ]
  },
  {
   "cell_type": "markdown",
   "metadata": {},
   "source": [
    "The difficulty with learning how to program is to obtain a proper understanding of all the individual building blocks that constitute the language. Things only start to make sense when you start combining various components.\n",
    "\n",
    "Nonetheless, we have to explain these elements separately. This can be tedious, but please bear with me for a few hours, the rewards are plenty! "
   ]
  },
  {
   "cell_type": "markdown",
   "metadata": {},
   "source": [
    "# 3. Baby Python\n",
    "\n",
    "For practising your coding skills, you can use the many **'code blocks'** in this Notebook, such as the grey cell below. Place your cursor inside the cell and press ``ctrl+enter`` to \"run\" or execute the code. Let's begin right away: run your first little program!"
   ]
  },
  {
   "cell_type": "code",
   "execution_count": null,
   "metadata": {
    "collapsed": true
   },
   "outputs": [],
   "source": [
    "print('Hello, World!')"
   ]
  },
  {
   "cell_type": "markdown",
   "metadata": {},
   "source": [
    "You've just executed your first program!\n",
    "\n",
    "### --Exercise--\n",
    "- Can you describe what the programme just did?\n",
    "- Can you adapt it to print your name (with a greeting, i.e. \"Hello, ...\")?\n",
    "\n",
    "Use the code block **below**."
   ]
  },
  {
   "cell_type": "code",
   "execution_count": null,
   "metadata": {},
   "outputs": [],
   "source": [
    "# Insert your own code here!\n",
    "# Print your own name ... or whatever you want, and press ctrl + enter\n",
    "print('Hello, Kaspar')"
   ]
  },
  {
   "cell_type": "markdown",
   "metadata": {},
   "source": [
    "Besides printing words to your screen, you can use Python as a **calculator**. "
   ]
  },
  {
   "cell_type": "code",
   "execution_count": null,
   "metadata": {
    "collapsed": true
   },
   "outputs": [],
   "source": [
    "print(10)\n",
    "print(5+9)\n",
    "print(3*8)"
   ]
  },
  {
   "cell_type": "markdown",
   "metadata": {},
   "source": [
    "Please note that a string is always enclosed in **quotation** marks *`'`* or *`\"`*, while a number (integers or floats) is not."
   ]
  },
  {
   "cell_type": "markdown",
   "metadata": {},
   "source": [
    "### --Exercise--\n",
    "Use the code block below to calculate (and print) how many minutes there are in one week?\n",
    "\n",
    "**HINT**: use the multiplication operator **`*`**"
   ]
  },
  {
   "cell_type": "code",
   "execution_count": null,
   "metadata": {},
   "outputs": [],
   "source": [
    "# Write your code here\n",
    "print(60*24*7)"
   ]
  },
  {
   "cell_type": "markdown",
   "metadata": {},
   "source": [
    "# 4. Variables: Presents for Everyone"
   ]
  },
  {
   "cell_type": "markdown",
   "metadata": {},
   "source": [
    "One of the most powerful features of a programming language is the ability to **store and manipulate variables**. A variable is a **name** that refers to a value. The **assignment statement** creates new variables and relates them to concrete values. Instead of passing these elements as an argument to the `print()` function, we can **store** them, by creating a variable that refers to the \"Hello, World!\" string."
   ]
  },
  {
   "cell_type": "code",
   "execution_count": null,
   "metadata": {
    "collapsed": true
   },
   "outputs": [],
   "source": [
    "# declare a variable\n",
    "x = 'Hello World.'\n",
    "# print what is in the box\n",
    "print(x)"
   ]
  },
  {
   "cell_type": "code",
   "execution_count": null,
   "metadata": {
    "collapsed": true
   },
   "outputs": [],
   "source": [
    "# declare a variable\n",
    "y = 22\n",
    "# print what is in the box\n",
    "print(y)"
   ]
  },
  {
   "cell_type": "markdown",
   "metadata": {},
   "source": [
    "If you vaguely remember your math-classes in school, this should look familiar. It is basically the same notation with the name of **the variable on the left, the value on the right**, and the = sign in the middle. \n",
    "\n",
    "In the code block above, two things happen. **First**, we fill `x` with a value, in our case `22`. This variable x behaves pretty much like a **box** on which we write an `x` with a thick, black marker to find it back later. **Second**: We print the contents of this box, using the `print()` command. ![box](./images/box.png)"
   ]
  },
  {
   "cell_type": "markdown",
   "metadata": {},
   "source": [
    "You can inspect the type of the variable with the `type()` **function**. You can use this function by putting the object between parenthesis."
   ]
  },
  {
   "cell_type": "code",
   "execution_count": null,
   "metadata": {
    "collapsed": true
   },
   "outputs": [],
   "source": [
    "text = 'Hello, Worlds!'\n",
    "print(type(text))\n",
    "number = 10\n",
    "print(type(number))\n",
    "number_string = '10'\n",
    "print(type(number_string))"
   ]
  },
  {
   "cell_type": "markdown",
   "metadata": {},
   "source": [
    "### --Exercise--\n",
    "Create and print two values: your name (string) and year of birth (integer)"
   ]
  },
  {
   "cell_type": "code",
   "execution_count": null,
   "metadata": {},
   "outputs": [],
   "source": [
    "# write your code here\n",
    "name = 'Kaspar'\n",
    "year_of_birth = 1984\n",
    "print(name,year_of_birth)"
   ]
  },
  {
   "cell_type": "markdown",
   "metadata": {},
   "source": [
    "### --Exercise--\n",
    "Find the variable assignments in the leading example code."
   ]
  },
  {
   "cell_type": "markdown",
   "metadata": {},
   "source": [
    "# 5. Strings: How Python Understands Text"
   ]
  },
  {
   "cell_type": "markdown",
   "metadata": {},
   "source": [
    "In the preceding sections, we learned how to define string variables."
   ]
  },
  {
   "cell_type": "code",
   "execution_count": null,
   "metadata": {
    "collapsed": true
   },
   "outputs": [],
   "source": [
    "x = 'Yo, Kaspar'\n",
    "print(x)\n",
    "print(type(x))"
   ]
  },
  {
   "cell_type": "markdown",
   "metadata": {},
   "source": [
    "Let's have a closer look at the ``'str'`` type (str stands for string)"
   ]
  },
  {
   "cell_type": "markdown",
   "metadata": {},
   "source": [
    "Similar to numbers, strings can also be added together. What do you think the operation below will produce? (pause a moment before running the code.)"
   ]
  },
  {
   "cell_type": "code",
   "execution_count": null,
   "metadata": {
    "collapsed": true
   },
   "outputs": [],
   "source": [
    "first_name = \"Kaspar\"\n",
    "last_name = \"Beelen\"\n",
    "print(first_name+last_name)"
   ]
  },
  {
   "cell_type": "markdown",
   "metadata": {},
   "source": [
    "This the last operation is called string **concatination**. We added one string to another using the `+` operator."
   ]
  },
  {
   "cell_type": "code",
   "execution_count": null,
   "metadata": {
    "collapsed": true
   },
   "outputs": [],
   "source": [
    "book = \"The Lord of the Flies\"\n",
    "print(first_name + \" likes \" + book + \"?\")"
   ]
  },
  {
   "cell_type": "markdown",
   "metadata": {},
   "source": [
    "### --Exercise--\n",
    "Declare two variables `first_name` and `last_name`. Print them neatly using concatenation."
   ]
  },
  {
   "cell_type": "code",
   "execution_count": null,
   "metadata": {},
   "outputs": [],
   "source": [
    "# write your code here\n",
    "first_name = \"Kaspar\"\n",
    "last_name = \"Beelen\"\n",
    "print(first_name + ' ' + last_name)"
   ]
  },
  {
   "cell_type": "markdown",
   "metadata": {},
   "source": [
    "Another option would be the `format()` method. \n",
    "\n",
    "To see what `format()` does, we can simply turn to Python's help functionality."
   ]
  },
  {
   "cell_type": "code",
   "execution_count": null,
   "metadata": {
    "collapsed": true
   },
   "outputs": [],
   "source": [
    "help(str.format)"
   ]
  },
  {
   "cell_type": "markdown",
   "metadata": {},
   "source": [
    "`.format()` inserts a variable (either a string or a number) between braces. Try it out below!"
   ]
  },
  {
   "cell_type": "code",
   "execution_count": null,
   "metadata": {
    "collapsed": true
   },
   "outputs": [],
   "source": [
    "name = # enter a name\n",
    "print('{} is great!'.format(name))"
   ]
  },
  {
   "cell_type": "code",
   "execution_count": null,
   "metadata": {
    "collapsed": true
   },
   "outputs": [],
   "source": [
    "# create variable\n",
    "name = 'My first name is {0}.\\nMy second name is {1}'.format(first_name,last_name)\n",
    "print(name)"
   ]
  },
  {
   "cell_type": "markdown",
   "metadata": {},
   "source": [
    "Please note the `\\n` sign here. Which denotes a hard return (newline character)."
   ]
  },
  {
   "cell_type": "markdown",
   "metadata": {},
   "source": [
    "### --Exercise--\n",
    "What would the following expression return?\n",
    "\n",
    "`'My first name is {1}.\\nMy second name is {0}'.format(first_name,last_name)`"
   ]
  },
  {
   "cell_type": "code",
   "execution_count": null,
   "metadata": {},
   "outputs": [],
   "source": [
    "# try it here\n",
    "'My first name is {1}.\\nMy second name is {0}'.format(first_name,last_name)"
   ]
  },
  {
   "cell_type": "markdown",
   "metadata": {},
   "source": [
    "A lot is actually happening here--and may be confusing at first. Let's inspect the syntax of this line a bit closer."
   ]
  },
  {
   "cell_type": "markdown",
   "metadata": {},
   "source": [
    "## 5.1 String Methods\n",
    "\n",
    "The expression below follows the Python dot notation:\n",
    "\n",
    "    - `'My first name is {0}.\\nMy second name is {1}'.format(first_name,last_name)`\n",
    "\n",
    "Which, in a more abstract form, looks like:\n",
    "\n",
    "    - `object.method(arguments)`\n",
    "    \n",
    "In this example, we applied the `.format` **method** to a string **object** with `first_name,last_name` as **arguments**."
   ]
  },
  {
   "cell_type": "markdown",
   "metadata": {},
   "source": [
    "We also could have applied the method to a variable:"
   ]
  },
  {
   "cell_type": "code",
   "execution_count": null,
   "metadata": {
    "collapsed": true
   },
   "outputs": [],
   "source": [
    "name_string = 'My first name is {0}.\\nMy second name is {1}'\n",
    "name_string.format(first_name,last_name)"
   ]
  },
  {
   "cell_type": "markdown",
   "metadata": {},
   "source": [
    "Python comes with many useful **tools for text processing**. You can list and inspect them with `dir()` or `help()` functions (again, the syntax here is slightly different than the dot notation)."
   ]
  },
  {
   "cell_type": "code",
   "execution_count": null,
   "metadata": {
    "collapsed": true
   },
   "outputs": [],
   "source": [
    "book = 'Pride and Prejudice' # Let's pretend we stored a whole book in this variable"
   ]
  },
  {
   "cell_type": "markdown",
   "metadata": {},
   "source": [
    "`dir()` shows all the methods you can apply to the string variable `book`. Please scroll down. You can ignore the elements starting with double underscores."
   ]
  },
  {
   "cell_type": "code",
   "execution_count": null,
   "metadata": {
    "collapsed": true
   },
   "outputs": [],
   "source": [
    "dir(book)"
   ]
  },
  {
   "cell_type": "markdown",
   "metadata": {},
   "source": [
    "All these methods allows you to do things with strings. Some of the most useful methods are\n",
    "- `split()`\n",
    "- `lower()`\n",
    "- `len()`\n",
    "- `find()`"
   ]
  },
  {
   "cell_type": "markdown",
   "metadata": {},
   "source": [
    "## .split()"
   ]
  },
  {
   "cell_type": "markdown",
   "metadata": {},
   "source": [
    "### --Exercise--\n",
    "\n",
    "Go back to the initial example, and figure out how the `split()` method works."
   ]
  },
  {
   "cell_type": "markdown",
   "metadata": {},
   "source": [
    "### --Exercise--\n",
    "Print the Python **documentation** on the `.split()` method using the `help` function."
   ]
  },
  {
   "cell_type": "code",
   "execution_count": null,
   "metadata": {},
   "outputs": [],
   "source": [
    "# search for help here\n",
    "name = \"Kaspar\"\n",
    "help(name.split)\n",
    "# or\n",
    "help(str.split)"
   ]
  },
  {
   "cell_type": "markdown",
   "metadata": {},
   "source": [
    "### --Exercise--\n",
    "\n",
    "Inspect the following examples:"
   ]
  },
  {
   "cell_type": "code",
   "execution_count": null,
   "metadata": {
    "collapsed": true
   },
   "outputs": [],
   "source": [
    "print('Split on white space: ',book.split())\n",
    "print('Split on character \"e\": ',book.split('e'))\n",
    "print('Splint on newline: ',book.split('\\n'))"
   ]
  },
  {
   "cell_type": "markdown",
   "metadata": {},
   "source": [
    "#### Important\n",
    "\n",
    "`split()` converts a string of characters to a **list of words** (approximately, we come back to this later)."
   ]
  },
  {
   "cell_type": "markdown",
   "metadata": {},
   "source": [
    "## .lower()"
   ]
  },
  {
   "cell_type": "markdown",
   "metadata": {},
   "source": [
    "### --Exercise--\n",
    "\n",
    "Experiment with the `lower()` function. \n",
    "- Create a string variable;\n",
    "- Pass the lowercased variable to another one;\n",
    "- Print the lowercased and the original variable."
   ]
  },
  {
   "cell_type": "code",
   "execution_count": null,
   "metadata": {},
   "outputs": [],
   "source": [
    "# Experiment with lower\n",
    "# Declare a string variable\n",
    "\n",
    "variable = \"KaspaR\"\n",
    "\n",
    "# Look for documentation on `lower`\n",
    "\n",
    "help(variable.lower)\n",
    "\n",
    "# Apply lower to the variable AND assign the lowercased string to a new variable\n",
    "\n",
    "var_lower = variable.lower()\n",
    "\n",
    "# print the variables before and after applying the lower method\n",
    "print(variable)\n",
    "print(var_lower)\n"
   ]
  },
  {
   "cell_type": "markdown",
   "metadata": {},
   "source": [
    "## .find()"
   ]
  },
  {
   "cell_type": "markdown",
   "metadata": {},
   "source": [
    "### --Exercise--\n",
    "\n",
    "Find the position of the first 'e' in the title \"Naturkatastrophenkonzert\"."
   ]
  },
  {
   "cell_type": "code",
   "execution_count": null,
   "metadata": {},
   "outputs": [],
   "source": [
    "title = 'Naturkatastrophenkonzert'\n",
    "# use the find() method here\n",
    "title.find('e')"
   ]
  },
  {
   "cell_type": "markdown",
   "metadata": {},
   "source": [
    "### --Exercise--"
   ]
  },
  {
   "cell_type": "code",
   "execution_count": null,
   "metadata": {
    "collapsed": true
   },
   "outputs": [],
   "source": [
    "# download Romeo and Juliet from Gutenberg\n",
    "import requests\n",
    "randj = requests.get('http://www.gutenberg.org/cache/epub/1777/pg1777.txt').text"
   ]
  },
  {
   "cell_type": "markdown",
   "metadata": {},
   "source": [
    "Find the **first** occurence of the word **`love`** in Shakespeare's Rome and Juliet. \n",
    "\n",
    "**HINT**: Do not forget to first lowercase all words!"
   ]
  },
  {
   "cell_type": "code",
   "execution_count": null,
   "metadata": {},
   "outputs": [],
   "source": [
    "first_love = randj.lower().find('love')\n",
    "print(first_love)"
   ]
  },
  {
   "cell_type": "markdown",
   "metadata": {},
   "source": [
    "You can print the context around `first_love` using the [index](https://www.oreilly.com/learning/how-do-i-use-the-slice-notation-in-python) notation. (Please follow link for more information.)"
   ]
  },
  {
   "cell_type": "code",
   "execution_count": null,
   "metadata": {},
   "outputs": [],
   "source": [
    "context_size = 50 # the number of character around the word\n",
    "start_at = first_love-context_size # indicate the starting position\n",
    "stop_at = first_love+context_size+len('love') # indicate where to stop\n",
    "print('Start printing at character with position=',start_at)\n",
    "print('Stop printing at character with position=',stop_at)\n",
    "print('\\n')\n",
    "print(randj[start_at:stop_at]) # print with context"
   ]
  },
  {
   "cell_type": "markdown",
   "metadata": {},
   "source": [
    "### --Exercise--\n",
    "\n",
    "Can you find the **second** occurence of **\"love\"** in this play? And print the context?\n",
    "\n",
    "HINT: Inspect the `help()` function. Reuse information from the above code cells (`first_love`)."
   ]
  },
  {
   "cell_type": "code",
   "execution_count": null,
   "metadata": {},
   "outputs": [],
   "source": [
    "# add and copy-paste your code here\n",
    "second_love = randj.find('love',first_love+4)\n",
    "print(second_love)"
   ]
  },
  {
   "cell_type": "code",
   "execution_count": null,
   "metadata": {},
   "outputs": [],
   "source": [
    "context_size = 50 # the number of character around the word\n",
    "start_at = second_love-context_size # indicate the starting position\n",
    "stop_at = second_love+context_size+len('love') # indicate where to stop\n",
    "print('Start printing at character with position=',start_at)\n",
    "print('Stop printing at character with position=',stop_at)\n",
    "print('\\n')\n",
    "print(randj[start_at:stop_at]) # print with context"
   ]
  },
  {
   "cell_type": "markdown",
   "metadata": {},
   "source": [
    "# Intermezzo: Counting Words"
   ]
  },
  {
   "cell_type": "code",
   "execution_count": null,
   "metadata": {},
   "outputs": [],
   "source": [
    "from collections import Counter\n",
    "wf = Counter(randj.lower().split())\n",
    "wf.most_common(20)"
   ]
  },
  {
   "cell_type": "markdown",
   "metadata": {},
   "source": [
    "# Recap\n",
    "\n",
    "- Variables are boxes in which you can store information.\n",
    "- Variables can be of a different type: Text (strings) or Numbers (Integers).\n",
    "- Methods/Function allow you to manipulate the content of these boxes (e.g. `.lower()`)"
   ]
  },
  {
   "cell_type": "code",
   "execution_count": null,
   "metadata": {
    "collapsed": true
   },
   "outputs": [],
   "source": [
    "# Experiment a bit here"
   ]
  },
  {
   "cell_type": "markdown",
   "metadata": {},
   "source": [
    "## len()"
   ]
  },
  {
   "cell_type": "markdown",
   "metadata": {},
   "source": [
    "`len()` counts the number of elements the argument contains. If you pass a string as an argument, it counts the number characters.\n",
    "\n",
    "Note: the syntax is slighly different here (for reasons that fall outside the scope of this course.)"
   ]
  },
  {
   "cell_type": "code",
   "execution_count": null,
   "metadata": {
    "collapsed": true
   },
   "outputs": [],
   "source": [
    "word = 'supercalifragilisticexpialidocious'\n",
    "print(len(word))\n",
    "#print(word.__len__())"
   ]
  },
  {
   "cell_type": "code",
   "execution_count": null,
   "metadata": {
    "collapsed": true
   },
   "outputs": [],
   "source": [
    "# How many characters does your full name contain?"
   ]
  },
  {
   "cell_type": "markdown",
   "metadata": {},
   "source": [
    "### --Exercise--\n",
    "\n",
    "How many words does Romeo and Juliet contain (approximately)? Use `split()` and `len()` in combination."
   ]
  },
  {
   "cell_type": "code",
   "execution_count": null,
   "metadata": {
    "collapsed": true
   },
   "outputs": [],
   "source": [
    "# add your code here"
   ]
  },
  {
   "cell_type": "markdown",
   "metadata": {},
   "source": [
    "### --Exercise--\n",
    "\n",
    "Can you find other useful string methods?"
   ]
  },
  {
   "cell_type": "code",
   "execution_count": null,
   "metadata": {
    "collapsed": true
   },
   "outputs": [],
   "source": [
    "# if yes, play with them here"
   ]
  },
  {
   "cell_type": "markdown",
   "metadata": {},
   "source": [
    "# Intermezzo: Returning to the main example"
   ]
  },
  {
   "cell_type": "markdown",
   "metadata": {},
   "source": [
    "Let's inspect more closely some lines in the leading example."
   ]
  },
  {
   "cell_type": "markdown",
   "metadata": {},
   "source": [
    "#### `\\n` indicates the end of a line"
   ]
  },
  {
   "cell_type": "code",
   "execution_count": null,
   "metadata": {
    "collapsed": true
   },
   "outputs": [],
   "source": [
    "data = \"\"\"Idaho,1865\\nMontana,1865\\nOregon,1865\\nWashington,1865\"\"\"\n",
    "print(data)"
   ]
  },
  {
   "cell_type": "markdown",
   "metadata": {},
   "source": [
    "### --Exercise--\n",
    "\n",
    "Split by `newline` returns the rows as a list (see below)."
   ]
  },
  {
   "cell_type": "code",
   "execution_count": null,
   "metadata": {
    "collapsed": true
   },
   "outputs": [],
   "source": [
    "# Exercise split by the newline character"
   ]
  },
  {
   "cell_type": "markdown",
   "metadata": {},
   "source": [
    "### --Exercise--\n",
    "\n",
    "- We can save the rows in a new variable `lines`.\n",
    "- Count the number of line with `len()`."
   ]
  },
  {
   "cell_type": "code",
   "execution_count": null,
   "metadata": {
    "collapsed": true
   },
   "outputs": [],
   "source": [
    "# Exercise"
   ]
  },
  {
   "cell_type": "markdown",
   "metadata": {},
   "source": [
    "### --Additional--\n",
    "\n",
    "#### .format() method manipulates the url by inserting substrings as specific locations marked by braces '{}'."
   ]
  },
  {
   "cell_type": "code",
   "execution_count": null,
   "metadata": {
    "collapsed": true
   },
   "outputs": [],
   "source": [
    "url = \"http://chroniclingamerica.loc.gov/search/pages/results/?state={0}&date1={1}&date2={1}&dateFilterType=yearRange&sequence=1&sort=date&rows=5&format=json\"\n",
    "query = url.format('Idaho',1865)\n",
    "print(query)"
   ]
  },
  {
   "cell_type": "markdown",
   "metadata": {},
   "source": [
    "Please follow the link produced by the `print` operation."
   ]
  },
  {
   "cell_type": "markdown",
   "metadata": {},
   "source": [
    "This may look very complicated, but actually we are doing nothing more than generating a query that we use to retrieve data from \"Chronicling America\". Let's have a closer look at what we are actually doing."
   ]
  },
  {
   "cell_type": "markdown",
   "metadata": {},
   "source": [
    "The basic components of the this URL are:\n",
    "- the base URL, http://chroniclingamerica.loc.gov/\n",
    "- the search service location for individual newspaper pages, search/pages/results\n",
    "- a query string, starting with `?` and made up of **value pairs** (fieldname=value) separated by `&`.\n",
    "    - e.g. value pairs are: state=Idaho; date1=1865;\n",
    "    - only the front pages (sequence=1)\n",
    "    - sorting by date (sort=date)\n",
    "    - returning a maximum of five (rows=5)\n",
    "    - in JSON (format=json)"
   ]
  },
  {
   "cell_type": "markdown",
   "metadata": {},
   "source": [
    "Now image we would like to retrieve data for multiple years for the state Idaho. In Python this is very simple, but we have to extend our syntax to properly understand how."
   ]
  },
  {
   "cell_type": "code",
   "execution_count": null,
   "metadata": {
    "collapsed": true
   },
   "outputs": [],
   "source": [
    "queries = [] # define a variable where you will store all your queries\n",
    "for year in [1865,1885,1905]:  # loop over these years\n",
    "    query = url.format('Idaho',year) # formulate queriy\n",
    "    queries.append(query) # store it in the queries variable using .append()\n",
    "print(queries) # done! print! copy paste one of the elements to see if this worked..."
   ]
  },
  {
   "cell_type": "markdown",
   "metadata": {},
   "source": [
    "So let's turn to list objects!"
   ]
  },
  {
   "cell_type": "markdown",
   "metadata": {},
   "source": [
    "# 6. Lists"
   ]
  },
  {
   "cell_type": "markdown",
   "metadata": {},
   "source": [
    "Lists resemble strings: both are a **sequence** of values. But whereas a string was a sequence of characters, a list can contain values of any type. These values we call **elements** or **items**."
   ]
  },
  {
   "cell_type": "code",
   "execution_count": null,
   "metadata": {
    "collapsed": true
   },
   "outputs": [],
   "source": [
    "this_is_a_string = 'Hello Newman'\n",
    "this_is_a_list = ['Hello','Jerry',42,3.1415]"
   ]
  },
  {
   "cell_type": "markdown",
   "metadata": {},
   "source": [
    "Consider the first sentence (represented as a string) from Franz Kafka's book 'The Trial'. Image for a moment we would have assigned the whole book to the `trial` variable."
   ]
  },
  {
   "cell_type": "code",
   "execution_count": null,
   "metadata": {
    "collapsed": true
   },
   "outputs": [],
   "source": [
    "trial = \"Someone must have slandered Josef K., for one morning, without having done anything truly wrong, he was arrested. \""
   ]
  },
  {
   "cell_type": "markdown",
   "metadata": {},
   "source": [
    "**A string is a sequence of characters.**\n",
    "\n",
    "How can we select specific words from this book? It might seem  natural for us to describe the sentence as a series of words, rather than a series of characters. Say, we want to access the first word in our sentence. If we enter:"
   ]
  },
  {
   "cell_type": "code",
   "execution_count": null,
   "metadata": {
    "collapsed": true
   },
   "outputs": [],
   "source": [
    "first_word = trial[0]\n",
    "print(first_word)"
   ]
  },
  {
   "cell_type": "markdown",
   "metadata": {},
   "source": [
    "Here we used index notation. The variable name followed by square brackets which contains a number. \n",
    "\n",
    "The notation `variable_name[n]`: can be read as: give me the n-th element of the variable called `variable name`."
   ]
  },
  {
   "cell_type": "markdown",
   "metadata": {},
   "source": [
    "### --Exercise--\n",
    "\n",
    "Print the second and last character of the `trial` string.\n",
    "\n",
    "TIP: the last character has position `-1` in Python syntax."
   ]
  },
  {
   "cell_type": "code",
   "execution_count": null,
   "metadata": {
    "collapsed": true
   },
   "outputs": [],
   "source": [
    "# Exercise"
   ]
  },
  {
   "cell_type": "markdown",
   "metadata": {},
   "source": [
    "### --Exercise--\n",
    "\n",
    "Can you print the penultimate character?"
   ]
  },
  {
   "cell_type": "code",
   "execution_count": null,
   "metadata": {
    "collapsed": true
   },
   "outputs": [],
   "source": [
    "# Exercise"
   ]
  },
  {
   "cell_type": "markdown",
   "metadata": {},
   "source": [
    "**`.split()` converts this string to a list of words.**\n",
    "\n",
    "Python only prints the first character of our sentence. We can, however, transform our sentence into **a list of words** using the `.split()` function as follows:"
   ]
  },
  {
   "cell_type": "code",
   "execution_count": null,
   "metadata": {
    "collapsed": true
   },
   "outputs": [],
   "source": [
    "words = trial.split()\n",
    "print(words)"
   ]
  },
  {
   "cell_type": "markdown",
   "metadata": {},
   "source": [
    "The variable `trial` now holds the first line of Kafka's Trial as a **list**. Each element in this list is now (approximately) a **word**. Run the code below to see the difference."
   ]
  },
  {
   "cell_type": "code",
   "execution_count": null,
   "metadata": {
    "collapsed": true
   },
   "outputs": [],
   "source": [
    "first_word = words[0]\n",
    "print(first_word)"
   ]
  },
  {
   "cell_type": "markdown",
   "metadata": {},
   "source": [
    "### --Exercise--\n",
    "\n",
    "- Count the number of words in the `trial` string.\n",
    "- Print the second and the last word."
   ]
  },
  {
   "cell_type": "markdown",
   "metadata": {},
   "source": [
    "## Creating a list: the basic rules \n",
    "\n",
    "`.split()` transforms a string to a list. But we can also create lists manually.\n",
    "\n",
    "To store an empty list in variable `x`, simply assign `x` to ``[]`` (square brackets)."
   ]
  },
  {
   "cell_type": "code",
   "execution_count": null,
   "metadata": {
    "collapsed": true
   },
   "outputs": [],
   "source": [
    "# create an empty list\n",
    "x = []\n",
    "print(x)"
   ]
  },
  {
   "cell_type": "markdown",
   "metadata": {},
   "source": [
    "Defining an empty list may seem useless at first, but it's not. Actually we are defining here a variable in which we want to collect information--save it for later. \n",
    "\n",
    "We will do this often later on in this course."
   ]
  },
  {
   "cell_type": "markdown",
   "metadata": {},
   "source": [
    "We can also create lists with some content: enclose the individual items within square brackets, separated by a comma."
   ]
  },
  {
   "cell_type": "code",
   "execution_count": null,
   "metadata": {
    "collapsed": true
   },
   "outputs": [],
   "source": [
    "my_grades = [8,9,6,7]\n",
    "print(my_grades)\n",
    "my_garbage = ['Potatoe',[1,2,3],9.03434,'frogs']\n",
    "print(my_garbage)"
   ]
  },
  {
   "cell_type": "markdown",
   "metadata": {},
   "source": [
    "### General rules:\n",
    "* Lists are surrounded by square brackets and the elements in the list are separated by commas\n",
    "* A list element can be **any Python object** - even another list (e.g. * List can be an collection of numbers, strings, floats (or a combination thereof))\n",
    "* A list can store values with different types\n",
    "* A list can be empty"
   ]
  },
  {
   "cell_type": "markdown",
   "metadata": {},
   "source": [
    "### --Exercise--\n",
    "\n",
    "Create a list manually, select your three favorite artists/composers, whatever, and put them in one list."
   ]
  },
  {
   "cell_type": "code",
   "execution_count": null,
   "metadata": {
    "collapsed": true
   },
   "outputs": [],
   "source": [
    "# put your code here"
   ]
  },
  {
   "cell_type": "markdown",
   "metadata": {},
   "source": [
    "## Adding items to a list: concatenation and the `.append()` method"
   ]
  },
  {
   "cell_type": "markdown",
   "metadata": {},
   "source": [
    "Similar to strings, Python comes with specific operations (``*`` and ``+``) that you can apply to a list.\n",
    "\n",
    "The ``+`` operator **concatenates** lists. \n",
    "\n",
    "Can you guess what the variable `c` will look like?"
   ]
  },
  {
   "cell_type": "code",
   "execution_count": null,
   "metadata": {
    "collapsed": true
   },
   "outputs": [],
   "source": [
    "a = [1, 2, 3]\n",
    "b = [4, 5, 6]\n",
    "c = a + b"
   ]
  },
  {
   "cell_type": "code",
   "execution_count": null,
   "metadata": {
    "collapsed": true
   },
   "outputs": [],
   "source": [
    "# print variable c here"
   ]
  },
  {
   "cell_type": "markdown",
   "metadata": {},
   "source": [
    "Most of the crucial list functionalities are provided by the inbuilt list **methods** (**functions attached to the list object**). For an overview of the available methods run the code below (scroll down, for this course you can ignore the methods starting and ending with double underscores.)"
   ]
  },
  {
   "cell_type": "code",
   "execution_count": null,
   "metadata": {
    "collapsed": true
   },
   "outputs": [],
   "source": [
    "writers_list = []\n",
    "print(type(writers_list))"
   ]
  },
  {
   "cell_type": "markdown",
   "metadata": {},
   "source": [
    "We learn, unsurprisingle to that the variable a_list is of type `list`. Let's inspect the functionalities Python provides for working with lists."
   ]
  },
  {
   "cell_type": "code",
   "execution_count": null,
   "metadata": {
    "collapsed": true
   },
   "outputs": [],
   "source": [
    "help(list)"
   ]
  },
  {
   "cell_type": "markdown",
   "metadata": {},
   "source": [
    "**``append()`` adds other values to the list**\n",
    "\n",
    "The first method we encounter is ``append``. To see what this method does use the same `help` function as before"
   ]
  },
  {
   "cell_type": "code",
   "execution_count": null,
   "metadata": {
    "collapsed": true
   },
   "outputs": [],
   "source": [
    "help(list.append)"
   ]
  },
  {
   "cell_type": "markdown",
   "metadata": {},
   "source": [
    "`.append()` **adds new items** to the right end of a list. It has one argument and **returns `None`** (we come back to this a few blocks below)."
   ]
  },
  {
   "cell_type": "code",
   "execution_count": null,
   "metadata": {
    "collapsed": true
   },
   "outputs": [],
   "source": [
    "composer_list = ['J.S. Bach', 'W.A. Mozart', 'F. Mendelssohn']\n",
    "print(composer_list)\n",
    "composer_list.append('L. van Beethoven')\n",
    "print(composer_list)"
   ]
  },
  {
   "cell_type": "markdown",
   "metadata": {},
   "source": [
    "### --Exercise--\n",
    "add another composers to the `composer_list`"
   ]
  },
  {
   "cell_type": "code",
   "execution_count": null,
   "metadata": {
    "collapsed": true
   },
   "outputs": [],
   "source": [
    "# add your code here"
   ]
  },
  {
   "cell_type": "markdown",
   "metadata": {},
   "source": [
    "Functions in Python are generally divided into **fruitful** and **void** functions? `append` is a **void** function: similar to `print`, it performs an operation (adds one element to the list) but **returns nothing**. Understanding this distinction may help you tracing bugs in future code."
   ]
  },
  {
   "cell_type": "code",
   "execution_count": null,
   "metadata": {
    "collapsed": true
   },
   "outputs": [],
   "source": [
    "a = composer_list.append('J. des Prez')\n",
    "print(composer_list)\n",
    "print(a)"
   ]
  },
  {
   "cell_type": "markdown",
   "metadata": {},
   "source": [
    "The `append()` method is especially powerful in **a `for` loop**."
   ]
  },
  {
   "cell_type": "markdown",
   "metadata": {},
   "source": [
    "# 7. For-loops"
   ]
  },
  {
   "cell_type": "markdown",
   "metadata": {},
   "source": [
    "The code below shows a context in which the `append()` method is often applied. For example, we have structured data which lists song titles since the interwar year. Imagine, we want to study all songs about \"love\". \n",
    "\n",
    "But let's start with a simple example and return to Kafka."
   ]
  },
  {
   "cell_type": "code",
   "execution_count": null,
   "metadata": {
    "collapsed": true
   },
   "outputs": [],
   "source": [
    "trial = \"Someone must have slandered Josef K., for one morning, without having done anything truly wrong, he was arrested. \""
   ]
  },
  {
   "cell_type": "code",
   "execution_count": null,
   "metadata": {
    "collapsed": true
   },
   "outputs": [],
   "source": [
    "# split the string by white spaces\n",
    "words = trial.split()\n",
    "print(words)"
   ]
  },
  {
   "cell_type": "markdown",
   "metadata": {},
   "source": [
    "### Membership operators\n",
    "\n",
    "An easy way to check if a word apears in a sentence is the membership operator `in`."
   ]
  },
  {
   "cell_type": "code",
   "execution_count": null,
   "metadata": {
    "collapsed": true
   },
   "outputs": [],
   "source": [
    "'must' in words"
   ]
  },
  {
   "cell_type": "code",
   "execution_count": null,
   "metadata": {
    "collapsed": true
   },
   "outputs": [],
   "source": [
    "print('\"must\" in words? ','must' in words)\n",
    "print('\"lalalala\" in words? ','lalalala' in words)"
   ]
  },
  {
   "cell_type": "markdown",
   "metadata": {},
   "source": [
    "Ok, now we have a list with the indvidual words. We can iterate over this list with a `for` loop. Let's loop over the words and print each of the individually in upper case and with exclamation marks!!!!"
   ]
  },
  {
   "cell_type": "code",
   "execution_count": null,
   "metadata": {
    "collapsed": true
   },
   "outputs": [],
   "source": [
    "for word in words:\n",
    "    print(word.upper()+'!!!')"
   ]
  },
  {
   "cell_type": "markdown",
   "metadata": {},
   "source": [
    "### --Exercise--"
   ]
  },
  {
   "cell_type": "markdown",
   "metadata": {},
   "source": [
    "The conditional expression `if` allows us to manipulate the behaviour of the `for` loop.\n",
    "\n",
    "For example we can only uppercase words that start with 'a'."
   ]
  },
  {
   "cell_type": "code",
   "execution_count": null,
   "metadata": {},
   "outputs": [],
   "source": [
    "for w in trial.lower().split():\n",
    "    if w.startswith('a'):\n",
    "        print(w.upper()+ '!!!') \n",
    "    else:\n",
    "        print(w)"
   ]
  },
  {
   "cell_type": "markdown",
   "metadata": {},
   "source": [
    "Now adapt the previous code and uppercase all words ending with \"ly\".\n",
    "\n",
    "HINT: you can use the `.endswith()` method."
   ]
  },
  {
   "cell_type": "code",
   "execution_count": null,
   "metadata": {
    "collapsed": true
   },
   "outputs": [],
   "source": [
    "# Exercise"
   ]
  },
  {
   "cell_type": "markdown",
   "metadata": {},
   "source": [
    "### --Exercise--\n",
    "\n",
    "Print the length of the words in the sentence variable."
   ]
  },
  {
   "cell_type": "code",
   "execution_count": null,
   "metadata": {
    "collapsed": true
   },
   "outputs": [],
   "source": [
    "for  in :\n",
    "   print(...)"
   ]
  },
  {
   "cell_type": "markdown",
   "metadata": {},
   "source": [
    "For sure, we could have done this manually, and obtain the same result (as shown below)."
   ]
  },
  {
   "cell_type": "code",
   "execution_count": null,
   "metadata": {
    "collapsed": true
   },
   "outputs": [],
   "source": [
    "print(len(words[0]))\n",
    "print(len(words[1]))\n",
    "print(len(words[2]))\n",
    "print(len(words[3]))\n",
    "print('...')\n",
    "print('etc.  till the end.')\n",
    "print('...')\n",
    "print(len(words[-4]))\n",
    "print(len(words[-3]))\n",
    "print(len(words[-2]))\n",
    "print(len(words[-1]))"
   ]
  },
  {
   "cell_type": "markdown",
   "metadata": {},
   "source": [
    "But you have to agree that the above example is more elegant and concise. Also, applying the example below to a list 100.000 items or more, would be very time consuming. What is the benefit of having a fast computer if you have to enter everything manually?"
   ]
  },
  {
   "cell_type": "markdown",
   "metadata": {},
   "source": [
    "Python provides the so-called `for`-statements that allow us to **loop** through any **(iterable) object** and perform actions on each element. \n",
    "\n",
    "The basic syntax of a `for`-statement is: \n",
    "\n",
    "    for x in iterable:\n",
    "        ...do something with x...\n",
    "\n",
    "That reads almost like English! "
   ]
  },
  {
   "cell_type": "markdown",
   "metadata": {},
   "source": [
    "The `for` loop might still confusing at first. Let's have a closer look at a simple example: "
   ]
  },
  {
   "cell_type": "code",
   "execution_count": null,
   "metadata": {
    "collapsed": true
   },
   "outputs": [],
   "source": [
    "names = ['John', 'Anna', 'Bert']\n",
    "for name in names:\n",
    "    print(name)"
   ]
  },
  {
   "cell_type": "markdown",
   "metadata": {},
   "source": [
    "The `name` variable is not explicitly assigned in advance. It acts somewhat as a **placeholder**, and is assigned to each element in the list in turn (as the `print()` statement suggests). \n",
    "\n",
    "You are **free to choose the name** of this variable, but it has to be consistent in the indented block below."
   ]
  },
  {
   "cell_type": "code",
   "execution_count": null,
   "metadata": {
    "collapsed": true
   },
   "outputs": [],
   "source": [
    "names = ['John', 'Anna', 'Bert']\n",
    "for LALALALALA in names:\n",
    "    print(LALALALALA)"
   ]
  },
  {
   "cell_type": "markdown",
   "metadata": {},
   "source": [
    "... this works just fine but is less readable."
   ]
  },
  {
   "cell_type": "markdown",
   "metadata": {},
   "source": [
    "### Indentation\n",
    "\n",
    "Note the tab (or white space) after the colon. This is called **[indentation](http://www.diveintopython.net/getting_to_know_python/indenting_code.html)** and is part of Python syntax. Try removing it, and see what happens..."
   ]
  },
  {
   "cell_type": "markdown",
   "metadata": {},
   "source": [
    "Now, we can make a simple program that stores the word length of each word in a `word_lengths` list."
   ]
  },
  {
   "cell_type": "code",
   "execution_count": null,
   "metadata": {
    "collapsed": true
   },
   "outputs": [],
   "source": [
    "# Initialize and empty list, in which we will store all word lengths\n",
    "word_lengths = []\n",
    "# now we iterate over the iterable (i.e. list) called words\n",
    "for word in words:\n",
    "    # get the name of the word\n",
    "    var = len(word)\n",
    "    # append it to the list\n",
    "    word_lengths.append(var)\n",
    "\n",
    "print(word_lengths)"
   ]
  },
  {
   "cell_type": "markdown",
   "metadata": {},
   "source": [
    "We could make the previous code a bit more concise:"
   ]
  },
  {
   "cell_type": "code",
   "execution_count": null,
   "metadata": {
    "collapsed": true
   },
   "outputs": [],
   "source": [
    "# Initialize and empty list, in which we will store all word lengths\n",
    "word_lengths = []\n",
    "# now we iterate over the iterable (i.e. list) called words\n",
    "for word in words:\n",
    "    word_lengths.append(len(word))\n",
    "\n",
    "print(word_lengths)"
   ]
  },
  {
   "cell_type": "markdown",
   "metadata": {},
   "source": [
    "### --Exercise--"
   ]
  },
  {
   "cell_type": "markdown",
   "metadata": {},
   "source": [
    "Now we can put everything together and make a simple programme that collects all songs about 'love'. \n",
    "We use the [Million Song database](\n",
    "https://labrosa.ee.columbia.edu/millionsong/sites/default/files/AdditionalFiles/tracks_per_year.txt)\n",
    "\n",
    "Below follows a step-by-step guide, but I left out some code. Please complete where necessary."
   ]
  },
  {
   "cell_type": "markdown",
   "metadata": {},
   "source": [
    "**A.** Retrieve the data with `requests` (this can take a while)."
   ]
  },
  {
   "cell_type": "code",
   "execution_count": null,
   "metadata": {
    "collapsed": true
   },
   "outputs": [],
   "source": [
    "import requests\n",
    "url = 'https://labrosa.ee.columbia.edu/millionsong/sites/default/files/AdditionalFiles/tracks_per_year.txt'\n",
    "#small data set for those with a slower laptop/computer\n",
    "#url = ‘https://raw.githubusercontent.com/kasparvonbeelen/Coding-the-Humanities/master/lecture2/subsample.txt’\n",
    "data = requests.get(url).text.strip() # download the song titles"
   ]
  },
  {
   "cell_type": "markdown",
   "metadata": {},
   "source": [
    "**B.** Create an empty list and define your query."
   ]
  },
  {
   "cell_type": "code",
   "execution_count": null,
   "metadata": {
    "collapsed": true
   },
   "outputs": [],
   "source": [
    "search = # define the query string\n",
    "love_song = # create an empty list"
   ]
  },
  {
   "cell_type": "markdown",
   "metadata": {},
   "source": [
    "**C.** split the data by row. There should be 515576 rows."
   ]
  },
  {
   "cell_type": "code",
   "execution_count": null,
   "metadata": {
    "collapsed": true
   },
   "outputs": [],
   "source": [
    "rows = data.split('\\n')\n",
    "print(len(rows) == 515576)"
   ]
  },
  {
   "cell_type": "code",
   "execution_count": null,
   "metadata": {
    "collapsed": true
   },
   "outputs": [],
   "source": [
    "for row in rows:\n",
    "    cells = # split the row into a list called cells, split on the <SEP> sequence\n",
    "    title = cells[]  # the fifth element in the list is the title\n",
    "    title_lower = # convert capitals in the string to lowercase characters\n",
    "    words =  # split the title string into words\n",
    "    if search in words  : # print string if it contains the search term and is older than 1960\n",
    "        love_song.append(title)"
   ]
  },
  {
   "cell_type": "markdown",
   "metadata": {},
   "source": [
    "There should be 13844 in `love_song` variable."
   ]
  },
  {
   "cell_type": "code",
   "execution_count": null,
   "metadata": {
    "collapsed": true
   },
   "outputs": [],
   "source": [
    "print(len(love_song)==13844)"
   ]
  },
  {
   "cell_type": "markdown",
   "metadata": {},
   "source": [
    "Let's print the first 100."
   ]
  },
  {
   "cell_type": "code",
   "execution_count": null,
   "metadata": {
    "collapsed": true
   },
   "outputs": [],
   "source": [
    "print(love_song[:100])"
   ]
  },
  {
   "cell_type": "markdown",
   "metadata": {},
   "source": [
    "### --Exercise--\n",
    "\n",
    "- Put all the code together in one code block. \n",
    "- Can you find all the songs on \"hate\" in the song title database?\n",
    "- Is \"love\" more popular a topic than \"hate\"? "
   ]
  },
  {
   "cell_type": "code",
   "execution_count": null,
   "metadata": {
    "collapsed": true
   },
   "outputs": [],
   "source": [
    "# add you code here"
   ]
  },
  {
   "cell_type": "markdown",
   "metadata": {},
   "source": [
    "# 8. Dictionaries"
   ]
  },
  {
   "cell_type": "markdown",
   "metadata": {},
   "source": [
    "Dictionaries are a **mapping from keys to values**. In this way a dictionary resembles a \"real\" dictionary that associates lemmas with definitions. \n",
    "\n",
    "In Python this looks as follows:"
   ]
  },
  {
   "cell_type": "code",
   "execution_count": null,
   "metadata": {
    "collapsed": true
   },
   "outputs": [],
   "source": [
    "dictionary = {\n",
    "    'bird':'a warm-blooded egg-laying vertebrate animal...',\n",
    "    'feather':\"Any of the flat appendages growing from a bird's skin and forming its plumage\",\n",
    "    'plumage':\"a bird's feathers collectively\"\n",
    "}"
   ]
  },
  {
   "cell_type": "markdown",
   "metadata": {},
   "source": [
    "... and we can easily find a definition by the lemma"
   ]
  },
  {
   "cell_type": "code",
   "execution_count": null,
   "metadata": {
    "collapsed": true
   },
   "outputs": [],
   "source": [
    "print(dictionary['bird'])"
   ]
  },
  {
   "cell_type": "markdown",
   "metadata": {},
   "source": [
    "Note the **square brackets**! (looks similar to the index notation for lists)"
   ]
  },
  {
   "cell_type": "markdown",
   "metadata": {},
   "source": [
    "*Dictionaries* provide you with the data structure that makes looking up values by keys exceptionally easy.\n",
    "With *lists* you can only look up elements by position. \n",
    "\n",
    "Let's give another example: a mapping from names to numbers is saved in the variable `telephone_numbers`."
   ]
  },
  {
   "cell_type": "code",
   "execution_count": null,
   "metadata": {
    "collapsed": true
   },
   "outputs": [],
   "source": [
    "telephone_numbers = {'Frank': 4334030, 'Susan': 400230, 'Guido': 487239}\n",
    "print(telephone_numbers)"
   ]
  },
  {
   "cell_type": "markdown",
   "metadata": {},
   "source": [
    "What is Susan's phone number?\n",
    "\n",
    "In Pyhon you can easily look-up a value (the element after the `\":\"`) by entering a key (the element before the `\":\"`) in a dictionary."
   ]
  },
  {
   "cell_type": "markdown",
   "metadata": {},
   "source": [
    "... and now print Susan's telephone number:"
   ]
  },
  {
   "cell_type": "code",
   "execution_count": null,
   "metadata": {
    "collapsed": true
   },
   "outputs": [],
   "source": [
    "print(telephone_numbers['Susan'])"
   ]
  },
  {
   "cell_type": "markdown",
   "metadata": {},
   "source": [
    "### --Exercise--\n",
    "\n",
    "Add you own name to `telephone_numbers` and print it."
   ]
  },
  {
   "cell_type": "code",
   "execution_count": null,
   "metadata": {
    "collapsed": true
   },
   "outputs": [],
   "source": [
    "# add you name to the telephone_numbers dictionary"
   ]
  },
  {
   "cell_type": "code",
   "execution_count": null,
   "metadata": {
    "collapsed": true
   },
   "outputs": [],
   "source": [
    "# print your number by entering your name as a key"
   ]
  },
  {
   "cell_type": "markdown",
   "metadata": {},
   "source": [
    "## Creating a dictionary\n",
    "\n",
    "* a dictionary is surrounded by **curly brackets** \n",
    "\n",
    "* a dictionary consists of one or more **key:value pairs**, the key is the 'identifier' or \"name\" that is used to describe the value.\n",
    "* the **keys** in a dictionary are **unique**\n",
    "* the syntax for a key/value pair is: `key : value`\n",
    "* and the **key/value** pairs (i.e. **items**) are separated by **commas**.\n",
    "* the keys (e.g. 'Frank') in a dictionary have to be **immutable**\n",
    "* the values (e.g. 8) in a dictionary can by **any python object**\n",
    "* a dictionary can be empty\n"
   ]
  },
  {
   "cell_type": "markdown",
   "metadata": {},
   "source": [
    "### Some examples:"
   ]
  },
  {
   "cell_type": "markdown",
   "metadata": {},
   "source": [
    "An empty dictionary:"
   ]
  },
  {
   "cell_type": "code",
   "execution_count": null,
   "metadata": {
    "collapsed": true
   },
   "outputs": [],
   "source": [
    "x = {}"
   ]
  },
  {
   "cell_type": "markdown",
   "metadata": {},
   "source": [
    "A mapping between English and German words:"
   ]
  },
  {
   "cell_type": "code",
   "execution_count": null,
   "metadata": {
    "collapsed": true
   },
   "outputs": [],
   "source": [
    "english2deutsch = {'ambulance':'Krankenwagen',\n",
    "                  'clever':'klug',\n",
    "                  'concrete':'Beton'}"
   ]
  },
  {
   "cell_type": "markdown",
   "metadata": {},
   "source": [
    "### -- Optional Exercise--\n",
    "\n",
    "Make dictionary which maps three cities to the size of their population. Call it `city2population`."
   ]
  },
  {
   "cell_type": "code",
   "execution_count": null,
   "metadata": {
    "collapsed": true
   },
   "outputs": [],
   "source": [
    "city2population = #add your code here"
   ]
  },
  {
   "cell_type": "markdown",
   "metadata": {},
   "source": [
    "## Optional: Adding items to a dictionary\n",
    "\n",
    "There is one very simple way in order to add a **key:value** pair to a dictionary. Please look at the following code snippet:"
   ]
  },
  {
   "cell_type": "code",
   "execution_count": null,
   "metadata": {
    "collapsed": true
   },
   "outputs": [],
   "source": [
    "english2deutsch = dict()\n",
    "#or try english2deutsch = {}\n",
    "print(english2deutsch)"
   ]
  },
  {
   "cell_type": "code",
   "execution_count": null,
   "metadata": {
    "collapsed": true
   },
   "outputs": [],
   "source": [
    "english2deutsch['one'] = 'einz'\n",
    "english2deutsch['two'] = 'zwei'\n",
    "english2deutsch['three'] = 'drei'\n",
    "print(english2deutsch)"
   ]
  },
  {
   "cell_type": "markdown",
   "metadata": {},
   "source": [
    "### --Exercise--\n",
    "\n",
    "The previous notation is useful in combination with a `for` loop. We can for example map words to their position in a text.\n",
    "\n",
    "Let's return to Kafka."
   ]
  },
  {
   "cell_type": "code",
   "execution_count": null,
   "metadata": {
    "collapsed": true
   },
   "outputs": [],
   "source": [
    "trial = \"Someone must have slandered Josef K., for one morning, without having done anything truly wrong, he was arrested. \""
   ]
  },
  {
   "cell_type": "code",
   "execution_count": null,
   "metadata": {
    "collapsed": true
   },
   "outputs": [],
   "source": [
    "# split the sentence into words"
   ]
  },
  {
   "cell_type": "markdown",
   "metadata": {},
   "source": [
    "To simplify things, we can use the `enumerate()` function, which loops over an object and keeps track of the location of items in a list."
   ]
  },
  {
   "cell_type": "code",
   "execution_count": null,
   "metadata": {
    "collapsed": true
   },
   "outputs": [],
   "source": [
    "x = ['a','b','c','d']\n",
    "for count,item in enumerate(x):\n",
    "    print(count,item)"
   ]
  },
  {
   "cell_type": "markdown",
   "metadata": {},
   "source": [
    "We can loop over the sentence, and map each index to a word. Complete the code by replacing the question marks."
   ]
  },
  {
   "cell_type": "code",
   "execution_count": null,
   "metadata": {
    "collapsed": true
   },
   "outputs": [],
   "source": [
    "position2word # create empty dictionary\n",
    "for ??,?? in ??:\n",
    "    position2word[??] = ??\n",
    "    \n",
    "print(position2word)\n",
    "# get word at position nine"
   ]
  },
  {
   "cell_type": "markdown",
   "metadata": {},
   "source": [
    "## Iterating over dictionaries"
   ]
  },
  {
   "cell_type": "markdown",
   "metadata": {},
   "source": [
    "Since dictionaries are iterable objects, we can iterate through our good reads collection as well. This will iterate over the *keys* of a dictionary:"
   ]
  },
  {
   "cell_type": "code",
   "execution_count": null,
   "metadata": {
    "collapsed": true
   },
   "outputs": [],
   "source": [
    "good_reads = {\"The Magic Mountain\":9,\n",
    "             \"The Idiot\":7,\n",
    "             \"Don Quixote\": 9.5}\n",
    "\n",
    "for book in good_reads:\n",
    "    print(book)"
   ]
  },
  {
   "cell_type": "markdown",
   "metadata": {},
   "source": [
    "To iterate over the key-value pairs use the `.items()` method."
   ]
  },
  {
   "cell_type": "code",
   "execution_count": null,
   "metadata": {
    "collapsed": true
   },
   "outputs": [],
   "source": [
    "for book,score in good_reads.items():\n",
    "    print(book,score)"
   ]
  },
  {
   "cell_type": "markdown",
   "metadata": {},
   "source": [
    "#### Exercise\n",
    "\n",
    "Print the English words and their German translation by iterating over the items of the english2deutsch dictionary."
   ]
  },
  {
   "cell_type": "code",
   "execution_count": null,
   "metadata": {
    "collapsed": true
   },
   "outputs": [],
   "source": [
    "# add you code here"
   ]
  },
  {
   "cell_type": "markdown",
   "metadata": {},
   "source": [
    "# 9. JSON"
   ]
  },
  {
   "cell_type": "markdown",
   "metadata": {},
   "source": [
    "The data retrieved from the Chronicling America API is a [JSON](https://en.wikipedia.org/wiki/JSON) file in which each item contains a few newspapers from a different state. Copy paste the printout below and go to the [JSON viewer](http://jsonviewer.stack.hu/) the inspect the docoment.\n",
    "\n",
    "As you'll see, the JSON object combines Python lists and dictionaries. As it is a very common data type, Python has some libraries to process and read JSON data."
   ]
  },
  {
   "cell_type": "code",
   "execution_count": null,
   "metadata": {
    "collapsed": true
   },
   "outputs": [],
   "source": [
    "idaho = json.load(open('./idaho_example.json'))"
   ]
  },
  {
   "cell_type": "code",
   "execution_count": null,
   "metadata": {
    "collapsed": true
   },
   "outputs": [],
   "source": [
    "print(json.dumps(idaho))"
   ]
  },
  {
   "cell_type": "markdown",
   "metadata": {},
   "source": [
    "### --Exercise--\n",
    "\n",
    "Explore the JSON file."
   ]
  },
  {
   "cell_type": "markdown",
   "metadata": {},
   "source": [
    "### --Exercise--\n",
    "\n",
    "Can you print the first title?"
   ]
  },
  {
   "cell_type": "code",
   "execution_count": null,
   "metadata": {
    "collapsed": true
   },
   "outputs": [],
   "source": [
    "# Add you code here"
   ]
  },
  {
   "cell_type": "markdown",
   "metadata": {},
   "source": [
    "### --Exercise--\n",
    "\n",
    "Can you print the number of words (approximetaly) in the fourth article (hidden under key 'ocr_eng')?"
   ]
  },
  {
   "cell_type": "code",
   "execution_count": null,
   "metadata": {
    "collapsed": true
   },
   "outputs": [],
   "source": [
    "# Add you code here"
   ]
  },
  {
   "cell_type": "markdown",
   "metadata": {},
   "source": [
    "## We are DONE for today. Congratulations!"
   ]
  }
 ],
 "metadata": {
  "kernelspec": {
   "display_name": "Python 3",
   "language": "python",
   "name": "python3"
  },
  "language_info": {
   "codemirror_mode": {
    "name": "ipython",
    "version": 3
   },
   "file_extension": ".py",
   "mimetype": "text/x-python",
   "name": "python",
   "nbconvert_exporter": "python",
   "pygments_lexer": "ipython3",
   "version": "3.6.3"
  }
 },
 "nbformat": 4,
 "nbformat_minor": 2
}
