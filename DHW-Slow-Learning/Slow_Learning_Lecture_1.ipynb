{
 "cells": [
  {
   "cell_type": "markdown",
   "metadata": {},
   "source": [
    "# -1. Disclaimer\n",
    "-- Many of the materials are gently stolen from the following courses: \n",
    "- **[\"A Python Course for the Humanities\"](https://github.com/fbkarsdorp/python-course)** a course designed by Folgert Karsdorp and Maarten van Gompel\n",
    "- and later modified by Mike Kestemont and Lars Wieneke for the course **[\"Programming for Linguistics and Literature\"](https://github.com/mikekestemont/prog1617)**\n",
    "- **[\"Python for text analysis\"](https://github.com/cltl/python-for-text-analysis)** designed by H.D. van der Vliet and taught at the Vrije Universiteit\n",
    "- **[\"How to Think Like a Computer Scientist\"](http://www.greenteapress.com/thinkpython/thinkCSpy.pdf)** by Allen Downey, Jeffrey Elkner, Chris Meyers\n",
    "- **[\"The Programming Historian\"](https://programminghistorian.org/en/lessons)**: [\"Fetch and Parse Data with OpenRefine\"](https://programminghistorian.org/en/lessons/fetch-and-parse-data-with-openrefine) (by Evan P. Williamson) and [\"Manipulating Strings in Python\"](https://programminghistorian.org/en/lessons/manipulating-strings-in-python) by William J. Turkel and Adam Crymble"
   ]
  },
  {
   "cell_type": "markdown",
   "metadata": {},
   "source": [
    "# 0. Before we kick off: Installing Jupyter Notebook\n",
    "\n",
    "- Download Anaconda: https://www.anaconda.com/download\n",
    "        Select the Python 3.6 Version\n",
    "        Follow the installation instructions\n",
    "- Download the Notebook and data [here](https://drive.google.com/drive/folders/1wIJ1hPu1BSg2_ocf5k-jcBqN1WZGJiSW?usp=sharing)\n",
    "        Open Anaconda Navigator\n",
    "        Launch Jupyter Notebook\n",
    "        This should open a tab in your browser\n",
    "        Go to the location where you cloned/unzipped the material downloaded from Github"
   ]
  },
  {
   "cell_type": "markdown",
   "metadata": {},
   "source": [
    "# 1. Philosophy of the Course"
   ]
  },
  {
   "cell_type": "markdown",
   "metadata": {},
   "source": [
    "- **We have time...** (if we don't get everything done, we just add an extra lesson)\n",
    "- Coding is **not** difficult, but obtaining basic programming skills requires a **sustained effort**.\n",
    "- With only a few basic skills you can go a long way (writing scripts vs. developping tools).\n",
    "- We skip some of the details, but hope you get a feeling for what is possible, and why coding could be useful for your research.\n",
    "- The full course is available [here](https://github.com/kasparvonbeelen/Coding-the-Humanities) "
   ]
  },
  {
   "cell_type": "markdown",
   "metadata": {},
   "source": [
    "### 1.1 The Language of Choice: Python\n",
    "\n",
    "#### **What** is Python?\n",
    "\n",
    "[From Wikipedia](https://en.wikipedia.org/wiki/Python_(programming_language): Python is a widely used **high-level** programming language for **general-purpose** programming.\n",
    "- ** high-level programming language**: In computer science, a high-level programming language is a programming language with **strong abstraction from the details of the computer**. In comparison to low-level programming languages, it may use **natural language elements**, be easier to use, or may **automate** (or even **hide** entirely) significant areas of computing systems (e.g. memory management), making the process of developing a program simpler and more understandable relative to a lower-level language. The amount of **abstraction** provided defines how \"high-level\" a programming language is.\n",
    "\n",
    "\n",
    "#### **Why** Python?\n",
    "\n",
    "In general, Python is **easier to learn and to read**. The first example in this Notebook (`print('Hello, World.')`) illustrates this point. The C++ version of the \"Hello World\" program would look like this:\n",
    "\n",
    "C++ code below:\n",
    "``\n",
    "#include <iostream.h>\n",
    "\n",
    "void main()\n",
    "\n",
    "{\n",
    "    \n",
    "    cout << \"Hello, world.\" << endl;\n",
    "\n",
    "}\n",
    "\n",
    "``\n",
    "\n",
    "End of C++ code.\n",
    "\n",
    "while in Python version it simply was:\n",
    "\n",
    "``\n",
    "print(\"Hello, world.\")\n",
    "``\n",
    "\n",
    "So, why **Python**:\n",
    "\n",
    "- Software **Quality**: Python code is designed to be **readable**, and hence reusable and maintainable. \n",
    "- Developer **Productivity**: Python code is typically one-third to one-fifth the size of C++ or Java code. \n",
    "- **Portability**: Python code runs unchanged on all major computer platforms (Windows, Linux, MacOS). \n",
    "- **General-purpose**: data analysis, web development etc.\n",
    "- **Support Libraries**: Standard, homegrown and third-party libraries.\n",
    "- **Widely used by the academic and scientific community!**"
   ]
  },
  {
   "cell_type": "markdown",
   "metadata": {},
   "source": [
    "# 2. Goal of Today's Lecture"
   ]
  },
  {
   "cell_type": "markdown",
   "metadata": {},
   "source": [
    "Today we focus on basic Python objects:\n",
    "- Strings\n",
    "- Lists\n",
    "- Dictionaries\n",
    "\n",
    "Tools for manipulating these objects:\n",
    "- String formatting\n",
    "- Appending items to a list\n",
    "- Exploring dictionaries and JSON Objects\n",
    "\n",
    "\n",
    "In general, the course shows how to collect and save data from the Web. In the following courses we turn to analysis of the retrieved data. "
   ]
  },
  {
   "cell_type": "markdown",
   "metadata": {},
   "source": [
    "At the end of the day, you should be able to **understand** most of the following code. For now, just try to run it by simultenously pressing `ctrl` and `enter`."
   ]
  },
  {
   "cell_type": "markdown",
   "metadata": {},
   "source": [
    "### 2.1. Real-world application of the elements we discuss today."
   ]
  },
  {
   "cell_type": "code",
   "execution_count": 2,
   "metadata": {},
   "outputs": [
    {
     "name": "stdout",
     "output_type": "stream",
     "text": [
      "['Idaho,1865', 'Montana,1865', 'Oregon,1865', 'Washington,1865']\n",
      "\n",
      "Downloaded 4 items.\n",
      "Done!\n",
      "\n"
     ]
    }
   ],
   "source": [
    "import requests # Import models, here a set of tools that help you donwloading data\n",
    "'''\n",
    "Script that retrieves data \"Chronicling America\" and stores information in a list.\n",
    "'''\n",
    "\n",
    "data = \"\"\"Idaho,1865\\nMontana,1865\\nOregon,1865\\nWashington,1865\"\"\" # Variable Assignment & Strings\n",
    "\n",
    "url = \"http://chroniclingamerica.loc.gov/search/pages/results/?state={0}&date1={1}&date2={1}&dateFilterType=yearRange&sequence=1&sort=date&rows=5&format=json\"\n",
    "# String formatting, Getting data from APIs\n",
    "\n",
    "all_data = [] # Empty Lists & Variable Assignment\n",
    "\n",
    "lines = data.split('\\n') # Split string (convert string to list)\n",
    "\n",
    "print(lines) # Printing the list\n",
    "\n",
    "for line in lines: # For loop \n",
    "    state,year = line.split(',') # Split string, multiple assignment\n",
    "    response = requests.get(url.format(state,year)).json() # Calling the API & download data\n",
    "    all_data.append(response) # Storing data in a variable\n",
    "\n",
    "print('\\nDownloaded {} items.\\nDone!\\n'.format(len(all_data)))"
   ]
  },
  {
   "cell_type": "code",
   "execution_count": 3,
   "metadata": {},
   "outputs": [
    {
     "name": "stdout",
     "output_type": "stream",
     "text": [
      "{\"totalItems\": 52, \"endIndex\": 5, \"startIndex\": 1, \"itemsPerPage\": 5, \"items\": [{\"sequence\": 1, \"county\": [\"Boise\"], \"edition\": null, \"frequency\": \"Weekly\", \"id\": \"/lccn/sn82015407/1865-01-07/ed-1/seq-1/\", \"subject\": [\"Boise County (Idaho)--Newspapers.\", \"Idaho City (Idaho)--Newspapers.\", \"Idaho--Boise County.--fast--(OCoLC)fst01219026\", \"Idaho--Idaho City.--fast--(OCoLC)fst01295399\"], \"city\": [\"Idaho City\"], \"date\": \"18650107\", \"title\": \"The Idaho world.\", \"end_year\": 1918, \"note\": [\"Archived issues are available in digital format from the Library of Congress Chronicling America online collection.\", \"Semiweekly eds.: Idaho semi-weekly world (Idaho City, Idaho : 1867), May 4, 1867-Nov. 11,1868 ; Idaho semi-weekly world (Idaho City, Idaho : 1875), July 30, 1875-June 15, 1908.\", \"Triweekly ed.: Idaho tri-weekly world, Mar. 14-July 27, 1875.\"], \"state\": [\"Idaho\"], \"section_label\": \"\", \"type\": \"page\", \"place_of_publication\": \"Idaho City, Idaho Territory\", \"start_year\": 1864, \"edition_label\": \"\", \"publisher\": \"I.H. Bowman & Co.\", \"language\": [\"English\"], \"alt_title\": [\"Idaho weekly world\"], \"lccn\": \"sn82015407\", \"country\": \"Idaho\", \"ocr_eng\": \"The Idaho World\\n\\\"THE NOBLEST MOTIVE IS THE ^PUBLIC GOOD.\\\"\\nVoll\\nIDAHO CITY, BOISE COUNTY, IDAHO TERRITORY, SATURDAY, JANUARY 7, 1865.\\nNo. 11.\\ndab World,\\nPUBLISHED EVERT SATURDAY MORNING BY\\nI. H. BOWMAN & CO.\\nH. C. STREET, Editor,\\nTERMS INVARIABLY in ADVANCE.\\nBates of Subscription s\\nOne year,..... - $12 00.\\nSix mort ha, ------- 7 00.\\nThree months, .------4 00.\\nSingle copies, ----- - - 60.\\nBates of Advertising s\\nPer square, ten lines or less, first insertion, : : : $5\\n\\u00ab \\u00ab \\\" \\\" \\\" each subsequent in. 2\\n\\u00ab \\u00ab \\u00ab \\\" \\\" three months, : : : 12\\n\\u2022* \\u00ab \\\" \\\" u one year, : : 40\\nAgents for the Idaho \\\"Worfd.\\nA. P. Turner, Carrier and General Agent, Idaho city.\\nTho8. Boyce, northeast corner Montgomery and Wash\\nington street, up stairs, San Francisco. Cal.\\nC. R. Street, Cal. Express office, Marysville, Cal.\\nS. J. McCormick, Portland, Oregon.\\nM. J. Allphin, Dalles city, Oregon.\\nCapt T Miller,\\u00b0 RAY '} Cat, y\\u00b0 n cit L Oregon.\\nA. H. Brown\\u2014W ells, Fargo k Co.'s agent, Auburn, Or.\\nPowell & Coe, Umatilla, Oregon.\\nA. A. Mix, Walla Walla.\\nW. W. Chapman, Jr., Pioneer city.\\nR. B. Wallace, Centerville.\\nM. B. Moore, Placerville.\\n8. L. Carr, Boise city.\\nC. L. GooDRicn. Rocky Bar.\\nH. 0. Purdy, Silver city, (Owyhee.)\\nW. Greenwell, Ruby city.\\nMY MOTHER'S GRAVE.\\nSUNG DY MR. JOHN KELLY.\\nWhere the valley brook is slowly creeping,\\nAnd the wood bird sings its lonely song,\\nWhere the willow boughs are sadly weeping,\\nWhere the sephyrs murmuring pass along\\nThere my gentle mother's form reposes,\\nDearly loved in chilehood's happy day.\\nAt the gajve I kneel 'mid clustering r^sos,\\nWeeping twilight's stilly hour away.\\nCan I 'mid the toils of life forget thee,\\nAngel guardian of my infant years 1\\nEvery care compels me to regret thee,\\nEvery smile is chased away by tears.\\nHoly precepts by thy lips were given,\\nHow I've kept them let my anguish own,\\nDearest mother, from thy home iu heaven,\\nLean down and listen to my anguished moan.\\nTELEGRAPHIC*\\nA letter is published from Sherman on\\nboard a gunboat in Ossabaw Sound, Dec. 13.\\nHe states that Gen. Haven's division assault*\\ned Fort McAllister on the 15th, and carried\\nit, capturiug the garrison and stores. This\\nopened the channel to the Sound, by which\\nbe communicated with the fleet. All the\\nrailroads leading into Savannah are destroy\\ned, and the city invested. The left is on the\\nSavannah River, 15 miles above the city, and\\nthe right on the Ogeechee, at King's Bridge,\\nSupplies are abuudant and the army in good\\ncondition. Two boats were captured on the\\nSavannah RiVer, preventing the rebel\\ngunboats from coming down. The estimated\\nm\\npopulation of Savannah is 25,000 : garrison,\\n15,000. Hardee is in command. He says he\\n\\\"destroyed over 200 miles of railroad, and\\nmany stores essential to Lee and Hood. He\\nconcludes by saying, *' 1 regard Savannah as\\nalready gained.\\\"\\nThe Herald's correspondent says Sherman's\\nentire loss from Atlanta to Savannah was\\nabout 1000\\u2014traveled about 12 miles per day.\\nThe fight around Nashville is still going\\non. It is reported that Wood is in Hood's\\nrear, and that the rebel forces at Franklin\\nwere retreating ; also rumored that Forrest\\n' was routed at Murfreesboro on the 15tb.\\nRichmond papers say Foster's raid on the\\nSaTannuh railroad was a failure, and that\\nSavannah is not invested. A proposition is\\nmade in Congress to tax all sales one per ct.,\\nwhich meets with favor. Copies of orders\\n</t Breckinridge are published, ordering his\\nmen to husband small arms, ammunition and\\nlead. A call and draft for 300,000 more\\ntroops has been made by the President . m Bur\\nbridge had a fight with Basil Duke's brigade,\\nformerly John Morgan's, in Tennessee, routing\\nhim and killing Dick Morgan, John Morgan's\\nbrother. A rebel rumor says Hood is to be\\nreinfprced by Price, Breckinridge and Ma\\ngruder. Forrest is near the Hermitage. Hood\\nhas fallen back from Nashville, and Thomas\\nis pressing him. Wilmington is supposed to\\nbe the point aimed at by tbe great expedition\\nfrom Hampton Roads. A letter from Lord\\nRussell says the British Government will\\ncontinue strictly neutral. Dayton, American\\nMinister at Paris, is dead. Semraes is on tbe\\nSea King, whose name is changed to Shenan\\ndoah. The vessel is heavily armed, and 1000\\ntons register and very fast.\\nThe Yreka Journal of December 9tb,\\u2014\\n\\u00abays it rained and snowed for the\\nthree weeks previous, and the country has\\nbeen under a flood, causing a great deal of\\ndamage. Scott river was difficult to cross ;\\nHumbug creek was a river, and Yreke creek\\nwas \\\"booming; Shasta Valley was flooded,\\nbat the bridge escaped destruction.\\nCol. Sam Mkuabt, one of Ohio's most no\\nble sons, and long tbe editor of the Ohio\\nCrisis, died at bis home, one day before the\\nPresidential election.\\nCANYON CITY PAPER-*.\\nBY XINN1R MYRTLE.\\nCHILL NOVEMBER.\\n\\\" Oh,\\\" says the owl, \\\" my head's so white !\\nWhat shall I do this live-long night?\\\"\\nSome \\\" dull corner\\\" of roy head has been\\nkeeping time to this little refrain all the eve\\nning and all the while I've been thinking\\n4 how glad I am not an owl 1 '\\nIt is a very stormy night. How the wind\\nsweeps down the narrow Cnfion ! bow madly\\nit besieges our little homes that we have\\nbuilded here for tbe sake of jobbing these\\nbarren old hills of their sepulchered god of\\nmen and women. The weather has been very\\nmuch akin to a Webfoot winter for the past\\nfew days. All day the streets have been\\nsloppy and the men hurrying along distress\\nedly, dripping and grumbling about the rain.\\nTo-night it is dolefully doleful.\\n*\\u2022 Heart-broken moans the homeless mind\\nAs if the whole world was unkind.\\\"\\nNovember is truly a month of sobrietiePj\\nof melancholy reveries of gentle memories,\\nof half regretful recollections ; it i3 not meet\\nfor giddy fancies, for joyous hopes or gay air\\npalaces.\\nWhen the winds and the rain are weeping\\nover us, we too bow our beads and bewail\\u2014\\nnot bitterly, but with a kind of satisfaction\\u2014\\nover our broken hopes and weep with the\\nNovember rain that the Summer blooms have\\nfaded. We say no more the high and hope\\nful things that once we said, but witb subdued\\nspirits we look back as if through blinding\\nrain to tbe misty scenes of the Past and\\nwhisper\\u2014\\\" it might bave been.\\\"\\nYes, \\\"it might have been.\\\" It might bave\\nbeen always Summer, tbe bright flowers\\nmight, never have faded, nor the gay leaves\\nperished. Fair brows might forever be fair,\\nand \\\" golden hair stay golden ; \\\" dancing\\nfeet might never lose their fleetness, norring\\ning voices their music ; buoyant youth might\\nuever collapse into old age,\\u2014nor hopeful\\nhearts, once warm and quick witb love and\\njoy, become tbe'borne of dull remorse and\\nchill-corroding care.\\nSitting here to-night listening to the storm\\nand somewhat blues-oppressed, l feel like\\ndoing a little wailing myself :\\nMY WAIL.\\nThe shadows are crouching and filling the room,\\nWithout the wild wind blows ;\\nAud I sit here in the silence and gloom\\u2014\\nThis is the life I chose.\\nAll day long while the chill rains fall,\\nI sit in my chamber and write, 4\\nAnd then with the darkness that covers all,\\nCome thronging the shadows at night.\\nI write of lovo and of broken hearts,\\nOf a rest that will come at last,\\nAnd smile to think of one I knew,\\nAway in the shining past.\\n\\u00bb\\n\\u2022To think how over his youthful face\\nThe death-white palor came,\\nWhen I told him that night in my gauze and lace,\\nI had bartered my Love for Fame. \\u2022\\nThere are voices away in the Long Ago,\\nThat could banish the shadows and pain.\\nBut tbe Past is laid in a sepulchre low\\u2014\\u00ab\\nIt never will come again.\\nLeave, cold shadows, my silent room,\\nCreep back from my empty heart;\\nLet the past be hid in the silent tomb,\\nLet the spectral shadow depart.\\n44 Deeply, darkly, beautifully blue,\\\"\\nThis is the life I chose,\\nSitting here in the silence and gloom\\u2014\\nWhere is the \\\"colour de rose ?\\\"\\nThere, I, have wailed my wail I Now for\\nsomething else.\\nTHE MINES.\\nAll flimsy fancies and idle poetical dream\\ning must give way at times to something\\npractical and bard. I know of no subject\\nmore practical than making money, and gold\\nis hard\\u2014bard to get, and hard to keep.\\nThe mines in this place, I believe, average\\nvery well. Some pay big, and some bigger;\\nsome pay little, and some less\\u2014and some not\\nat ail. This is the information I elicited from\\na friend of mine. I cannot speak from prac\\ntical knowledge, not being a miner myself.\\nA very good looking miner came in the\\nother evening with his gold pan, and said he\\nwanted to show me how much be had taken\\nfrom his claim that day. I think there was\\nabout a quart of tbe ponderous metal iu the\\npan. I offered to introduce him to a nice\\nImmigrant girl, but he did not seem to think\\nmuch of it.\\nCANYON CITY.\\nCa\\u00fcon City may be destined to become a\\ngreat city, and it may not. At any rate it is\\nimproving quite rapidly, and some very stylish\\nlittle houses are being erected. The Catholic\\nChurch is now completed. It is a neat ouild\\ning for a mining camp, and stands away up\\nun the hill overlooking the town like a guar\\ndian angel.\\n\\u2022 But for fear of trespassing on the columns\\nof your pretty little paper, I will bring my\\nletter to a close.\\nBy the way, we polled quite a nice little\\nmajority for McClellan here\\u2014or rather our\\nmeo did, us \\\"females\\\" of course having\\nnothing to do with it\\u2014but alas 1 it did no\\ngood.\\n\\u00ab^Advertisements, to insure insertion, must be band\\ned in os early as Thursday, and the number of insertions\\ndesired should be noted on the margin.\\nReligious Notices.\\u2014 Rev. Father A. Z.\\nPoulin will hold divine service at the St. Joseph Church,\\ncorner Commercial street and East Hill, every Sunday at\\n10% o'clock a. m.; vespers at 7 o'clock p. m.\\nRev. Father T. Mesplie, will hold divine service at Pla\\ncerville, at the St. Thomas Church, on the 1st Sunday in\\nJanuary, 1865, at 10 o'clock a. m. ; aud every third Sunday\\nthereafter at the same hour. Also, at the St. Dominic\\nChurch, at Centerville, on the second Sunday of January,\\n1865, at 10% o'clock a. m. : and every third Sunday there\\nafter. And, also, at. the St. Francis Church, in Pioneer,\\non the third Sunday in January. 1S65, at 10% o'clock a.\\nand every third Sunday thereafter\\u2014until further\\nnotice.\\nPioneer Lodge,\\nNo. 1, U. D., holds its regular\\nmeetings at the Masonic Hall, on\\nMonday evening of each week, at!\\n7 o'clock, p. M. Brothers in good\\nstanding are cordially invited to\\nattend.\\nM. ROSENBERG, N. G.\\nJohn Christie, Secretary.\\nI. O. O. F.\\nV\\nIdaho Lodge, No. 35, F. St\\nA. M., hold their regular meetings on Saturday\\nnight preceding the full moon of each month,\\nat Masonic Hall, corner of Wall and Montgom\\nry streets. Called meetings every Saturday\\nevening at 7 o'clock. S. S. RICE,\\n18tf Secretary.\\nyV\\n:aa\\nJ. K. SHAFER)\\nA TTORNEY AT LAW. Office- on the east\\nside of Montgomerj', near thu northeast\\ncomer of Wall aud Montgomery streets, and one\\ndoor Bouth of the Occidental Hotel, Idaho City.\\n[4tf]\\nH. MARTIN..\\n.. J. M. MURPHY.\\nMARTIN & MURPHY,\\nATTORNEYS AT LAW.\\nOffices at Idaho and Ruby cities.\\n2tf\\nFRANK MILLER. CHAS. C. DUDLEY.\\nMiller, & Dudley\\nATTORNEYS * COUNSELORS\\nAT LAW.\\nMontgomery streets,\\ns depot, Idaho city,\\n47 tf\\nOffice\\u2014South-west corner Wall aud Mon\\nnext door to Fronts A Co.'s Packer'\\nI. T.\\nW. R- K e i t h 1 y,\\n^ttnrnep at Cam.\\n93T OFFICE\\u2014Montgomery street near Wall,\\nIdaho City, Boise Conn*-. r 3otf\\nJ. B. Rosborough,\\nATTO R N E Y-A T-LAW.\\nO\\nFFICE\\u2014On Wall street, opposite Clerk's\\noffice, Idaho city.\\nE. F. GRAY,\\n.ATTORNEY AT LAW,\\nIdaho city. Wall street, Above Main,\\nvlnltf\\nCHARLES B. WAITE.\\nJOSEPH MILLER.\\ntoaite l \\u00dcliller,\\n\\u2022Attornevs-at-Law.\\nO FFICE on Montgomery street, 2d door north\\nof Hildreth's drugstore. 4ltf\\nGeo I. GUbert, : : Geo C. Hough,\\nNotary Public, Dist. attorney,\\nGrilbert<fe H o n o* li,\\nATTORNEYS AT LAW,\\n[Wall st., above Main,]\\n_ (n30-tf)\\nD. Wm. Dontliitt,\\n2Utorneg at Cam,\\nIdaho City,\\n^\\\"Particular\\nDebts,\\n- Idaho Territory\\nattention paid to collecting\\n27 m3\\nGEORGE AINSLIE.\\nAttorney and Counselor at Law,\\n\\u2014and\\u2014\\nSolicitor in Chancery.\\nCenterville, Boise County, 1. T. 28m3\\nCIIAS. WALKER,\\nJustice of the Peace.\\naar Office on Wallstreet, above Main. 4\\u00bbtf\\nCREIGHTON 1 8c BUTTON.\\nD EALERS in Staple Dry Goods, Clothing\\nGroceries, Boots aud Shoes, Liquors Tobacco\\nand Miners' outfits.\\nWashington St., Centerville. Sept. 25,1853\\u2014ltf\\nDr. Raymond,\\nPhysician and Surgeon.\\n^^FFICE opposite W., F. & Co.'s, Idaho City.\\nDR. L WILLIS\\nH AS gone to San Francisco for stock, in the\\nline of his professsion as a Dentist and Sur\\ngeon, aud will return about the 1st of December,\\nto resume his practice. L. iVILLIS'\\nOctober 22. 1864. n5v2\\nDR. C. H. STUART.\\nPHYSICIAN,-----\\nSurgeon and. Accoucheur.\\nO FFICEt~0o Main Street, Pioneer City, I, A '\\n' . Stf.\\nCl E. FREEMAN. R. B. WALLACE.\\nC. E. FREEMAN & CO.,\\nChemists anb {Druggists\\nWells, Fargo A Co.'s Building,\\nWASHINGTON STREET, CENTERVILLE. I. T.\\n[v2-n2tf]\\nDP. J B. ISBA1D,\\nDENTIST,\\nH AS removed his office and taken rooms at the\\nInternational up stairs, on Main st., Idaho\\nCity, All operations guaranteed to give the best\\nsatisfaction, l shall visit Boise City and the sur\\nrounding camps at stated periods,'when 1 shall\\ngive notice. N. B. To the Profession\\u2014I shall\\nkeep on hand a new supply of gold foil, and in\\nstrument\\u00bb of all kinds, as fine as can be had in the\\nEastern States. n2m6\\nOctober 21. 1864.\\nCITY M HOTEL\\nAND\\nGENERAL STAGE HOUSE,\\nMAIN STREET, IDAHO CITY, I. T\\n50tf\\nBarber St Oldliam, Prop's.\\nP0\\u00dcJADE HOUSE !\\nAND\\nSTAGE OFFICE!\\nT.C-POUJADE, - - PROPRIETOR.\\nMAIN STREET, TWO DOORS BELOW WALL.\\nn5tf\\nMONTANA HOUSE.\\nT HE undersigned would inform the public that the\\nMontana House, on Main street, a few doors below\\nCommeicial street, is now open and ready for the accom\\nmodation of the public.\\nBOARD BY THE DAV~AND WEEK, WITH\\nOR WITHOUT LODGING.\\nFunnished Booms to Let.\\nIdaho city, October 25,1864. [ltfj Jacob Bartt.\\nINTERNATIONAL\\nPLACERVILLE.\\nE XCELLENT accommodation\\u00bb for families or\\nsingle gentlemen. The table is always\\nsupplied with the best in market. Rooms neat,\\nclean and commodious. BURTHEY & BRUNN\\nPlacerville, Oct. 8th, 1863. 3m3\\nRockfellow's Half Way House,\\n(at the Kockfellow Quartz Lode)\\nEQUr-DISTANT FROM WALLA WALLA AND BOI8 E\\nT HIS HOUSE will be open for the accommoda\\ntion of the traveling public on and after No\\nvember 1st. Everything for the\\nCOMFORT OF MAN AND BEAST\\nwill be found on the premises. A good rpad is\\nopened by way of this place, without addition to\\nthe distance.\\nn9tf W. H. KOCKFELLOW. Proprietor\\n\\u00ab EMPIRE HOTEL, \\\"\\nMAIN STREET, DALLES, OREGON\\nThomas Smith, Proprietor.\\nA FIRST-CLASS HOUSE,\\nsituated in 'he center of business,\\nNear the Sleamboat and Railroad\\nLANDINGS.\\nMeals................................50 Cents\\nLog ings. .........................50\\n\\u00ab6T No liquors sold on tbe premises. Baggage\\ntaken to the hotel free of charge. Fire\\nproof Safe in the office for deposit of valuables.\\nHouse open all night.\\nn47-tf\\nFRANKLIN HOTEL.\\n12 1-2 miles from Umatilla city,\\nO N THE ROAD To LA GRAND, AUBURN,\\nIdaho City, Placerville and Owyhee.\\nTHE HQ.USE is spacious and convenient, with\\na Diningroom capable of seating a large number\\nof persons at a time, and in the way of luxuries no\\ntable at anv hotel on the road shall surpass that of\\nthe Franklin House, The house is well furnished\\nwith Pulu Beds which will be Aept warm and com\\nfortablc. The Bar will be kept constantly supplied\\nwith the best\\nWINES, LIQUORS & CIGARS.\\nThere is attached to the premises, a large Stable\\nwith hay and grain for animals.\\n27tf J. C. Fbanklin, Proprietor.\\nUmatilla House !\\nIDivEjllj\\u00eeSS ......\\u00a9HilS\\u00ae@Sro\\nD. Handley & N. \\u00a3. Sinnott, Proprietors\\nHouse kept open all Night.\\nFire Proof Safe in the office for deposit of valuables\\nBaggage taken to the house free of charge.\\nNovember 3d, 1863.\\u2014tf\\nAT $35 PER THOUSAND.\\nO UR mill being in successful operation, we\\ntake this melbod to inform our patroLS and\\ntu\\u00ab public geuerally that we shall coutiuueto sell\\nlumber at our yard in town ane at Bear Run Mill,\\naithe rate of thirty five dollars per thousand feet.\\nIiOBIE & BUSH.\\n\\u00abcyOFFICE. upper end of Main Street.\\nIdaho City, Octobt r, 20th. 1864. ' 2n5\\nType Metal, which, for machine\\nboxing is considered equal if not superior to Babbitt's\\nmetaL Woeid Ornn.\\n1\\nWilliam McGrorty\\nO FEERS FDR SALE ONE OF TH-i LARG\\nest stocks of merchandise ever offered to a\\ndiscriminating public, and at prices which will\\ndefy competition\\u2014via :\\nFlour,\\nBeans,\\nHams,\\nPeaches,\\nApple,\\nCoffee,\\nCandles,\\nNails,\\nShovels,\\nSpades,\\nSoap,\\nSugar,\\nCan Fruit?,\\nClothing,\\nTobacco,\\nBoots\\n& Shoes,\\nQuicksilver,\\nButter\\nand Cheese,\\nEtc., Etc.\\nGoods taken on Storage and Com\\nmission.\\n\\u00abB\\u00bbWilliam McGrorty's Block, Wall street, is\\nthe largest building e er erected ia Idaho Territo\\nry, and considered safe frotn fire ; the accommo\\ndations cannot be surpassed.\\nIdaho city, October 26, 1864. ltf\\nstage m,r&|\\nBOISE CITY, I. T.\\nY ates St Carr, Props.\\nT HE undersigned would respectfully inform their\\nfriends, and the public in general that they have\\nrented the above named Hotel, and are prepared to fur\\nnish their patrons with accommodations equal to any in\\nthe city. Thy Table will be supplied with the best that\\ncan be obtain\\u00ab! m the market, and lodgers will be fur\\nnished with Nice Clean Beds. Iduhocityand\\nOwyhee stages arrive and depart from this House.\\nW. A. YATES,\\nnltf S. L. CARR.\\nPRIVATE MEDICAL AID.\\nQuick Cares and Moderate Charges.\\nDR. W. K DOHERTY'S\\nPRIVATE MEDICAL AND SURGICAL INSTITUTE\\nSacramento street, below Montgomery, opposite the Pa\\ncific Mail Steamship Co's office. Private entrance ou\\nLeidesdorff street, San Francisco,\\nof the bladder and Kidneys, etc., etc.; and he hopes that\\nhis long experience and siccesful practice of many years\\nwill continue to insure him a share of public patronage.\\nBy the practice of mtny years in Europe and the United\\nStates, he isenabledto apply the most efficient and biuv\\nEstab ished expressly to afford the afflicted sound\\nand scientific Medical Aid, in the ti eatment and\\ncure of all Private and ('hrenic Diseases,\\ncases nf secrecy and all sexual diseases\\nTo the afflicted, Dr. AV. K. Doherty returns his sincere\\nthanks to hi9 numerous patients for their patronage, and\\nwould take this opportunity to remind them that he con\\ntinues to consult at his Ipstitnte for the cure chronic\\ndisease of the Lungs, Liver, Kidneys, Digestive and\\nGenito-Uriny Organs, and all private diieases, viz: Sy\\nphilis in all its forms and stages,Seminal Weakness, and\\nall the horrid consequences of self-abuse Gonorrhoea,\\nGleet, Strictures, Nocturnal aud Diurnal Emissions, Sexu\\nal Debility, diseases of the Back and Lions, Inflamation\\nessful remedies again st diseases of all kinds. He uses\\nno mercury, chargesmoderate, treats his patients in a\\ncorrect and honorable way, has references of unquestion\\nable veracity from men of known respectability and high\\nstanding in society. All parties consulting him, by lettsj\\nand otherwise, will receive the best and gentlest treat\\nment and implicit secrecy.\\nDr. Doherty will take pleasure in showing to patients\\nwho will call on him the sworn depositions of many who\\nhave been cured by him, who have previously tried many\\nphysicians but without success.\\nTO CORRESPONDENTS.\\nPatients residing in any part of the State, however dis\\ntant, who may desire the opinion and advice of Dr. Doherty\\non their respective cases, and who think proper to submit\\na written statement of such, in preference to holding a\\npersonal interview, ere respectfully assured that Iheir\\ncommunications will be held most sacred. Dr. Doherty\\ntakes this opportunity of observing, that all letters are\\nonly opened and replied to by himself, and the latter as\\npromptly as possible.\\nIf the case be fully and candidly described, personal\\ncommunication will be superceded, as instructions for\\ndiet, regimen, and the general treatment of the cases itself\\n(including the remedies), will be forwarded without delay,\\nand in luch a manner as to convey no idea of the purport\\nof the letter or parcel so transmitted.\\n\\u00ab^Consultation gratis. Permanent cure guaranteed\\nor no pay. Address W. K. DOHERTY, M.D..\\nn6-3m San JYancisco, California.\\nNotice.\\nMb.S. J. Pierce is my Agent and Attorney,\\nduly authorized to transact all business in my\\nbehalf during my absence from Idaho City.\\nJ; B. PIERCE.\\nOctober 31,1864. . n2tf\\nHIGBY & CO.\\nCORNER MAIN and WALL STS.,\\nOPPOSITE INTERNATIONAL\\nHOTEL.\\nWholesale and Retail Dealers in\\nGroceries, Provisions, Mining- Tools,\\nHardware, Clothing, Wines,\\nLiquors, Boots and Shoes,\\n' Atnunition, Hats, Gloves,\\nStationery, Ladies' and Children's Shoe\\u00bb.\\nN. B. The entire stock has been selected with\\ngreat care, in San Francisco, by an experienced\\nman, expressly for this market.\\nBannock Oily, September 29th, 1863. Iff\\nUMATILLA FERRY\\n.and..\\n\\u2014 opposite.\\nUmatilla City,\\nOregon.\\nB EST GRASS and WATER in all the Upper\\nCountry. Animals put across the Columbia\\nriver and returned with dispatch. A large boat!\\u00bb\\nrunning that carries forty animals safely at a trip.\\nUmatilla, April 1st, 1864.\\n3otf FOSTER & CLIFFORD.\\nMiner's Brewery\\n\\u2014and\\u2014\\nS\\u00dcEllS\\u00ef\\u00efa'\\nT HE proprietors of the Pioneer Brewery of th\\nBasin being thankful for the libera\\u00bb patronag*\\nreceived, assoie their friends that they will con*\\ntinue to make in their establishment, tbe best\\nef Lager Beer, Bread, Pies and Cakes.\\nKNAUER & CO.\\nBannock City, September 29th, 1863. ltf,\\nStorage.\\nA PPLY at the Miners' Brewery and Bakery\\n[nfl-tf] MARKS, KNAUER \\u00e0 CO.\", \"batch\": \"batch_idhi_dickens_ver01\", \"title_normal\": \"idaho world.\", \"url\": \"http://chroniclingamerica.loc.gov/lccn/sn82015407/1865-01-07/ed-1/seq-1.json\", \"place\": [\"Idaho--Boise--Idaho City\"], \"page\": \"\"}, {\"sequence\": 1, \"county\": [\"Boise\"], \"edition\": null, \"frequency\": \"Weekly\", \"id\": \"/lccn/sn82015407/1865-01-14/ed-1/seq-1/\", \"subject\": [\"Boise County (Idaho)--Newspapers.\", \"Idaho City (Idaho)--Newspapers.\", \"Idaho--Boise County.--fast--(OCoLC)fst01219026\", \"Idaho--Idaho City.--fast--(OCoLC)fst01295399\"], \"city\": [\"Idaho City\"], \"date\": \"18650114\", \"title\": \"The Idaho world.\", \"end_year\": 1918, \"note\": [\"Archived issues are available in digital format from the Library of Congress Chronicling America online collection.\", \"Semiweekly eds.: Idaho semi-weekly world (Idaho City, Idaho : 1867), May 4, 1867-Nov. 11,1868 ; Idaho semi-weekly world (Idaho City, Idaho : 1875), July 30, 1875-June 15, 1908.\", \"Triweekly ed.: Idaho tri-weekly world, Mar. 14-July 27, 1875.\"], \"state\": [\"Idaho\"], \"section_label\": \"\", \"type\": \"page\", \"place_of_publication\": \"Idaho City, Idaho Territory\", \"start_year\": 1864, \"edition_label\": \"\", \"publisher\": \"I.H. Bowman & Co.\", \"language\": [\"English\"], \"alt_title\": [\"Idaho weekly world\"], \"lccn\": \"sn82015407\", \"country\": \"Idaho\", \"ocr_eng\": \"e Idaho World.\\n\\u25a0 : -, . <.*\\u25a0\\u25a0} m v\\n> \\u2014 -\\u2014\\n\\\"THE NOBLEST MOTIVE IS THE PUBLIC GOOD.\\\"\\n*\\nVol.l.\\nIDAHO CITY, BOISE COUNTY, IDAHO TERRITORY, SATURDAY, JANUARY 14, 1865.\\nNo 12.\\nJtta World,\\nPUBLISHED EVERY SATURDAY MORNING BY\\nI. II. 13 o w m: .A. N & CO.\\nU. C. STREET, Editor.\\nTERMS INVARIABLY m ADVANCE.\\nPajable in Gold or ils Equivalent.\\nRates of Subscription :\\nOne year, -----\\nBix mort bs, ------\\nThree months,.......\\nSingle copies,.....\\nRates of Advertising :\\nPer square, ten lines or less, first insertion, : :\\n\\\" \\\" \\\" \\\" \\\" each subsequent in,\\n\\\" \\\" \\\" \\\" \\\" three months, : :\\n\\\" \\\" \\\" \\\" \\\" one year, : :\\n$12 00 .\\n7 00.\\n4 00.\\n50.\\nAgents for the Idaho \\\"World.\\nA. P. Turner, Carrier and General Agent, Idaho city.\\nThos. Boyce, northeast coi ner Montgomery and Wash\\nington street, up stairs, San Francisco. Cal.\\nC. R. Street, Cal. Express office, Marysville, Cal.\\nS. J. McCormick, Portland, Oregon.\\nM. \\u2022!. Allpiiix, Dalles city, Oregon.\\nC\\u00b0ve\\\" Tf Miu.KR, GllAY ' j Can y\\u00b0 n cit y> Oregon.**\\nA. II. Brown\\u2014 Wells, Fargo & Co.'s agent, Auburn, Or.\\nPowell & Coe, Umatilla, Oregon.\\nA. A. Mix, Walla Walla.\\nW; W. Chapman, Jr., Pioneer city.\\nK. B. Wallace, Centerville.\\nM. B. Moore, Placerville.\\nS. L.Carr, Boise city.\\nC. L. Goodrich, Rocky Bar.\\nII. 0. Purdy, Silver city, (Owyhee.)\\nW. Greenwell, Ruby city.\\nGROWING OLD.\\nT ley sit together at the door,\\nThrough which, long years ago,\\nThey passed, a newly-wedded pair,\\nIu yout h's first rosy glow.\\nThen her round cheek was red and warm,\\n' Her hair wa3 rippling gold ;\\nIlis form was stately as the oak\\u2014\\nBut now they both are old.\\nThe blooming cheek is wrinkled now,\\nThe sweet blue eyes are dim;\\nBut, full of love and holy trust,\\nThey ever turn to him,\\nWith the calm faith and hope she felt\\nUpon her bridal day,\\nWhen the long future, flower-clad,\\nStretched out before her lay.\\nNow, in the eventide of life,\\nThey watch the purple haze\\nGrow on the hills, and hang aboVe\\nThe laud-locked chain of bays ;\\nThey see the sun sink slowly down\\nTo gladden other lamb ;\\nThey feel night coining, and they sit\\nSerene, with close-cla3ped hands.\\nThey know that though the dusk is here\\nThere is a place of light,\\nInvaded not by gloom or shade,\\nOr the drear, weeping night.\\nThey wait with patience for the call,\\nTo tread the darksome vale,\\nUnto the hights, before whose glow\\nThe morning sim would pale.\\nAN ACT\\nRelating to the Discovery of Gold and Silver\\nQuartz Leads,and the Manner of their Loca\\ntion.\\nSection 1. Be it enacted by the Legislative\\nAssembly of the Territory of Idaho, a3 fol\\nlows*\\u2014 That any person or persons who may\\nhereafter discover any quartz lead or lode,\\nshall be entitled to oue claim thereon by right\\nof discovery, and one claim each, by location.\\nI 2. That a quartz claim shall consist of\\ntwo hundred feet in length along the lead or\\nlode, by two hundred feet in width, covering\\nand including all dips, spurs and angles with\\nin the bounds of said claim, as also the right\\nof drainage, tunneling, and such other privi\\nleges as may be necessary to the working of\\nsaid claim ; provided, that nothing in this Act\\nshall be construed as to give any claimant or\\nclaimants, auy right to any separate or dis\\ntinct ledge, other than the oue claimed run\\nning through the said two hundred feet in\\nwidth or to obstruct any subsequent claimant\\nin working and improving such distinct ledge,\\nand the center of the ground between such\\nledges shall be the dividing line between the\\nrespective claimants.\\n\\\\ 2. The locater of any quartz claim, or\\nclaims' on any lead or lode, shall at the time\\nof locating said claim or claims, place a sub\\nstantial stake, not less than three inches in\\ndiameter, at each end of said claim or claims,\\non which shall be a written notice specifying\\nthe name of the locator, the number of feet\\nclaimed, together with the day, month and\\nyear, when the same was taken.\\n\\\\ 4. Two or more persons may locate or\\ntake claims together in a body, by joining in\\na notice, specifying the number of claims\\nlocated, and the name of each person joining\\nin such uotice being written under the notice\\n\\u2014but the claims so taken shall not exceed\\ntwo hundred feet for each individual joining\\nin such notice, except when necessary to In\\nclude a discovery claim. Persons so joining\\nin one notice shall be considered as tenants\\nin common, and the work hereinafter required\\nto be performed on a quartz claim, to entitle\\nthe locator or his assigns to hold the same as\\nreal estate, may be performed on any one or\\nthe claims so held in common ; provided, it\\nbe equal in amount to one hundred dollars\\nfir each claim held in common, including the\\ndiscovery claim.\\n\\\\ 5. All claims shall be recorded in the\\nCounty Recorder's office within ten days from\\nthe time of posting notice thereon ; provided\\nthat when the claim located is more than\\nthirty miles from the couuty seat, the time\\nshall extend to fifteen days ; provided, further,\\nthat no person shall record in the name of\\nany other person, unless he have the written\\nauthority of such person or persons, and ex\\nhibit the same to the Recorder, and make an\\naffidavit, to be taken by such Recorder, that\\nthe written authority is genuine : who shall\\nmake a minute of such authority on his rec\\nords, and file such affidavit in his office.\\ng 6. Quartz claims recorded in accordance\\nwith the provisions of this Act, shall entitle\\nthe person or persons so recording , to hold\\nthe same' t<gjbe use of himself, his heirs and\\nassigns ; provided, that within six months\\nfrom and after the date of recording, he or\\nthey shall perform, or cause to be performed\\nthereon, work amounting in value to^one\\nhundred dollars tor each claim of two hund\\nred feet.\\n\\\\ 7. Any person or persons holding quartz\\nclaims in pursuance of the provisions of this\\nAct, shall renew the notice required in sec\\ntions three and four of this Act, at least\\nonce in twelve months, and perform fifty dol\\nlars worth of work annually, for such claim\\nso located and held.\\n\\\\ 8. Any person or persons desiring to\\npreserve and perpetuate testimony as to the\\nsufficiency of the amount of work done on\\nany claim or claims, to entitle him or them to\\nhold them as real estate, according to the\\nprovisions of section six of this Act, may\\ntake two disinterested persons to view such\\nwork, who shall carefully examine the same ;\\nimmediately after which tfiey shall go before\\nthe County Recorder, or some magistrate in\\nthe county, and take (and) subscribe an affi\\ndavit containing: First, a description of the\\nlocation of the claim or claims on which the\\nwork is performed, the character and value\\nof such work, and the date when they re\\nviewed the same, which affidavit shall be filed\\nby the Couuty Recorder, and carefully pre\\nserved. Such affidavits or certified copies of\\nthe same, under the certificate and seal of the\\nCounty Recorder, who has the custody of the\\noriginal affidavit or affidavits, shall, in any\\ncourt in this Territory, be prima lacia evi\\ndence of the character and the amount of\\nlabor performed on the claim or claims which\\nare described in such aflidavitor affidavits.\\n\\\\ 9. Conveyances of quartz claims shall\\nrequire the same formalities, and shall be\\nsubject to tbe same rules of construction as\\nthe transfer and conveyance of real estate.\\n\\\\ JO. All claims heretofore taken up or\\nlocated jointly, in a manner similar to that\\nnow permitted by section four of thi3 Act\\nshall be considered, and the same are hereby\\nmaee, valid and sufficient in law.\\n\\\\ 11. All tunnels which may be run into\\nany hill or mountain, for the purpose of dis\\ncovering and working mineral-bearing quartz\\nlodes, commonlv termed \\\" blind lodes,\\\" shall\\nbe entitled to hold five hundred feet each way\\nfrom the line of tunnel on said lode or lodes\\nso discovered. They shall also be entitled to\\none thousand feet square at the entrance, or\\nentrances, ot said tunnel, or tunnels, for\\nbuilding, dumping, or other purposes deemed\\nnecessary. The manner of locating such\\ntunnel rights shall be the same as prescribed\\nfor the location of quartz claims, in this Act,\\nan 1 shall be held in accordance with the pre\\nvisions of section six of this Act, except that\\nthe amount of work to be performed sha 1 be\\nfive hundred dollars ; and in case of failure\\nto comply with such provisions, the right or\\nclaim shall be considered vacated, and shall\\nnot be re-located by the same parties. Noth\\ning in this section shall be so construed as to\\ngive any tunnel company the right to work\\nany lode discovered and located by other\\nparties prior to their discovering the same,\\nuirless such claims are forieited from non\\ncompliance with the law.\\n\\u00a7 12. That the Act entitled \\\"An Act re\\nlating to the discovery of gold and silver\\nquartz leads, and of the manner of their lo\\ncation,\\\" approved February,4th, 1864, be and\\ntbe same is hereby repealed.\\n$ 13. This Act to takg effect on and after\\nits approval by the Governor.\\nPassed the House of Representatives No\\nvember 29tb, 1864. Alex. Blakely,\\nSpeaker House Representatives.\\nPassed the Council Dec. 6th, 18 64.\\nJohn Cummins,\\nPresident of the Council.\\nApproved Dec. 13th, A. D. 1864*.\\nCALEB LYON OF LYONSDALE,\\nThe Governor of Idaho.\\ned\\nm\\n7\\nat\\nA Conquest without Laurels.-Not should\\nthese Abolitionists flatter themselves that, if\\nthey can succeed in their object of uniting\\nthe people of the free States, they will enter\\nthe contest with numerical superiority that\\nmust insure victory. All history and experi\\nence proves the hazard and uncertainty of\\nwar. And we are admonished by holy Writ\\nihat the race is not to tbe swift nor the battle\\nto tbe strong. But if they were to conquer,\\nwhom would they conquer? A foreign foe,\\none who had insulted our flag, invaded our\\nshores and laid our country waste? No, sir;\\nno, sir. It would be a conquest without lau\\nrels, without glory\\u2014a self, a suicidal con\\nquest\\u2014a conquest of brothers over brothers,\\nachieved by one over another portion of the\\ndescendants of common ancestors who, nobly\\npledging their fortunes and their sacred hon\\nor, had fought and bled, side by side, in many\\na hard battle on laud and ocean, severed our\\ncountry from the British crown, and estab\\nlished our national independence.\\u2014[Henry\\nClay's Speech.\\nBrown, Smith & Co., in Three Great Cit\\nies. \\u2014The Boston Directory for 1864 contains\\n51,471 names against 54,360 in the Cincinnati\\nDirectory. There are 39.414 names in the\\nChicago Directory for this year, but a more\\ncomplete volume, containing 45,000 names, is\\nabout to be issued. It is supposed that Bos\\nton has a population of 192,000, Cincinnati\\nof 188,000 and Chicago of nearly 160,000.,\\nThe number of Smiths, Browns, Johnsons,\\nMillers, Jones and Clark3 in the Directories\\nof the three cities, is as follows :\\nChicago.\\nCincinnati.\\nBoston.\\nSmiths,\\n451\\n479\\n594\\nBrowns,\\n177\\n414\\n422\\nJohnsons,\\n177\\n\\u00a315\\n225\\nMillers,\\n174\\n312\\n104\\nJones,\\n128\\n183\\n184\\nClarks,\\n146\\n145\\n- 230\\nThe Vote\\nin Illinois, according\\nthe Rock\\nIsland Argus, was\\u2014Lincoln, 176,687 ; Mc\\nCh} ,\\u201er 155 604. LineelnYmajority, 31,083.\\nAST* Advertisements, to insureinsertion, must be hand\\nin as early as Thursday, and the number of insertions\\ndesired should be noted on the margin.\\nReligions Notices.-Rev. Father A. Z.\\nPoulin will hold divine service at the St. Joseph Church,\\ncorner Commercial street and East Hill, every Sunday at\\n10% o'clock A. m. ; vespers at 7 o'clock p. m. \\u201e\\nRev. Father ;T. Mesplie, will hold divine service at Pla\\ncerville, at the\\\" St. Thomas Church, on the 1st Sunday in\\nJanuary. 1865, at 10 o'clock a. m.; and every third Sunday\\nthereafter at the same^hour. Also, at the St. Dominic\\nChurch, at Centerville, on the second Sunday of January,\\n1865, at 10% o'clock A. m. : and every third Sunday there\\nafter. And'also, at the St. Francis Church, in Pioneer,\\nthe third Sunday in January, 1865, at 10% o'clock a.\\n; and every third Sunday thereafter\\u2014until further\\nnotice.\\nPioneer Lodge,\\nNo. 1, U. D., holds its regular\\nmeetings at the Masonic Hall, on Q\\nMonday evening of each week, at\\no'clock, p. m. Brothers in good\\nstanding are cordially invited to\\nattend. 1\\nM. ROSENBERG, N. G.\\nJohn Christie, Secretary.\\nIdaho Lodge, No. 35, R. &;\\nA. M., hold their regular meetings on Saturday\\nnight preceding the full moon of each month,'\\nMasonic Hall, corner of Wall and Montgom\\nry streets. Called meetings every Saturday 7\\n\\u2022evening at 7 o'clock. C. D. SAYRS,\\n18tf * Secretary.\\nI. O. O.\\nsAr\\n,/V\\\\\\nJ. K. SHAFER,\\nA TTORNEY AT LAW. Office- on thq east\\nside of Montgomery, near the northeast\\ncorner of Wall and Montgomery streets, and one\\ndoor south of the Occidental Hotel, Idaho City.\\n[Hf]\\nH. MARTIN.....................J. M. MURPHY.\\nMARTIN & MURPHY,\\nATTORNEYS AT LAW.\\nOffices at Idaho and Ruby cities.\\n2tf\\nFRANK MILLER. CHAS. C. DUDLEY,\\nMiller, & Dudley\\nATTORNEYS & COUNSELORS\\nAT LAW.\\nOffice\\u2014South-west corner Wall aud Montgomery streets\\nnext door to Froats k Co.'s Packer's depot, Idaho city!\\nI. T. 47tf\\nW.R. Keithly,\\njUtorncp at Caro.\\nIST OFFICE\\u2014-Montgomery street near Wall\\nIdaho City, Boise florin* - ( 3otf\\nJ. B. Rosborough,\\nA T T O R N E Y- A T-L A W.\\nO FFICE\\u2014On \\\"Wall street, opposite Clerks\\noffice, Idaho city.\\nE. F. GRAY,\\nATTORNEY AT LAW,\\nIdaho city. Wall street, Above Main.\\nvlnltf\\nCHARLES IS. WAITE.\\nJOSEPH MILLER.\\nil\\u00eeaite * JlliHcr,\\nD 9\\n-A.ttornevs-at\\\"Xjaw.\\nO FFICE on Montgomery street, 2d door north\\nof Hildreth's drugstore. 41tf\\nGeo C. Hough\\nDist. attorney.\\nGeo I. Gilbert, :\\nNotary Public,\\nGrilbert & II ono- h\\n# ATTORNEYS AT LAW ,\\n[Wall st., above Main,]\\n(liSO-tf )\\n33. TV^ni. Domtliitt,\\n2Utornep at Caw,\\nIdaho City, -\\n\\u00a3\\u00e9^FTartie\\u00f9lar\\nDebts.\\n- Idaho Territory\\nattention paid to collecting\\n27 m3\\nGEORGE AINSLIE\\nAttorney and Counselor at Law,\\n\\u2014and\\u2014\\nSolicitor in Chancery.\\nCenterville, Boise County, 1. T. 28m3\\nCHAS, WALKER,\\nJustice of the Peace.\\nOffice on Wall street, above Main. 4>-tf\\nCREIGHTON & BUTTON.\\nD EALERS in Staple Dry Goods, Clothing\\nGroceries, Boots and Shoes,Liquors \\u00efobacco\\nand Miners' outfits.\\nWashington St., Centerville. Sept. 25,1853\\u2014ltf\\nDr. Raymond,\\nPhysician and Surgeon.\\n^^FFICE opposite W., F. & Co.'s, Idaho City.\\nDE. F, WILLIS\\nH AS gone to San Francisco for stock, in the\\nline of his profession as a Dentist and Sur\\ngeon, and will return about the 1st of December,\\nto resume his practice. L. VILLIS -\\nOctobel* 22. 1864. * u5v2\\nDR. C. U. STUART,*\\nPHYSICIAN,\\nSurgeon and. Accoucheur.\\nO FFICE\\u2014On Main Street. I i >neer City, I. T.\\n6tf.\\ni\\nC; E. FREEMAN. R. B. WALLACE.\\nC. E. FREEMAN & CO.,\\nChemists fin\\u00eet druggists.\\nWells, Fargo & Co.'s Building,\\nWASHINGTON STREET, CENTERVILLE, I. T.\\n[v2-n2tf]\\nO\\ndefy\\nDR, A. J. HOGG,\\nOffice, nearly opposite Forrest Theatre, Mainst.\\nID A HO CITY, I. T. vlnl\\nJ. K. Clark, M. D. | C. B . Parker, M. D.\\n, Doctors Clark & Parker,\\nH omeopathic physicians. Office on Main st.,\\nopposite Poujade House, Idaho city. This treatment\\nwill cure all diseases that any other treatment can cure\\u2014\\nquicker and more permanently; also, many that are con\\nsidered incurable. Particular attention paid to chronic\\ndiseases, and all diseases of women and children. May be\\nconsulted at all hours day and night. 4m6\\nDR. J. M. BETTS,\\nPHYSICIAN AND SURGEON:\\nOffice\\u2014Two doors south of the Empire Market,\\nIdaho City. 3tf\\nS. P. SCANIKER,\\nAttorney and Counselor at Law.\\nOffice on East Side of Main Street,\\n'Near the {Tei'mmus of the Bear Run Railroad.]\\nIDAHO CITY.\\n8tf\\nC. Li. WAITE & CO.\\nW ILL buy and sell, on commission, Quartz and Min\\ning claims, real estate, mining stocks, ie.\\nThe immense extent and extraordinary richness of\\nthis mining region, present unusual facilities and offer\\ngreat inducements to capitalists.\\nIn addition to the mines well known, and daily being\\nworked, others of unprecedented richness are being con\\nstantly discovered.\\nAll communications will receive prompt attention.\\nIdaho city, November 1,1864. n'2m3\\nthe\\nry,\\nDENTESTRY.\\nT HE undersigned has located in this city to practice\\nhis profession. Having been in constant practice for\\na period of over twelve years, he feels confident that he\\ncan satisfy all who may require his services. Has a\\nlarge supply of artificial teeth, and other facilities for\\ndoing all kinds of work in his line. \\u00bb\\nOffice on Wall street, second door above Higby & Co.'s\\nstore. 2tf F. C. NICHOLS.\\nC. H. M: A.CK,\\nDENTIST,\\nNo. 10 Alder street,\\nPortland, Oregon,\\nAt the old place of H. H. Black, near the People's\\nTransportation Company's office The patronage\\nof those desiring first-class aud finished opera tions\\nis particularly requested. v2n5tf\\nDR. JAMES HEALY,\\nPHYSICIAN AND SURGEON.\\nOffice at McGlinchy's Old Store,\\nMONTGOMERY STREET, IDAHO CITY.\\n[n7tf]\\nDr. HARRIS\\nTVTOTIFIES the public that John E. Brough\\nJ_x| ton is his authorized Agent to transact any\\nbusiness connected with his Drug establishment,\\nduring his absence to San Francisco -\\nHe will return in the Spring with a full assort\\nment of Goods belonging to his line of business,all\\nof which will be sold at the lowest possible rates.\\nNov. 1,1864 ' vln2tf\\nDUNCAN & TURNER,\\nAuctioneers and Commission Mer\\nchants.\\nC CLOTHING, GROCERIES, PROVISIONS\\nJ and every species of Merchandise for sale at\\ntheir store on Wall street, pne door above the\\nIdaho Stable, Idaho City. 5tf\\nDR. J B. ISBA1L,\\nDENTIST,\\nH AS removed his office aud taken rooms at the\\nInternational up stairs,'on Mainst., Idaho\\nCity. All operations guaranteed to give the best\\nsatisfaction. C shall visit Boise City and the sur\\nrounding camps at stated periods, when 1 shall\\ngive notice. N. B. To the Profession\\u2014I shall\\nkeep on hand a new supply of gold foil, and in\\nstruments of all kinds, as fine as can be had in the\\nEastern States. , n2m6\\nOctober 21, 1864.\\nLI. HECKMAN.\\nMain Street, Idaho City,\\nATCHMAKER and Jeweler, Dealer in Jew\\nelry and Watches. Solid Gold Jewelry\\nmade to order. Particular attention paid to\\nRepairing Fine Watches\\nw~ All work warranted for twelve months.\\\"\\\"\\u00a9a\\nIdaho City, August, 1864- 60tf\\nw\\nG T ITIV/r'AlV\\n\\u00e0mm ii\\u00fc\\u00c9i\\u00ef,\\nCorner of Washington & Second streets,\\nDalles, Oregon,\\nD EALER in Drugs, Patent Medicines, Trusses,\\nAcids, Oils, Brushes, Hops, Glue, Corks,\\nPerfumery, Soaps and Toilet articles. Orders from\\nDruggists, Physicians and Traders in the Mines\\nfilled at the lowest price. 35tf\\n\\\" EMPIRE HOTEL, \\\"\\nMALY STREET, DALLES, OREGON\\nThomas Smith, JProprictoi - .\\nA FIRST-CLASS HOUSE,\\nsituated in - he center of business,\\nNear the Steamboat and Railroad\\nLANDINGS.\\nMeals..........................;.....50 Cents\\nLo g ing.s....................i.......50\\nJS2T No liquors sold on the premises. Baggage\\ntaken to the hotel free of charge. Fire\\nproof Safe in the office for deposit or valuables,\\nHouse open all night. n47-ff\\nWilliam McGrorty\\nO FFERS FOR SALE ONE OF TH > LARG\\nest slocks of merchandise ever offered to a\\ndiscriminating public, and at prices which will\\ndefy competition\\u2014viz :\\nFlour r\\nBeans,\\nHams,\\nPeaches,\\nApple,\\nCoffee,\\nCandles,\\nNails,\\nShovels,\\nSpades,\\nSoap, *\\nSugar,\\nCan Fruits,\\nClothing,\\nTobacco 1 ,\\nBoots\\n1 & Shoes,\\nQuicksilver,\\nButter\\nand Cheese,\\nHtc., Etc.\\nGoods taken on Storage and Com\\nmission.\\n\\\"William McGrorty's Block, Wall street, ia\\nthe largest building e *er erected in Idaho Territo\\nry, and considered safe from fire ; the accommo\\ndations cannot be surpassed.\\nTdaho city, October 26, 1864. ltf\\nO. KLA]STE,\\nDEALER IN\\nb\\nF URNITURE of every description, Beds and\\nBedding, Sofas, Wall Paper. Curtains, etc.\\nOn Main street, near corner of Wallula street,\\u2014\\nIdaho City. 4m3\\nMM\\nSTAGE HOUSE\\n' HI\\nBOISE CITY, I. T. _\\nY ates &; Carr, Props.\\nT HE undersigned would respectfully inform their\\nfriends, and the public in general that they have\\nrented the above named Hotel, and are prepared, to fur\\nnish their patrons with accommodations equal to any in\\nthe city. The Table will be supplied with the best that\\ncan be obtained m the market, and lodgers will be fur\\nnished with ]N\\\"ice Clean. Reds. Idaliocityaml\\nOwyhee stages arrive and depart from this House.\\nW. A. YATES,\\nnltf . 8. L. CARE.\\nPRIVATE MEDICAL JL1LL.\\nQuick Cures and Moderate Chargea:\\n33R. W. It DOHERTY'S\\nPRIVATE MEDICAL AND SURGICAL INSTITUTE\\nSacramento street, below Montgomery, opposite the Pa\\ncific Mail Steamship Co's office. Private entrance on\\nLeidesdorff street, San Francisco,\\nof the bladder and Kidneys, etc., etc.; and he hopes that\\nhis long experience and succesful practice of many years\\nwill continue to insure him a share of public patronage.\\nBy the practice of many years in Europe and the United\\nStates, he isenabledto apply the most efficient and suc\\nEstab ished expressly to afford the afflicted sound\\nand scientific Medical Aid, in the treatment and\\ncure of all Private and ('hronic Diseases,\\ncases of secrecy and all sexual diseases\\nTo the afflicted, Dr. W. K. Dohekty returns his sincere\\nthanks to his numerous patients for their patronage, and\\nwould take this opportunity to remind them that he con\\ntinues to consult at his Institute for the cure chronic\\ndisease of the Lungs, Liver, Kidneys, Digestive and\\nGenito-Uriny Organs, and all private diieases, viz: Sy\\nphilis in all its forms and 6tages,Seminal Weakness, and\\nall the horrid consequences of self-abuse Gonorrhoea,\\nGleet, Strictures, Nocturnal and Diurnal Emissions, Sexu\\nal Debility, diseases of the Back and Lions, Inflamation\\nessful remedies again st diseases of all kinds. He usee\\nno mercury, ebargesmoderate, treats his patients in *\\ncorrect and honorable way, has references of unquestion\\nable veracity from men of known respectability and high\\nstanding in society. All parties consulting him, by lettcj\\nand otherwise, will receive the best and gentlest treat\\nment and implicit secrecy.\\nDr. Doherty will take pleasure in showing to patients\\nwho will call on him the sworn depositions of many who\\nhave been cured by him, who have previously tried many\\nphysicians but without success.\\nTO CORRESPONDENTS.\\nPatients residing in any part of the State, however dis\\ntant, who may desire the opinion and advice of Dr. Doherty\\non their respective cases, and who think proper to submit\\na written statement of such, in preierence to holding a\\npersonal interview, ere respectfully assured that their\\ncommunications will be held most sacred. Dr. Doherty\\ntakes this opportunity of observing, that all letters are\\nonly opened and replied to by himself, and the latter a*\\npromptly as possible.\\nIf the case be fully and candidly described, personal\\ncommunication will be superceded, as instructions for\\ndiet, regimen, and the general treatment of the cases itself\\n(including the remedies), will be forwarded without delay,\\naud in such a manner as to convey no idea of the purport\\nof the letter or parcel so transmitted.\\n^^Consultation gratis. Permanent cure guaranteed\\nor no pay. Address W. K. DOHEBTY, M. D.,\\nnC-Urn San Francisco, California.\\nHIGBY & CO.\\nCOR1KER MAIN and WALL STS.,.\\nOPPOSITE INTERNA TIONAL\\nHOTEL.\\nWholesale and Retail Dealers in\\nGroceries, Provisions, Mining - Tools,\\nHardware, Clothing, Wines,\\nLiquors, Boots and Shoes,\\nAmunition, Hats, Gloves,\\nStationery, Ladies' and Children's Shoes.\\nN. B. The entire stock has been selected with\\ngieat care, in San Francisco, by an experienced\\nman, expressly for this market.\\nBannock City, September 29th, 1863. ltf\\nUMATILLA FERRY\\n.and..\\nA\\u00ae\\n.. .opposite.\\nUmatilla City,\\nOregon.\\nB EST GRASS und WATER in all tbe Upper\\nCountry. Animals put across tbe Columbia\\nriver and returned with dispatch. A la^ge boat is\\nrunning that carries forty animals salely at a trip.\\nUmatilla, April 1st, 1864.\\n3otf FOSTER & CLIFFORD.\\nMiner's Brewery\\n\\u2014and\\u2014\\nIM-EiSHrSTo\\nT HE proprietors of the Pioneer Brewery of th\\nBasiu being thankful for the lib\\u00e9rai patronag e\\nreceived,assme their friends that they will con\\ntinue to moke in their establishment, the best\\nol Lager Beer, Bread, Pies and Cakes.\\nKNAUER & CO.\\nBannock City, September 29th, 1863. ltf,\\nStorage. *\\nA PPLY at tho Miners' Brewery and Bakery ^\\nMARKS K \\u00ceJ\\u00d9' l ' n\", \"batch\": \"batch_idhi_dickens_ver01\", \"title_normal\": \"idaho world.\", \"url\": \"http://chroniclingamerica.loc.gov/lccn/sn82015407/1865-01-14/ed-1/seq-1.json\", \"place\": [\"Idaho--Boise--Idaho City\"], \"page\": \"\"}, {\"sequence\": 1, \"county\": [\"Boise\"], \"edition\": null, \"frequency\": \"Weekly\", \"id\": \"/lccn/sn82015407/1865-01-21/ed-1/seq-1/\", \"subject\": [\"Boise County (Idaho)--Newspapers.\", \"Idaho City (Idaho)--Newspapers.\", \"Idaho--Boise County.--fast--(OCoLC)fst01219026\", \"Idaho--Idaho City.--fast--(OCoLC)fst01295399\"], \"city\": [\"Idaho City\"], \"date\": \"18650121\", \"title\": \"The Idaho world.\", \"end_year\": 1918, \"note\": [\"Archived issues are available in digital format from the Library of Congress Chronicling America online collection.\", \"Semiweekly eds.: Idaho semi-weekly world (Idaho City, Idaho : 1867), May 4, 1867-Nov. 11,1868 ; Idaho semi-weekly world (Idaho City, Idaho : 1875), July 30, 1875-June 15, 1908.\", \"Triweekly ed.: Idaho tri-weekly world, Mar. 14-July 27, 1875.\"], \"state\": [\"Idaho\"], \"section_label\": \"\", \"type\": \"page\", \"place_of_publication\": \"Idaho City, Idaho Territory\", \"start_year\": 1864, \"edition_label\": \"\", \"publisher\": \"I.H. Bowman & Co.\", \"language\": [\"English\"], \"alt_title\": [\"Idaho weekly world\"], \"lccn\": \"sn82015407\", \"country\": \"Idaho\", \"ocr_eng\": \"'\\ni *rr': fi\\u00bb\\nIf s .\\nThe Idaho World.\\nVol. 1.\\n\\\"THE NOBLEST\\nMOTIVE IS THE PUBLIC GOOD.\\nIDAHO CITY, BOISE COUNTY, IDAHO TERRITORY, SATURDAY, JANUARY 21, 1865.\\nNo. ia.\\nIdaho World,\\nPUS U8\\u00ab ED EVERY SATURDAY MORNING BY\\nH. BOWMAN & CO\\nH. G. STREET, Editor.\\nTERMS INVARIABLY m ADVAN CE,\\nPajab!e in Gold or it * Equivalent.\\nRates of Subscription :\\nOne year,\\nSix morths, -\\nThree months,.......\\nSingle copies, -\\nBates of Advertising :\\ny\\u00bber square, ten lines or less, first insertion, :\\nu \\u00ab \\u00ab \\\" \\\" each subsequent in\\nm a a u \\u00ab three months, : :\\nm a u u t one year, : :\\n$12 00 .\\n7 00.\\n4 00.\\n60.\\nAgents for the Idaho World.\\nA. P. Turner, Carrier and General Agent, Idaho city,\\nThos, Boyce, northeast corner Montgomery and Wash\\nington street, up stairs, San Francisco. Cal.\\n0. It. Street, Cal. Express office, Marysville, Cal.\\n8. J. McCormick, Portland, Oregon; '\\nM. J. Allphin, Dalle\\u00e4 city, Oregon.\\nCouTuos. E. Gray, ) Q an y 0n c jty Oregon.\\nCapt. Miller, f J ,\\nA.H. Brown\\u2014W ells, Fargo k Co.'s agent, Auburn, Or.\\nPowell A Coe, Umatilla, Oregon.\\nA. A. *slix, Walla Walla\\nW. W. Chapman, Jr., Pioneer city.\\nR. B. Wallace, Centerville.\\nM. B. Moore, Placerville.\\n8. L. Carr, Boise city.\\nC. L. Goodrich, Rocky Bar.\\nII. 0. Purdy, Silver city, (Owyhee.)\\nW. Greenwell, Ruby city.\\nA WIFE WITH A WOODEN LEG.\\nShe's pretty and young, and tender and true,\\nAnd I know that her temper is good,\\nBut there's a trifliug defect, J whisper it to you,\\n'Tis a very fine leg made of wood.\\nNow some they may think perchance 'tis a grief,\\nThis lo 38 of my fond little spouse,\\nYet quite the reverse, 'tis a constant relief\\nTo have such a thing in one's house.\\nShe never can stamp or kick in her rage,\\nOr in wrath from our houso will she run,\\nFor in stealing her leg/1 thus can assuage\\nThe stom till its raging is done.\\nNo running or gadding can give her delight,\\nShe sits up till her eyes are dim, .\\nAnd cannot bo dancing with f\\u00e7ols all the night,\\nWith that awkward thing of a limb.\\n8he wears out few shoes or stockings, I find, >\\nOn that well shaped dummy of wood;\\nA saving of cash that is quite to my mind,\\nI buy them so cheap when they're odd.\\n1\\nife, with her dear wooden leg,\\n\\u201eer one leg I love all the more,\\nAnd nover would wish for two in it* stead\\u2014\\nOne's enough if wo think the thing o'er.\\nMy dear little\\nB\\nSouthern Resources in Men,\\nSo much has been said of the exhaustion\\nof the rebels ; of their having \\\" robbed the\\ncradle and the grave;\\\" of the absolute ne\\ncessity of their yielding from having already\\nput in the field the last available man, that\\nmany persons too ready to accept as truth,\\nthe plausible assertion, really believe that\\nsuch a^ condition of things exists. The\\nWashington correspondent ot the Portland\\n(Maine) Advertiser, gives the following facts\\nshowing what is the remaining strength of\\nthe white forces of the Confederacy, and how\\nvery far removed the Southern people are\\nfrom exhaustion :\\n\\\" Not one-third of the able-bodied white\\nmen of the South have as yet entered the\\narmy. The South bad 1,000,000 white men\\n-of the proper military age, when the war be\\ngin, and 200,000 boys who bave since attain\\ned to that age, making 1,800,000 men. The\\nStates have furnished up to this time, in all\\n850,000 men, of whom 558,000 have perished\\nin battle, or by disease. 60,000 are now\\nprisoners in our bands, 20,000 are iu bospi\\ntala, slightly wounded, and 212,000 constitute\\nthe Confederate armies now in the field. They\\nhave yet 550,000 white men, from which to\\nkeep their armies full, and they do not there\\nfore need -the negroes as soldiers.\\\"\\nThose who boast that the war is near an\\n\\u2022ending, will do well to study these figures.\\u2014\\nAdd to this the vast number of able-bodied\\nnegroes who can and will be summoned to the\\nfield, when they deem it politic or necessary\\nand the greatness of the work of conquest\\nand subjugation yet before the Administra\\ntion is made fully apparent. The war as\\nprosecuted by the party in power, is only in\\nits infancy. The work of \\\" crushing out the\\nrebellion,\\\" is to be an unending one if noth\\ning but brute force is to be employed.\\nPolitical Theology. \\u2014A correspondent of\\nthe Boston Courier, gives the following in\\nstances of pulpit interference with the recent\\n\\u2022lection :\\nOne saintly orator proclaims from his pul\\npit, recently gilded by urgent appeals from\\nthe El Dorado of priests and laity, that every\\nvoter at the coining election must feel that ne\\nha\\u00ab the sacramentt I bread in his band.\\nBut on Sunday last, a young friend who has\\n^devoted himself to the country's cause in\\nmany & well-fought battle, stepped into the\\nTremont Temple, in the hope of listening to\\nGod's holy word. In lieu of Such a service,\\nappropriate to the day, he beard a violent\\ndenunciation of Gen. McClellan, and a sym\\npathetic and blasphemous harangue in favor\\nof Mr. Lincoln, ending as follows: \\\"Stand\\nmp for God ! Stand up for Jesus 1 Stand up\\nfor Abraham Lincoln 11\\\"\\nThe late Rev. Dr. Sutton, Vicar of Sheffield,\\nonce said to the late Mr. Peech, a veterinary\\n\\u2022urgeoc\\u2014\\\" Mr. Peech, how is it that yon\\nbave not called upon me for your account?\\\"\\n*' Ob,\\\" said Mr. Peech, \\\" I never ask a gentle\\nman for money.\\\" \\\"Indeed,\\\" said the Vicar;\\nffitben bow do you get on if they don't pay ?\\\"\\n\\u00ab\\u2022 Why,\\\" replied Mr. Peecb, \\\"after a certain\\ntim\\u00ab I cone* de that be is not a gentleman.\\ni.ad the\\u00bb I a : a. M\\nThe Nation's New Countenance.\\n,\\n\\\" War-Time Excesses,\\\" writes N. P. Willi\\u00bb '\\nin the N. Y. Home Journal, \\\" have substituted\\naltogether a new ferocity for the long accus\\ntom .-u money-making sagacity in the charac\\nter of our countrymen. He illustrates our\\nrampant Americanism by a quotation from\\nthe book of Judges. It is there told, as a final\\n________ \\u201e .\\ntfifect of Israel's war with the Pbillistines,\\u2014\\nthat, \\\"lo llio.e days there was no King in\\ndid that which\\nIsrael, but every man\\nright in his own eyes.\\\"\\nThan which, continues he, \\\" ft more faith\\nful picture of the men seen in Broadway and\\nthe Bowery, at the present moment, could\\nnot possibly be written.\\\" Mr. Willis then\\nproceeds in his observations: \\\"Yet the\\nbriakiag out of this pustule of corrupt mat- I\\nter on the face of our feverish nation\\u2014 1 \\\" 15\\none-man insolence\\u2014 \\u00ce3 seen no more under\\nthe military outton than under the rags of |\\nthe beggar. Notwithstanding the prodigious\\nmultiplication of beggars, there is no longer I\\nany humiity in their behavior. Be it a sold\\nier or an old woman, a child, or a cripple, I\\nthe needed ch.rity is iu.oleotly ^\\nsulkily or saucily\\u2014and the boon 13 given,\\ntaken as a right, and without thanks ; or, it\\nrefused, correspondingly resented. Nor can\\nwe contemplate with satisfaction the change\\nwhich we actually see, in the visage of our\\nyoung men, as made by war. There is here\\nand there a noble looking fellow among them\\nit is true; but the most ot tne men, now met\\nin Broadway and the Bowery, (the hundreds\\nof these same \\\"heroes at home on leave,\\\")\\nare saucily wirlike. And it is not seen\\nmerely in the twirling of a moustache or the\\ndefying of an eye; but who that bas an oc\\ncasion to ride in a car, or mingle, as a stran\\nger, now-a-days, in a crowd of our great city,\\ncan be pleased with the new manners which\\ndo certainly prevail\\u2014the shouldering and\\nelbowing, the rough jostling and rude lan\\nguage, the indifference, sulky and savage of\\nevery man to his neighbor, ar.d the complete\\nun-deferential conduct of every gathering\\neverywhere, it for their own independent\\npleasure\\u2014of men, women and children ? And\\n1 for a lesser result) it has positively made\\nmore discordant the common key of the pop\\nular voice ; while we think that the unseen\\nworking of the same fierce spirit is actually\\nchanging, for the worse, our prevailing na\\ntional type of female beauty !\\ntype\\nNew York Election.\\u2014 The canvass of the\\nvote of the State of New York for President\\nof the United States in the recent election\\nwas concluded at Albany daring the week,\\nby the State canvassers. The whole number\\nof votes cast was seven hundred and thirty\\nthousand seven hundred and twelve, of which\\nthree hundred aud sixty-eight thousand sev\\nen hundred and twentj-six were given for the\\nLincoln and Johnson electors, and three\\nhundred and sixty-one thousand nine hun\\ndred and eighty-six for the McClellan and\\nPendleton. The Republican majority is\\ntherefore six thousand seven hundred and\\nforty. Mr. Greeley, one of the Republican\\nelectors at large, received two hundred and\\nthirty-five votes less than his colleague, Mr.\\nPreston King. Between the numbers re\\nceived by each of the Democratic electors at\\nlarge there was a variance of but five votes,\\nMr. Washington Hunt receiving that many\\nmore than Mr. Wm. Kelly.\\u2014[New York Pa\\nper, Dec. 10.\\nImportant Decision. \\u2014In the case of Pedro\\nCasttllo against the Pacific Mail Steamship\\nCompany, for $25,600 damages for insufficient\\naccommodations as a passenger, and the loss\\nof $6,500 in treasure on the Golden Gate,\\nthe case ineolcing the entire qneation of the j\\nliability of the Company for losses on the\\nsteamer, the Court rendered a verdict for the\\ndefendants on the ground that the Company\\nwas not liable in cases of the total loss of |\\na vessel and cargo, and that the receipt did\\nnot set forth the exact character, amount and j\\nvalue of the package so lost.\\n_ \\u201e ,, , .\\nSCALDSANDBURNS.-Dr. Hall says the best,\\nmost instantaneous and most accessible rem\\nedy in the world, is to thrust the injured part\\nin cold water, send for a physician and while\\nhe i9 coming, cover the part an inch or more\\ndeep with common flour. The water gives j\\ninstantaneous relief, by excluding the oxygen\\nof the air ; the flour does the same thing, bat\\nis preferable because it can be kept more con- j\\ntinuonsly applied with less inconvenience!\\nthan by keeping the part under water.\\nGen. Sherman is described by a captain\\n\\\"as a man who has a gaunt look\\u2014 aboutas if\\nhe got hungry when a boy and never got over\\nit. A nervous man, never quiet, pulling his\\nwhiskers or buttoning his coat, or twisting a j\\nstring, or rubbing a finger\\u2014never quiet, but j\\nwith a kind of look iu bis face that reminds I\\none of a panther, if he gets angry, powerful, |\\nkeen, fiery, and a genius.\\\"\\nSchoolmaster Abroad. \\u2014The following is j\\na verbatim copy of the report of the post\\nmaster in Shawnee county, Missouri\\n\\\" I hereby certify that the fore gom A\\nCounte is as near Rite as I now how to maik J\\nit if there eny mistake it is not Dun a purp\\ners.'\\n\\u00ab Oh, papa, Dr. Marsh had such hard work\\nto pull mother's tooth 1\\\"\\n\\\" Had he, my soq ?\\\"\\n\\u00ab Yes, I saw him try first with his pincers, I\\nand then he put his month right close te I\\nmother's and pulled it out with his teeth.\\\"\\nA yocng man of good standing, recently\\nproposed marriage to a young lady out West,\\nwhen he received for an answer : \\\" Get out, j\\nyon feller. Do yon think I'd sleep with a\\nman ? I'll tell your mother 1 \\\"\\nAdvertisements, to insure insertion, must be hand-1\\ned in as early as Thursday, and the number of insertions\\ndesired \\u201ehoulil be noted on themargin.\\nReligious Notices.\\u2014Rev. Vother A..Z,\\nPoulin will hold divine service at the St. Jose P^ Church,\\ncorner Commercial street and East Hill, every ..unday at\\n10\\\\4 o'clock A. m. ; vespers at 7 o'clock P. M.\\nftev. Father T. Mesplie, will hold divine service at Pla\\ncerville, at the St. Thomas Church, on the 1st Sunday- in\\nJanuary, 1865, at 10 o'clock A. M. ; and every tlurd Sunday\\nthereafter at the same hour. Also, at the St. Dominic\\n(tan*;\\u2022 \\u00ceS\\u00ceS2\\u00c2\\u00cf\\u00cfK\\non the third Sunday in January, 1865, at 10^ o'clock a.\\nm ; and every third Sunday thereafter\\u2014until further j\\nnotice.\\nI. O. O. F.\\n\\u00e4HSoS\\nMonday evening of each week, at\\n7 o'clock, p.m. Brothers in good\\nstm.ding are cordially invited to\\na en * M. ROSENBERG, N.G\\nJOHN Christie, Secretary,\\nIdaho Lodge, No. 35, F. & \\u00c4\\nt ' 6 Mu0Dic Hall,corner ofWall and Montgom- /\\\\X\\\\\\n* n '\\\"' J * \\\"\\n' J. K. SHAFER,\\nA TTORNEY AT LAW. Office-on the east\\nside of Montgomefy, near the northeast\\ncoruer of Wall and Montgomery streets,and one\\ndoor south of the Occidental Hotel, Idaho City,\\n1 utn\\nry streets. Called meetings every Saturday'\\nevening at 7 o'clock. C. D. SAYRS,\\n18tf\\nSecretary.\\n[4tf]\\n|ATTORNEYS\\n_ _\\nH. MARTIN .....................J- M. MURPHY.\\nMARTIN & MURPHY,\\nATTORNEYS AT LAW.\\nOffices at Idaho and Roby cities.\\n2tf\\nPRANK MILLER.\\nCHAS. C. DUDLEY.\\nMiller, & Dudley\\n* COUNSELORS!\\nI\\n/a rjni T. A ~W I\\n. \\u2022 .\\nOffice\\u2014South-west corner IV all aud Montgomery streets,\\nnext door to Froats k Co.'s Packer's depot, Idaho city,\\nL T. 4itf I\\nW.B. Keithly,\\ni\\nAttorney at Cam.|\\nI\\nm/ntTrZ'?\\u2122' 7 . Street \\\"\\\" S'i\\nR,t. IWIW \\u2022 30tf 1\\nIdaho City, Boise Conn*\\no\\nJ. B. Rosborough,\\nATTORNE Y-AT-LAW.\\nopposite Clerk's j\\nFFICE\\u2014 On Wall street,\\noffice, Idaho city.\\nE. F. GRAY,\\nATTOllNEY AT LAW,\\nWall street, Above Main.\\nIdaho city\\nvlnltf\\nCHARLES B. WAITE.\\nJOSEPH MILLER.\\nItDaite * Jfliller,\\nW\\n^ttornevs-at'Law.\\nO FFICE on Montgomery street, 2d door north\\nof Hildreth's drugstore. 41U*\\nGeo C. Hough,\\nDist. attorney.\\nGeo.I. Gilbert,\\nNotary Public,\\n\\u2022 1 V. ^ ^ \\u00b1 j\\u00c7t- XX rm cr \\\"h\\n^ 1 1 D e ^ t Jri O U er XI,\\nATTORNEYS AT LAW ,\\n[Wall st., above Main,]\\n_ (n30-tf) _\\n3Z>. Win. Douthitt,\\nC&ttorneg at \\u00a3ato,\\ni__ , . _\\nIdaho City, - - Idaho Territory\\n\\u00ab\\u00bb\\\"Particular attention naid to cnlleetimr\\nDebt? attention paid to collecting\\nI-!\\nGEORGE AINSLIE\\nAttorney and Counselor at Law,\\n\\u2014and\\u2014\\n* Solicitor in Chanceby.\\nCenterville, Boise County, 1. T. 28m3\\nCHAS. WALKER,\\nJustice of the Peace*\\njar Office on IPall street, above Main. 4**tf\\nto resume his practice,\\nOctober 22.1864\\nCREIGHTON & BUTTON.\\nD EALERS in Staple Dry Goods, Clothing\\nGroceries, Boots and Shoes. Liquors Tobacco\\nand Miners' outfits.\\nWashington St., Centerville. Sept. 25,1853\\u2014ltf\\nDr* Raymond,\\nPhysician and Surgeon.\\nFFICE opposite W., F. & Co.'s, Idaho City.\\nDR. L WILBIS\\nH AS gone to San Francisco for stock, in the\\nline of his profession as a Dentist and Sur\\ngeon, and will return about the 1st of December,\\n... ------\\n\\u00abVILLIS*\\nn H\\nDR. C. H. STUART,\\nBUY SICI A\\nSurgeon and Accoucheur.\\nQFFICE\\u2014On Main Street, Tioaeer City, I. T.\\nC-. *. freeman. R. b. Wallace.\\nC. E. FREEMAN & CO.,\\n(Jl]enlist5 (lilt) $DrUe((jiSt0\\nWells, Fargo A Co.'s Building,\\nj\\nWASHINGTON STREET, CENTERVILLE. I. T.\\n[v2-n2tf]\\nDR. A. J. HOGG,\\nOffice, nearly opposite Forrest Theatre, Mainst.\\nID A HO CITY, I. T. vlnl\\nJ. K. Clark, M. D. J C. B . Parkbr, M. \\u00bb.\\nDoctors Clark & Parker,\\nH omeopathic physicians, office on Main st.,\\nopposite Poujade House, Idaho city. This treatment\\nI will cure all diseases that any other treatment can cure\\u2014\\nquicker and more permanently; also, many that are con\\nsidered incurable. Particular attention paid to chronic\\ndiseases, and all diseases of women and children. May be\\nconsulted at all hours day and night. 4m6\\nDR. J. M. BETTS,\\nPHYSICIAN AND SURGEON.\\nOffice\\u2014Two dcors south of the Empire Market,\\nIdaho City. 3tf\\nS. P. SCANIKER,\\nAttorney and Counselor at Law.\\nOffice on East Side of Main Street,\\n[Near the Terminus of the Bear Run Railroad .\\nIDAHO CITY.\\n8tf\\nC. B. WAITE & CO.\\nW ILL buy and Bell, on commission, Quartz and Min\\ning claims, real estate, mining stocks, Ac.\\nThe immense extent and extraordinary richness of\\nthis mining region, present unusual facilities and offer\\nI great inducements to capitalists.\\nIn addition to the mines well known, and daily being\\nworked, others of unprecedented richness are being con\\nstantly discovered.\\nAH communications will receive prompt attention.\\nIdaho city, November 1,1864. n2m3\\nIdaho city, November 1,1864.\\nDENTESTRY.\\nT HE undersigned has located in this city to practice\\nbis profession. Having been in constant practice for\\nI a period of over twelve years, he feels confident that he\\ncan satisfy all who may require his services. Has a\\n, \\u00ab U pply of artificial teeth, and other facilities for\\ndoi * g ttll ^^ d8 of wor k in his line.\\nI office on Wall street, second door above Higby & Co.'s\\n2tf F. C. NICHOLS\\ni store.\\nC. H. MACK,\\n33 E N ^f A 1 ;F t T , 8 Tj\\nI No. 10 Alder street,\\nPortland, Oregon,\\nAttheoldpuce of H. H. Black, near the People'a\\n1 Transportation Company'\\u00ab offl\\u00ab The patronage\\nj\\nof those desiring first-class and finished operations\\nis particularly requested. v2n5tf\\nDR. JAMES HEALY,\\nPHYSICIAN AND SURGEON.\\nOffice .at McGlinchy's Old Store,\\nMONTGOMERY STREET, IDAHO CITY.\\n[n7tf]\\nDr. HARRIS\\nN OTIFIES the public that John E. Brou\\nton is his anthorized Agent to transact any\\nbusiness connected with his Drug establishes\\u00ab\\nI during bis absence to San Francisco*\\nHe will return in the Spring with a full assort\\nment of Goods belonging to his line \\u00f6f business,all\\nI of which will be sold at the lowest possible rates\\nNov. 1,1864 vln2tf\\nDUNCAN & TURNER,\\nAuctioneers and Commission Mer\\nchants.\\nC CLOTHING, GROCERIES, PROVISIONS\\nj and every species of Merchandise for sale at\\n[their store on Wall street, one door above the\\nIdaho Stable, Idaho City. 5tf\\nH\\nDR. J B. ISBA-IB\\nDENTIST,\\nAS removed his office and taken rooms at the\\nInternational up stairs, on Main st., Idaho\\nCity. All operations guaranteed to give the best\\nsatisfaction. ( shall visit Boise City and the sur\\ni rounding camps at stated periods, when 1 shall\\nLive notice. N. B. To the Profession\\u2014I shall\\nkeep on hand a new supply of gold foil, and in\\ngtr / ment8 of aU kindg; as \\u00fcn0 a8 can be had in the\\nI Eastern States. n2m6\\nEastern States.\\nOctober 21, 1864.\\nJ. H. HECKMAN\\nMain Street, Idaho City,\\nW ATCHMAKER an*d Jeweler, Dealer in Jew\\nelry and Watches. Solid Gold Jewelry\\nmade to order. Particular attention paid to\\nRepairing Fine Watches\\njjjgf\\\" All work warranted for twelve months.^*\\nIdaho City, August, 1864. 60tf\\n8. DEMON,\\nWMIMk\\u00ae 0AV66H8T,\\nCorner of Washington & Second streets,\\nDalles, Oregon,\\nr\\\\EALER in Drags, Patent Medicines, Trasses\\n\\u00b1J Acids, Oils, Brushes, Hops, Glue, Corks\\nPerfumery, Soaps and Toilet articles. Orders from\\nDruggists, Physicians and Traders In the Mines\\nfilled at the lowest price, 35tf\\n\\\" EMPIRE HOTEL, \\\"\\nMAIN STREET, DALLES, OREGON\\nThomas Smith, Proprietor.\\nA FIRST-CLASS HOUSE.\\nI situated in the center of business,\\nNear the Steamboat and Railroad\\nL........... I r^ DIN . G8 :.... 5 o cat,\\n............................ 50\\nj groof Safe in\\nNo It\\nto\\nopen\\nptfd Wf.the premises. Baggage\\nrtid^-fnee of charge. Fire\\npft for deposit of valuable\\u00ab.\\n\\u00e4*t. n47-tf\\nWilliam McGrorty\\nO FFERS FOR SALE ONE OF TH \\u00ab. LARG\\nest stocks of merchandise ever offered to a\\ndiscriminating public, and at prices which will\\ndefy competition\\u2014viz :\\nFlour,\\nBeans,\\nHams,\\nPeaches,\\nApple,\\nCoffee,\\nCandles,\\nNails,\\nShovels,\\nSpades,\\nSoap,\\nSugar,\\nGan Fruits,\\nClothing,\\nTobacco,\\nBoots\\n& Shoet,\\nQuicksilver,\\nButter\\nand Cheese,\\nEtc., Etc.\\nGoods taken on Storage and Com\\nmission.\\nUS,\\\"William McGrorty's Block, Wall street, ia\\nthe largest building e/er erected in Idaho Territo\\nry, and considered safe from fire ; the accommo\\ndations cannot be surpassed.\\nIdaho city, October 26, 1864. ltf\\nC. KLANE,\\nb\\nDEALER IN\\nF URNITURE of every description, Beds and\\nBedding, Sofas, Wall Paper, Curtains, etc\\u00ab\\nOn Main street, near corner of Wallula street,\\u2014\\nIdaho City. 4m3\\nSTAGE HOUSE,\\nBOISE CITY, I. T. 1- B -- B CTM-\\n1 Yates & Carr, .Props.\\nT HE undersigned would respectfully inform their\\nfriends, and the public in general that they have\\nrented the above named Hotel, and are prepared to fur\\nnish their patrons with accommodations equal to any la\\nthe city. The Table will be supplied with the best that\\ncan be obtained m the market, and lodgers will be fur\\nnished with Nice Clean. Beds. Idaho city and\\nOwyhee stages arrive and depart from this House.\\nW. A. YATES,\\nnltf S. L. CARR.\\na\\nPRIVATE MEDICAL Alt).\\nQuick Cures and Moderate Chargee.'\\nDR. W. K. DOHERTY'S\\nPRIVATE MEDICAL AND SURGICAL INSTITUT\\u00bb\\nSacramento street, below Montgomery, opposite the Pa\\ncific Mail Steamship Co's office. Private entrance an\\nLeidesdorff street, San Francisco,\\nof the bladder and Kidneys, etc., etc.; and be hopes that\\nhis long experience and succesful practice of prnny years\\nwill continue to insure him a share of public patronage:\\nBy the practice of many years in Europe and the United\\nStates, he isenabledto apply the most efficient and au\\u00a9\\nEstab ished expressly to afford the afflicted sound\\nand scientific Medical Aid, in the ti eatment and\\ncure of all Private and ('hrmic Diseases ,\\ncases of secrecy and all sexual diseases\\nTo the afflicted, Dr. W. K. Doherty returns his sineere\\nthanks to his numerous patients for their patronage, and\\nwould take this opportunity to remind them that he con\\ntinues to consult at his Institute for the cure chronic\\ndisease of the Lungs, Liver, Kidneys, Digestive and\\nGenito-Uriny Organs, and all private diieases, viz : Sy\\nphilis in allit8 forms and stages,Seminal Weakness, and\\nall the horrid consequences of self-abuse Gonorrhoea,\\nGleet, Strictures, Nocturnal and Diurnal Emissions, Sextt\\nal Debility, diseases of the Back and Lions, Infla m atlon\\nessful remedies again st diseases of all kinds. He usee\\nno mercury, chargesmoderate, treats his patients in \\u2022\\ncorrect and honorable way, has references of unquestion\\nable veracity from men of known respectability and high\\nstanding in society. All parties consulting him, by letter\\nand otherwise, will receive the best and gentlest treat,\\nment and implicit secrecy.\\nDr. Doherty will take pleasure in showing to patiente\\nwho will call en him the sworn depositions of many who\\nhave been cured by him, who have previously tried many\\nphysicians but without success.\\nTO CORRESPONDENTS.\\nPatients residing in any port of the State, however dis\\ntant, who may desire the opinion and advice of Dr. Dohertr\\non their respective cases, and who think proper to submit\\na written statement of such, in prelerence to holding a\\npersonal interview, ere respectfully assured that their\\ncommunications will be held most sacred. Dr. Doherty\\ntakes this opportunity of observing, that all letters are\\nonly opened and replied to by himsejf, and the latter aa\\npromptly as possible.\\nIf the case be fully and candidly described, personal\\ncommunication will be superceded, as instructions for\\ndiet, regimen, and the general treatment of the cases itself\\n(including the remedies), will be forwarded without delay,\\nand in such a manner as to convey no idea of the purport\\nof the letter or parcel so transmitted.\\n\\u00ab^Consultation gratis. Permanent cure guaranteed\\nor no pay. Address W . K. DOHERTY, M. D.,\\nn6-3m San Francisco, California.\\nHIGBY & CO.\\nCORNER MAIN and WALL STS.,\\nOPPOSITE INTERNATIONAL\\nHOTEL.\\nWholesale and Retail Dealers in\\nGroceries, Provisions, Mining* Tools,\\nHardware, Clothing, Wines,\\nLiquors, Boots and Shoes,\\nAmunition, Hats, Glorea\\u00bb\\nStationery, Ladies' and Children's Shoe\\u00bb.\\nN. B. The entire stock has been selected with\\ngreat care, in Ban Francisco, by an experienced\\nman, expressly for this market.\\nBannock City, September 29th, 1863. ltf\\nUMATILLA FERRY\\n..and..\\n____opposite.\\nUmatilla City,\\nf\\nOregon*\\nB EST GRASS and WATER in all the Upper\\nCountry. Animals put across the Columbia\\nriver and returned with dispatch. A large boat ia\\nrunning that carries forty animals Bale! y ata trip.\\nUmatilla, April 1st, 1864.\\n3otf * FOSTER & CLIFFORD.\\nMiner's Brewery j\\n\\u2014and-\\u2014\\nT HE proprietors of the Pioneer Brewery of th\\nBasin being thankful for the liberal patronag*\\nreceived, assure their friends that they will con\\ntinue to make in their establishment, the beat\\nof Lager Beer, Bread, Piet and Cakes.\\nKNAUER& CO.\\nBannock City, September 29th, 1863. ltf,\\nStorage.\\nA FPLY at the Minen' Brewery aud Bukett\\n[n94f] MASKS, KNAUER *CO*\", \"batch\": \"batch_idhi_dickens_ver01\", \"title_normal\": \"idaho world.\", \"url\": \"http://chroniclingamerica.loc.gov/lccn/sn82015407/1865-01-21/ed-1/seq-1.json\", \"place\": [\"Idaho--Boise--Idaho City\"], \"page\": \"\"}, {\"sequence\": 1, \"county\": [\"Boise\"], \"edition\": null, \"frequency\": \"Weekly\", \"id\": \"/lccn/sn82015407/1865-01-28/ed-1/seq-1/\", \"subject\": [\"Boise County (Idaho)--Newspapers.\", \"Idaho City (Idaho)--Newspapers.\", \"Idaho--Boise County.--fast--(OCoLC)fst01219026\", \"Idaho--Idaho City.--fast--(OCoLC)fst01295399\"], \"city\": [\"Idaho City\"], \"date\": \"18650128\", \"title\": \"The Idaho world.\", \"end_year\": 1918, \"note\": [\"Archived issues are available in digital format from the Library of Congress Chronicling America online collection.\", \"Semiweekly eds.: Idaho semi-weekly world (Idaho City, Idaho : 1867), May 4, 1867-Nov. 11,1868 ; Idaho semi-weekly world (Idaho City, Idaho : 1875), July 30, 1875-June 15, 1908.\", \"Triweekly ed.: Idaho tri-weekly world, Mar. 14-July 27, 1875.\"], \"state\": [\"Idaho\"], \"section_label\": \"\", \"type\": \"page\", \"place_of_publication\": \"Idaho City, Idaho Territory\", \"start_year\": 1864, \"edition_label\": \"\", \"publisher\": \"I.H. Bowman & Co.\", \"language\": [\"English\"], \"alt_title\": [\"Idaho weekly world\"], \"lccn\": \"sn82015407\", \"country\": \"Idaho\", \"ocr_eng\": \"*\\n1\\nThe\\nfi\\n1 : - 2 -, *t t _ \\u201e ,- .( ## \\u00bb \\u2666 V\\ndaho World\\nHI!)\\nt,\\nY'\\u00ee A r JYU\\n/. ya .;:v. taST\\n__ |iV. *\\ny. \\u25a0 K\\u00cf\\u0178\\n, t J. if. t jti!:\\n\\\" THE NOBLEST MOTIVE IS THE PUBLIC GOOD.\\\"\\n\\u2022 : ' \\u2014 \\\" =ai\\nVol.'L\\nIDAHO CITY, BOISE COUNTY, IDAHO TERRITORY, SATURDAY, JANUARY 28, 1865.\\nf -\\n, 4\\nNo. 14.\\nJdatur \\u00eeffitorli\\nPUBLISHED EVERY SATURDAY MORNING BY\\n1. H. BO W MAN & CO.\\nH. C. STREET, Editor.\\nTERMS INVARIABLY m ADVANCE,\\nPayable in Gold or its Equivalent.\\nRates of Subscription:\\nOne .year,.....\\nSix mortli3, - -\\nThree months,.......\\nSingle copies, .....\\nRates of A^cLvertising :\\nPer square, ten lines or less, first insertion, : :\\n\\\" \\\" \\\" \\\" \\\" each subsequent in.\\n\\\" \\\" \\\" \\\" \\\" three months, : :\\n\\\" \\u00ab \\\" \\\" \\u25a0** one year, : :\\n$12 00 .\\n7 00.\\n4 00 .\\n50.\\n-Agents for tbe Idaho World.\\nA. P, Turner, Carrier and General Agent, Idaho city.\\nThos. Boyce, northeast corner Montgomery and Wash\\nington street, up stairs, San Francisco, Cal.\\nC. R. Street, Cal. Express office, Marysville, Cal.\\nS. J. McCormick, Portland, Oregon.\\nM. J. Allphin, Dalles city, Oregon.\\nC^PT 1 MiLler, GRA r '} ^ ** \\u00b0^ on -\\nA.H. Brown \\u2014Wells, Fargo & Co.'s agent. Auburn, Or.\\nPowell & Coe, Umatilla, Oregon.\\nA. A. Mix, Walla Walla.\\nW. W. Chapman. Jr., Pioneer city.\\nR. B. W allace, Centerville.\\nM. B. Moore, Placemlle.\\n\\u00a3. L. Carr, Boise city.\\nG. L. Goodrich. Rocky Bar.\\nH. O. Purdy, Silver city, (Owyhee.)\\nW. Greenwell, Ruby city.\\nTHE MEETING OF THE WATERS.\\nClose beside the meeting waters\\nLong I stood as in a dream,\\nWatching how tbe little river\\nFell into the broader stream.\\nCalm and still the mingled current ,\\nGlided to the waiting sea;\\nOn its breast serenely pictured\\nFloating cloud and skirting tree.\\nAnd I thought, \\\"Oh, human spirit 1\\nStrong and deep and pure and blest,\\nLet the stream of iny existence\\nBlend with thiue, and find its rest 1 \\\"\\nI could die as dies the river\\nIu the current deep and wide ;\\nI would live as live the waters,\\nFlashing from a stronger tide!\\npower of ammyai\\nMac A rone and the Deserter.\\nThe amusing war correspondent of the N.\\nY. Leader, writing \\\" from the front,\\\" on the\\nPotomac, or James, says :\\nA little further on l came to a reliable de\\nserter, who lay on a sand heap scratching\\nhimself. These deserters are very nice fel\\nlows.\\nAs I approached he rose and saluted.\\n\\\"Jes'came f'm 'tuther side, gin'ral,\\\" says\\nhe.\\n\\\"What do you want,\\\" says I.\\n\\\" I'm powerful dry,\\\" says he.\\nI called an orderly and bade him fetch some\\nwhisky.\\n\\\" Now,\\\" says I, 11 how's things overon your\\nside ? \\\"\\n\\\" Well,\\\" says he, \\\"pretty bad. Old Lee,\\nhe ain't got no men whatsomever.\\\"\\n\\\" I guess you lie,\\\" says I. \\\" We felt his\\nline the other day, and it didn't feel good.\\nYou might just as well tell the truth.\\\"\\n\\\" Oh 1 \\\" says be, I was only speaking figu\\nratively like. He ain't got no men to speak\\nof\\u2014fifty or sixty hundred thousand, mebbe.\\\"\\n\\\" H'm, that's enough,\\\" says I.\\n\\\"Yes, only they ain't good for nothing.\\nThey ain't got no ammunition.\\\"\\n\\\" Tney keep up a devil of a firing,\\\" says I,\\n\\\" for men without ammunition.\\\"\\n\\\" Wal, yes,*' says he, \\\" that's what's run\\nthe blockade. Thar's a\\ntiou runs the blockade.\\\"\\n\\\" Short of rations ? \\\" says I.\\n\\\" Dreadf l short,\\\" says he. \\\" We don't get\\nonly a cracker every three days.\\\" .\\nII Why, I killed a lot of you up yonder\\nwhile ago with their knapsacks full.\\\"\\n\\\" 0, yes. That's wh&t they got f m the\\nShandoah Walley. They got a heap of food\\nup yonder. Fact, they h^s all they want to\\noat, jes now.\\\"\\n\\\" You're bound to suit, arn't you,\\\" says I.\\n\\\" How are you off for ordnance?\\\"\\n\\\" 0, our ordnance is orf'l,\\\" says he.\\n\\\"Yes,\\\" says I, \\\"Is'pose so. But, young\\nnaan, I've got an ordnance, too, about offal,\\nand I keep it pretty well cleared out of these\\nlines. Now you'd better clear out. I go in\\nfor treating my fellow men well, but when it\\ncomes to rebels, and lying deserters, and ly\\ning deserters at that, I can't say I see it.\\nWhat do you expect to do round here?\\\"\\n\\\" VV^ell,\\\" says he, \\\" I kinder thort I'd go\\nNorth and play Union refugee. I'm told it\\npays fust rate at Lincoln meetin's.\\\"\\n\\\" And how are you going to get to the\\nNorth ?\\\" \\u00bb\\n\\\" I s'pect you'll send me.\\\"\\n\\\" Do you ?\\\"\\n\\\"Yes ; if you don't, I'll jes' go back again\\nto old Lee, and tell him all I seen in your\\nlines.\\\"\\nThis is wha\\u00a3 I call a good S^ecinlen of a\\nrebel. He went iu for dictating his own\\nterms. 1\\nI sent him np to headquarters and had him\\nhanged.\\nOld Abe's Last. \\u2014In dismissing & party of\\nthree hungry office-seekers, who had often\\nwearied him, Mr. Lincoln reminded them of\\ntbe schoolmaster who told one his pupils to\\nread the third chapter of Daniel. The boy\\nbegan, but when he came tbe names of Shad\\nrach, Masheck and Abednego, he stumbed.\\nTbe master told the boy he might read the\\npreceding chapter, and let the present one\\ngo. He got on famously nntil he reached the\\nlast verse, when, pausing, and casting a sav\\nage glance at the book, he exclaimed : \\\"Well,\\nI'll be darned if here ain't them three fellers\\nagain 1\\\", f\\n\\u2022\\nr\\n^\\nThe Abolition Successor of, Washington\\n^ Mr. Lincoln was at first, says the Patterson\\n(IL J.) Register, accidentally elected to the\\nPresidency of the United States, arid his lack\\nof statesmanlike qualities and the culture\\nand habits of a gentleman was not so direct\\nly a disgrace to the people of this country as\\nif he had been fairly elevated to the \\\"Chief\\nMagistracy by a fairly expressed majority.\\u2014\\nBut the people cannot now escape the odium\\nof .having put a mere joker, an uncouth, un\\ncultivated fiatboatman, a buffoon, into the\\nseat which a Washington honored. The\\nmajority of the people so voted, however, and\\ncannot avoid the disgrace. Now let every one\\nwho gave bis ballot for \\\"Abraham Lincoln\\nread the following {the truth of which is\\nvouched for by the World), and rejoice if\\nthey can over the elevation of such a man as\\nMr. Lincoln, whose classical conversation is\\nreported thus:\\n\\\"How do you New York Democratic chaps\\ntake my election?\\\" asked Mr. Lincoln, a few\\ndays ago, of a prominent New York McClel\\nlanite, with whom the Executive is pleased\\nto be on good personal terms. \\\"Oh, pretty\\nWell, on'.he whole,\\\" was the reply. \\\"Some\\nof Our boys complain, however, that you\\ncarried the State by your postmasters steam\\ning the envelopes that contained McClellan\\nand Seymour votes, thus opening the envel\\nopes and substituting Lincoln and Fenton for\\nMcClellan and Seymour ballots.\\\" \\\"Ha, ha,\\\"\\nlaughed the President, leaning forward and\\ngrasping his ancles tightly; \\\" so they say, do\\nthey, that 1 came the 'gum game on them'\\nto be re-elected 1 Well, there's one comfort\\nabout it, old fellow ; and this you can tell\\nthem for me: that if I tried to cheat\\u2014\\nwhich they also did\\u2014by gum! I was success\\nful, and they wern't !''\\nAnd that is the successor of George Wash\\nington 1 i\\nA Noteworthy Fact. \\u2014An exchange very\\ntruthfully remarks that you can always tell\\nfrom the advertising columns of a newspaper\\nwho do the largest business and sell the\\ncheapest. The business man gifted with en\\nterprise and industry, having goods to sell,\\nwill strive to outstrip his competitors, and\\ninform the public through the press what he\\nhas for sale. This is so, and if our readers\\nwish to test the fact for themselves, let them\\nmake a note on their next shopping tour of\\nthe difference to be noticed between the es\\ntablishments of advertising and non-adver\\ntising firms. There will be found evidences\\nof thrift, indications of prosperity in the ad\\nvertising firm, a \\\" snap\\\" and wide awake air\\nabout the employers and clerks, in striking\\ncontrast with dull-, plodding ways of the \\\" old\\nfogies,\\\" who don't \\\" waste \\\" money in adver\\ntising. If purchasers wish to know where\\nthey will find the choicest goods and the\\nnewest styles, they will carefully study the\\nadvertising columns of their home paper,\\nThe examination of drafted men in tbif\\ntown closed on last week. Of the 211 men\\ndrafted 1 was dead ; 2 were non-residents ; 62\\nwere discharged on the ground of disability;\\n46 paid cdmmutationf 49 failed to appear;\\n3 were under age; 9 Were overage; 3 fur\\nnished substitutes' 14 were in the service;\\nand 16 are yet to pay or furnish substitutes.\\nOf the three substitutes, one is now in jail\\ncharged with murder. So that but two men\\nout of the number drafted have found their\\nway into the army and they are Canadian\\nsubstitutes. One might fairly infer from\\nthese facts that Old Abe's war for the nigger\\nis not very popular. \\\" The people (\\u00ee\\u00ebmhnd\\na vigorous prosecution of the war.\\\" Will\\nthe \\\"Loyal Leaguers\\\" hereabouts point out\\nthe \\\"white feather party,\\\" against which they\\nprated so loudly, three years ago. We opine\\nthe \\\" peace party\\\" is now the dominant one,\\nso far as numbers are concerned.\\u2014[Eastern\\nPaper.\\n7\\nOnr of the Spirit-Wrappers.\\u2014 A man was\\nin the street the other night, who bad evi\\ndently taken in too much of the ardent for\\nconvenient storage, and was rather unquietly\\nresting himself against a lamp-post, when an\\nacquaintance came aloDg, and observed that\\ntbe afflicted individual had on a new over\\ncoat.\\n\\\"Well, Bob,\\\" said he, \\\"guess you have\\nbeen indulging in a new overcoat.\\\"\\n\\\"Coat?\\\" replied Bob, giving bis hat a\\nknock, and endeavoring to gesticnlate; \\\" this\\nain't a coat.\\\"\\n\\\" Is n't a coat, eh ? Well, Bob, what is it,\\nthen?\\\"\\nBcb elevated himself to a tottering pigpen\\ndicular, and exclaimed: \\\"This 'ere ain't a\\ncoat\\u2014it's a spirit-wrapper !\\\"\\nMasonry. \\u2014Oh I who can tell the worth of\\nthe Masonic Order? It follows tbe depraved\\nand desolate as long as hope remains ; it ad\\nministers a balm to tbe wounded spirit ; cheers\\nup the happy to deeds of virtue, and to the\\nsoul of the sorrowful whispers peace. Ma\\nsonry stands like an angel by the couch of\\ndeath, smooths tbe fevered pillow of the dy\\ning, and as the lips of affection Huger in the\\nlast long kiss, she whispers in tones of melt\\ning tenderness a meeting beyond the grave 1\\nA young girl from Illinois went to St.\\nLouis, a few days ago, and sold herself for an\\narmy substitute. When taken before the ex\\naming surgeon, he ordered her to strip, but\\nthis not exactly agreeing with her sense of\\npropriety, she ran out of the room and con\\ncluded lo give up soldiering until they would\\ntake her word for being an able-bodied man.\\n\\\"Do yon suppose that yon can do the\\nlandlord in the 'Lady of Lyons?'\\\" said a\\nmanager to a seedy actor in quest of an en\\ngagement.\\n\\\" I should thick I might,\\\" was the reply.\\n\\\" I have done 1 a great many landlords.\\\".\\n/\\u00a9-Advertisements, to insure insertion, must be hand\\ned in as early as Thursday, and the number of insertions\\ndesired should be noted on the margin.\\nIleligioitS Notices.\\u2014Rev. Father A. Z.\\nPoulin will hold divine service at tbe St. Joseph Church,\\ncorner Commercial street and East Hill, every Sunday at\\n10% o'clock a. M. ; vespers at 7 o'clock v. M.\\nRev. Father;T. Mesplie, will hold divine service at Pla\\ncerville, at the St. Thomas Church, on the 1st Sunday in\\nJanuary, 1865, at 10 o'clock a. m.; and every third Sunday\\nthereafter at the same hour. Also, at the St. Dominic\\nChurch, at Centerville, on the second Sunday of January,\\n1865, at 10% o'clock a. m.; and every third Sunday there\\nafter. And, also, at the St. Francis Church, in Pioneer,\\non the third Sunday in January, 1865. at 10%_ o'clock a.\\nm : and every third Sunday thereafter\\u2014until further\\nnotice.\\nI. O. O. F.\\n)\\nPioneer Lodge,\\nNo. 1, U. <D., holds its regular\\nmeetings at the Masonic Hall, on\\nMonday evening of each week, at\\n7 o'clock, p. m. Brothers in good\\nstanding are cordially invited to\\nattend.\\nM.\\nJohn Christie, Secretary.\\nROSENBERG, N. G.\\nIdaho Lodge, No. 35, F. &\\nA. M., hold their regular meetings on Saturday\\nnight preceding the full moon of each month,''\\nat Masonic Hall, corner of Wall and Moutgom-,\\nry streets. Called meetings every Saturday '\\nevening at 7 o'clock. C. D. SAYRS,\\nIStf Secretary.\\n:A\\nJ. K. SHAFER,\\nTTORNEY AT LAW. Office-on the east\\n__side of Montgomery, near thu northeast\\ncorner of Wall and Montgomery streets, and one\\ndoor south of the Occidental Hotel, Idaho City.\\n[4tf]\\nA 1\\nH. MARTIN.....................J. M. MURPHY.\\nMARTIN & MURPHY,\\nATTORNEYS AT LAW.\\nOffices at Idaho and Ruby cities.\\n2tf\\nFRANK MILLER. CHA8. C. DUDLEY.\\nMiller, & Dudley\\nATTORNEYS & COUNSELORS\\nAT L AW.\\nOffice\\u2014South-west corner Wall aud Montgomery streets,\\nnext door to Froats & Co.'s Packer's depot, Idaho city,\\n{\\nI. T.\\n47 tf\\nW. R. K e i t h 1 y,\\nAttorney at Caro.\\nOFFICE\\u2014Montgomery street near Wall,\\nIdaho City, Boise Coup* - - f 30tf\\nJ. B. Rosborough,\\nATTORN E Y-A T-L A W.\\nO\\nFFICE\\u2014On Wall street,\\noffice, Idaho city.\\nopposite Clerk's\\nE. F. GRAY,\\nATTORNEY AT LAW,\\nIdaho city. Wall street, Above Main,\\nvlnltf\\nCHARLES B. WAITE.\\nJOSEPH MILLER.\\nVi\\n1\\ntoaite \\u00bb JtUller,\\n^ttornevs-at-H/aw.\\nO FFICE on Montgomery street, 2d door north\\nof Hildreth's drugstore. 41 tf\\nGeo. I- Gilbert,\\nNotary Public,\\nGeo C. Hough,\\nDlST. ATTORNEY.\\nGilberts Hou^h,\\nATTORNEYS AT LAW,\\n[Wall st., above Main,]\\n(n30-tf)\\nX>- Wm. IDoutliitt,\\nC 2 Utornej| at \\u00a3aro,\\nIdaho City,\\n^\\\"Particular\\nDebts.\\n- Idaho Territory\\nattention paid to collecting\\n27 m3\\nGEORGE AINSLIE\\nAttorney and Counselor at L aw,\\n\\u2014and\\u2014 ,\\nSolicitor in Chancery.\\nCenterville, Boise County, l.T. 28m3\\nCHAS. WALKER,\\nJustice of the Peace.\\ntBT Office on Wall street, above Main. 4-tf\\nCREIGHTON & BUTTON.\\nD EALERS in Staple Dry Goods, Clothing\\nGroceries, Boots and Shoes, Liquors Tobacco\\nand Miners' outfits.\\nWashington St., Centerville. Sept. 25,1853\\u2014ltf\\nDr. Raymond, \\u2022\\nPhysician and Surgeon.\\n^\\u2022^FFICE opposite TV., F. & Co.'s, Idaho City.\\nDR. L WILLIS\\nH AS gone to San Francisco for stock, in the\\nline of his professsion as a Dentist and Sur\\ngeon, and will return about the 1st of December,\\nto resume his practice, L. WILLIS*\\nOctober 22. 1864. n5.v2\\nDR.C.H. STUART,\\nPHYSICIAN,\\nSurgeon and. Accoucheur.\\nQ F PICE\\u2014On Main Street, |Pioneer City, I. T.\\n6tf.\\nCi E. FREEMAN.\\nR. B. WALLACE.\\nC. E. FREEMAN & CO.,\\n(\\u00a3l)emists ani\\u00bb druggists.\\nWells, Fargo & Co.'s Building,\\nWASHINGTON STREET, CENTERVILLE. I. T.\\n[v2-n2tf]\\nDU. A. J. HOGG,\\nOffice, nearly opposite Forrest Theatre. Maihst.\\nID A HO CITY, I. T. vlnl\\nJ. K. Clark, M. D. | C. B . Parker, M. D.\\nDoctors Clark & Parker,\\nTTOMEOPATIIIC PHYSICIANS. Office on Main St.,\\nXI opposite P cm jade House, Idaho city. This treatment\\nwill cure all diseases that any other treatment can cure\\u2014\\nquicker and more permanently; also, many that are Con\\nsidered incurable. Particular attention paid to chronic\\ndiseases, and all diseases of women and children. May be\\nconsulted at all hours day and night. 4m6\\nDR. J. M. BETTS,\\nPHYSICIAN AND SURGEON;\\nOffice\\u2014Two doors south of the Empire Market,\\nIdaho City. / 3tf\\nS, P. SCANIKER,\\nAttorney and Counselor at Law.\\nOffice on East Side of Main Street,\\nf Near the Terminus of the Bear Run Railroad ,]\\nIDAHO CITY.\\n8tf\\nC. II. WAITE & CO.\\nY Y Y ILL buy and sell, on commission, Quartz and Min\\nV V ing claims, real estate, mining stocks, &c.\\nThe immense extent and extraordinary richness of\\nthis mining region, present unusual facilities and offer\\ngreat inducements to capitalists.\\nIn addition to the mi Des well known, and daily being\\nworked, others of unprecedented richness ai e being con\\nstantly discovered.\\nAll communications will receive prompt attention.\\nIdaho city, November 1,1864. n2m3\\nDi^NTESTRY.\\nnnnE undersigned has located in this city to practice\\n1 his profession. Having been in constant practice for\\na period of over twelve years, he feels confident that he\\ncan satisfy all who may require his services. Has a\\nlarge supply iff artificial teeth, and other facilities for\\ndoing all kinds of work in his line.\\nOffice on Wall street, second door above Higbv & Co.'s\\nstore. 2tf F. C. NICHOLS.\\nC. H. MACK, \\u2022\\nDENTIST,\\nNo. 10 Alder street.,\\nPortland, Oregon,\\nAt the old place of H. H. Black, near the People's\\nTransportation Company's office The patronage\\nof thoso desiring first-class and finished operations\\nis particularly requested. v.2n5tf\\nDR. JAMES HEALY,\\nPHYSICIAN AND SURGEON.\\nOffice 'at McGlinchy's Old Store,\\nMONTGOMERY STREET, IDAHO CITY.\\n[n7tf]\\nDr. HARRIS\\n\\\"VT0T1FIES the public that John E. Brough\\nXy ton is his authorized Agent to transact any\\nbnsiness connected with his Drug establishment,\\nduring his absence to San Francisco*\\nHe will return in the Spring with a fulKassort\\nment of Goods belonging to his line of business,all\\nof which will be sold at the lowest possible rates.\\nNov. 1,1864 vln2tf\\nDUNCAN & TURNER,\\nAuctioneers and Commission Mer\\nchants.\\n/\\\"CLOTHING, GROCERIES, PROVISIONS\\nand every species of Merchandise for sale at\\ntheir store on Wall street, one door above the\\n^Idaho Stable, Idaho City. 5tf\\n'DR. J B. ISBA.1L,\\nDENTIST,\\nTT AS removed his office and taken rooms at the\\nXi International up stairs, on Main st., Idaho\\nCity. All operations guaranteed to give the best\\nsatisfaction. \\u00a3 shall visit Boise City and the sur\\nrounding camps at stated periook, when 1 shall\\ngive notice. N. B. To the Profession\\u2014I shall\\nkeep on hand a new supply of gold foil, and in\\nstruments of all kinds, as fine as can be had in the\\nEastern States. n2in6\\nOctober 21, 1864.\\nJ. EL HECKMAN.\\nMain Street, Idaho City,\\nTTTATCHMAKER and Jeweler, Dealer in Jew\\nVV elry and Watches. Solid Gold Jewelry\\nmade to order. Particular attention paid to\\nRepairing Pine Watches\\nAll work warranted for twelve months.*\\u00ae#\\nIdaho City, August, 1864- 60tf\\n8. LEMON,\\n\\u00dcUM1I \\u00a9I WOT,\\nCorner of Washington & Second streets,\\nDalles, Oregon,\\n*r\\\\EALER in Drugs, Patent Medicines, Trusses,\\n1 / Acids, Oils, Brushes, Hops, Glue, Corks,\\nPerfumery, Soaps and Toilet articles. Orders from\\nDruggists, Physicians and Traders in the Mines\\nfilled at the lowest price. 35tf\\n\\\" EMPIRE HOTEL, \\\"\\nMALY STREET, DALLES, OREGON\\nThomas Smith, Proprietor.\\nA FIRST-CLASS HOUSE.\\n% situated in the center of business,\\nNear the Steamboat and fiailroad\\nDAJVDDVGfS.\\nMeals................................50 Cents\\nLog ings...........................60 \\\"\\nt\\u00dff No liquors sold on the premises. Baggage\\ntaken to the hotel free of charge. Fire\\nrooLSafe in the office for deposit of valuables.\\n' tmse open all night. n4\\u00c7-tf\\ns\\nWilliam McGrorty\\nO FFERS FOR SALE ONE OF THE LARO*\\nest stocks of merchandise ever offered to a\\ndiscriminating public, and at prices which will\\ndefy competition\\u2014viz :\\nFlour,\\nBeans,\\nHams,\\nPeaches,\\nApple,\\nCoffee,\\nCandles,\\nNails,\\nShovels,\\nSpades,,\\nSoap,\\nSugar,\\nCan Fruit\\u00e0,\\nClothing,\\nTobacco,\\nBoots\\nSt Shoe\\u00ab)\\nQuicksilver,\\nButter\\nand Cheese,\\nEtc., Etc.\\nGoods taken on Storage and Com\\nmission.\\ntjg^William McGrorty's Block, Wall street, is\\nthe largest building e er erected in Idaho Territo\\nry, and considered safe from fire ; the accommo\\ndations cannot, be surpassed.\\nIdaho city, October 26, 1864. ltf\\nO. KLANE,\\nF\\nDEALER in\\nh\\nURNIT\\u00dcRE of every description, Beds and\\n7\\nBedding, Sofas, Wall Paper. Curtains, etc.\\nOn Main street, near corner of Wallula street,\\u2014\\nIdaho City. \\u2022 4m3\\nSTAGE HOUSE,\\nBOISE CITY, I. T.\\nates &; Carr, Props.\\n\\u00cf HE undersigned would respectfully inform their\\nfriends, and the public in general that they have\\nrented the above named Hotel, and are prepared to fur\\nnish their patrons with accommodations equal to any in\\nthe city. The Table will be supplied With the best that\\ncan be obtained in the market, and lodgers Will be fur\\nnished with Nice Clean Beds. Idahocityand\\nOwyhee stages arrive and depart from this House.\\nW. A. YATES,\\nnltf S. L. CARR.\\nPRIVATE MEDICAL AID.\\nQuick Cures and Moderate Charges!\\nDU. W\\u00bb K. DOHERTY'S\\nPRIVATE MEDICAL AND SURGICAL INSTITUTE\\nSacramento street, below Montgomery, opposite the Pa\\ncific Mail Steamship Co's office. Private entrance on\\nLeidesdorff street, San Francisco,\\nof the bladder and Kidneys, etc., etc.; and he hopes that\\nhis long experience and succesfnl practice of many year* *\\nwill continue to insure him a share of public patronage.\\nBy the practice of mahy years in Europe and the United\\nStates, he isenabledto apply the most efficient and roc\\nEstab ished expressly to afford the afflicted sound\\nand scientific Medical Aid, in the U raiment and\\ncure of all Private and ('hrmic Diseases,\\ncases iff secrecy and all sexual diseases\\nTo the afflicted, Dr. W. K. Doherty returns his sincere\\nthanks to his numerous patients for their patronage, and\\nwould take this opportunity to remind them that he con\\ntinues to consult at his Institute for the cure chronic\\ndisease of the Lungs, Liver, Kidneys, Digestive and\\nGenito-Uriny Organs, and all private diieases, viz: gy\\nphilis in all its forms and stages,Seminal Weakness, and\\nall the horrid consequences of self-abuse Gonorrhoea,\\nGleet, Strictures, Nocturnal and Diurnal Emissions, Sexu\\nal Debility, diseases of the Back and Lions, Diffamation\\nessful remedies again st diseases of all kinds. He uses\\nno mercury, chargesmoderate, treats his patients ih a\\ncorrect and honorable way, has references of unquestion\\nable veracity from men of known respectability and high\\nstanding in society. All parties consulting him, by letter\\nand otherwise, will receive the best and gentlest treat\\nment and implicit secrecy.\\nDr. Doherty will take pleasure in showing to patient\\u00bb\\nwho will call on him the sworn depositions of many who\\nhave been cured by him, who have previously tried many\\nphysicians but without success.\\nTO CORRESPONDENTS.\\nPatients residing in any part of the State, however dis\\ntant, who may desire the opinion and advice of Dr. Doherty\\non their respective cases, and who think proper to submit:\\na written statement of such, in preference to holding a\\npersonal interview, ere respectfully assured that their\\ncommunications will be held most sacred. Dr. Doherty\\ntakes this opportunity of observing, that all letters are\\nonly opened and replied to by himself, and the latter as\\npromptly as possible.\\nIf the case be fully and candidly described, personal\\ncommunication will be superceded, as instructions for\\ndiet, regimen, and the general treatment of the cases itself\\n( including the remedies), will be forwarded without delay,\\nand in such a manner as to convey no idea of the purport\\nof the letter or parcel so transmitted.\\n^^Consultation gratis. Permanent cure guaranteed\\nor no pay. Address W. K. DOHERTY, M. D.,\\nn6-3m San Francisco, California.\\nUMATILLA FERRI\\n..and..\\nWA\\u0152ISTOI MIOT,\\n\\u2014opposite.....\\nUmatilla City, ; : Oregon.\\nB EST GRASS and WATER in all tbe Upper\\nCountry. Animals put across the Columbia\\nriver and returned with dispatch. A large boat is\\nrunning that carries forty animals salely at a trip.\\nUmatilla, April 1st, 1864.\\n3otf FOSTER & CLIFFORD.\\nMiner's Brewery\\n\\u2014and\\u2014\\nnsixESnrYo\\nT HE proprietors of the Pioneer Brewery of th\\nBasin being thankful for the lib\\u00e9rai patronage\\nreceived, assuie their friends that they will con\\ntinue to make in their establishment, the best\\nof Lager Beer, Bread, Pies and Cakes.\\nKNAUER & CO.\\nBannock City, September 29th, 1863. ltf,\\nFRANKLIN HOTEL,\\n12 i-2 miles from Umatilla city,\\nO N THE ROAD To LA GRAND, AUBURN,\\nIdaho City, Placerville and Owyhee.\\nTHE HQUSE is spacious and convenient, with\\na Diningroom capable of seating a large number\\nof persons at a time, and in the way of luxuries no\\ntable at any hotel on the road shall surpass that of\\nthe Franklin House. The house is well furnished\\nwith Pulu Beds which will be Aept warm and com\\nfortable. The Bar will be kept constantly supplied\\nwith the best\\nWINES, LIQUORS & CIGARS.\\nThere is attached to the premises, a large Stable\\nwith hay and grain for animals.\\n27tf .1. C. Franklin, Proprietor.\\nStorage.\\nA PPLY at the Miners' Brewery and Baker?\\n[n9-tf] MARKS, KNAUER A CO,\", \"batch\": \"batch_idhi_dickens_ver01\", \"title_normal\": \"idaho world.\", \"url\": \"http://chroniclingamerica.loc.gov/lccn/sn82015407/1865-01-28/ed-1/seq-1.json\", \"place\": [\"Idaho--Boise--Idaho City\"], \"page\": \"\"}, {\"sequence\": 1, \"county\": [\"Boise\"], \"edition\": null, \"frequency\": \"Weekly\", \"id\": \"/lccn/sn82015407/1865-02-04/ed-1/seq-1/\", \"subject\": [\"Boise County (Idaho)--Newspapers.\", \"Idaho City (Idaho)--Newspapers.\", \"Idaho--Boise County.--fast--(OCoLC)fst01219026\", \"Idaho--Idaho City.--fast--(OCoLC)fst01295399\"], \"city\": [\"Idaho City\"], \"date\": \"18650204\", \"title\": \"The Idaho world.\", \"end_year\": 1918, \"note\": [\"Archived issues are available in digital format from the Library of Congress Chronicling America online collection.\", \"Semiweekly eds.: Idaho semi-weekly world (Idaho City, Idaho : 1867), May 4, 1867-Nov. 11,1868 ; Idaho semi-weekly world (Idaho City, Idaho : 1875), July 30, 1875-June 15, 1908.\", \"Triweekly ed.: Idaho tri-weekly world, Mar. 14-July 27, 1875.\"], \"state\": [\"Idaho\"], \"section_label\": \"\", \"type\": \"page\", \"place_of_publication\": \"Idaho City, Idaho Territory\", \"start_year\": 1864, \"edition_label\": \"\", \"publisher\": \"I.H. Bowman & Co.\", \"language\": [\"English\"], \"alt_title\": [\"Idaho weekly world\"], \"lccn\": \"sn82015407\", \"country\": \"Idaho\", \"ocr_eng\": \"The Idaho World\\n\\u00abTHE NOBL1SST MOTIVE IS THE PUBLIC GOOD.\\\"\\nVol. 1.\\nIDAHO CITY, BOISE COUNTY, IDAHO TERRITORY, SATURDAY, FEBRUARY 4, 1835.\\nNo. 15.\\nttto World,\\nPUBLISHED EVERT SATURDAY MORNING BY\\nI. H . 33 O W 3M A. IN' & CO.\\nH. C. STREET, Editor.\\nTERMS INVARIABLY m ADVANCE,\\nPayable in Gold or its Equivalent.\\nRates of Subscription :\\nOne year,.....\\nSix months, - - - - - -\\nTlire 3 months, -----\\nSingle copies,.......\\nRates of Advertising :\\nPer square, ten lines or les3, first insertion, : :\\n\\\" \\\" \\\" \\\" \\\" each subsequent in.\\n\\\" \\\" \\\" \\\" \\\" three months, : :\\n\\\" \\u00ab\\u00ab\\u00ab\\u2022< one year, : :\\n$12 00 .\\n7 00.\\n4 00.\\n60.\\nAgents for tbe Idaho World.\\nA. P. Turner, Carrier and General Agent, Idaho city.\\nThob. Boyce, northeast corner Montgomery and Wash\\nington street, up stairs, San Francisco, Cal.\\nC. R. Street, Cal. Express office, Marysville, Cal.\\nS. J. McCormick, Portland, Oregon.\\nM. J. Allphin, Dalles city, Oregon.\\nCAPT Tl MttLER,^' } Can y\\u00b0 a Cit *' 0re S\\u00b0 n -\\nA. H. Brown \\u2014Wells, Fargo & Co.'s agent, Auburn, Or.\\nPowell & Coe, Umatilla, Oregon.\\nA. A. Mix, Walla Walla.\\nM\\\\ W. Chapman. Jr., Pioneer city.\\nR. B. Wallace, Centerville.\\nM. B. Moore, Placerville.\\n8. L. Carr, Boise city.\\nC. L. Goodrich, Rocky Bar.\\nH. 0. Purdy, Silver city, (Owyhee.)\\nW. Greenwell, Ruby city.\\nBETTER FROM LEWISTON.\\nLewiston, January 2, 1865.\\nEditor World: As a reader of the first\\nDemocratic journal published upon the soil\\nof Idaho, allow me to congratulate yon upon\\nthe many evidences apparent of your success.\\nDuring the recent session of the Legislature,\\nI have looked in vain for some pen whose\\nfacile movements should portray to their\\nconstituents, through your columns, tbe\\nlabors of their delegation, and their firm\\nadherence to the doctrines taught by Jefferson,\\nand the early founders of the Republic.\\nLegislators, like actors, need the approval of\\nthe public, in order to crown their effort?\\nwith final success.\\nLEGISLATIVE\\u2014A GOOD JOKE.\\nThe first of the session passed smoothly\\nalong, wlflT the exceptiaa or an occasional\\nripple upon the surface the of political puddle,\\nnear its close. Upon the introduction of the\\n^ Bounty bill, (framed in the \\u00dfanctum of his\\nExcellency, and, therefore, his pet,) party\\nlines were drawn, and woe be to the waver\\ning. The mandate of his Highness had gone\\nforth, that the pretext for robbing the hardy\\npioneers of Idaho should receive the sanction\\nof the Legislature ; that it might be legiti\\nmately done under statute law. The friends\\nof the bill were disinclined to give its pro\\nvisions a very extensive airing,\\u2014choosing,\\nrather, to pass the matter through without\\nattracting much attention. At length it\\nbecame understood that, did they succeed\\neasily in the Council, the House was not\\ndisposed to allow so gross an outrage upon\\nthe people of this Territory to be perpetrated\\nwith impunity. Although so modified as to\\nseem not wholly impracticable on its face,\\nstill the tax levied under its provisions\\nsolely for a \\\"bunkum\\\" record to lay before\\nFather Abraham\\u2014amounted to $45,000. The\\nfirst proposition called lor $144,000, which\\nwas much nearer the actual amount needed.\\nHuge \\\" bunkum \\\" speeches from the Repub\\nlicau members (who need re-election to keep\\ntheir seats) were made, lauding the Adminis\\ntration to the skies, and denouncing all who\\nrefused to fall down and worship the image\\nthat Caleb of \\\" Lyonsdale \\\" had set up, that\\nlor the want of a faithful reporter for your\\njournal, will be lost to their constituents\\nforever. Praise of worthy mefit is a delight\\nful theme; when undeserved, however, it\\nbecomes the most withering sarcasm. There\\nfore, in claiming tljat \\\"we owe this to our\\ngovernment at home, from the fact that she\\nhas ever extended her protecting hand over\\nus,\\\"\\u2014and this claim set up in tbe face of the\\nfact that, on the contrary, we have so far not\\nonly paid all the usual taxes levied by our\\ngovernment upon bid settled States,\\u2014but we\\nfbave also supported, at our o.wn expense, and\\nfrom an almost empty treasury, all the dis\\nreputable Federal officers sent here. Does\\nour government need these troops ? and what\\nfor ? If we have to support (in addition to\\nthe officers we have no voice in electing)\\nstanding army, let the people have some voice\\nin the matter. Yoiir correspondent listened\\nattentively to the arguments,\\u2014or rather\\n\\\"bunkum,\\\" of the Republicans in both\\nHouses, and it was also generally observed\\nthat they left the merit of the bill untouched\\nSeveral good third rate Fourth-of-July ora\\ntions were had over it, and finally the funeral\\n6ermon was duly preached over it, and its\\ncompanion\\u2014the Militia bill, by the Reverend\\nmember, in the House, from Idaho. Thus\\n10 xvv\\nfoil as mad a scheme, and as destructive to\\nthe best interests of the Territory, as ever\\nentered the brain of a fanatic.\\nThe last day of the session at length came,\\nand with it a rather rich joke not wholly\\nwithout its lesson. During the passing of\\nparty measures through the Council, of course\\nthe Democracy were in the minority. This\\nenabled the Republicans to choke off discus\\nsion frequen'.ly, without authority of law, or\\nthe rules of \\\" Jefferson's Manual.\\\" Upon\\nseveral occasions this was done with impuni\\nty, and the Chair, sustained by a majority, of\\ncourse, and at the expense of the minority.\\nHowever, an opportunity occurred for a little\\nsport, which had been concocted in the House,\\nby going into Joint Convention, and a reso\\nlution was passed through both Houses to\\nthat effect.* Here was an opportunity to get\\njustice, as we would have a clear working\\nmajority. A series of resolutions reviewing\\nthe conduct of Federal officers, who had been\\nsent amongst us, were hastily drawn up, and\\nat an opportune moment offered by Mr. Fenn\\nof the Council, from Idaho. In a moment\\nthe countenances of tbe Opposition members\\nchanged from the self-satisfied smile of tri\\numph won by them, for the last three weeks,\\nto the most blank look of surprise. The\\nreader can better imagine the ludicrous\\nspectacle presented if, in his schoolboy days,\\nhe ha3 seen a large boy domineer, tyrannize\\nover, aad tantalize a smaller one before the\\nwhole school until, by some unforeseen in\\ncident, he comes suddenly in contact with his\\nvictim and finds himself completely in his\\npower. As might be expected from former\\nconduct, tbe \\\" big boy \\\" ran away. Thus it\\nproved with the Council majority\\u2014they\\n\\\"bolted\\\" from the house, disgracefully leav\\ning the field, and refusing to accept an equal\\nshow and a fair fight\\u2014saluted with shouts of\\nlaughter from the lobby as they went. This\\nis Republican honor and sound Republican\\ninciple?.\\nTHE CAPITAL, AND OTHER QUESTIONS.\\nThe Capital question is becoming rather a\\nvexed one to everybody. Your correspondent\\nnot being in the ring, can give but little infor\\nmation with regard to it. Blackstone seems\\nto have been consulted in the matter and, if\\ncorrectly interpreted by some of the ' Solons,'\\nI fear they will decide the last Assembly a\\nbogus body sure enough. This will sadly in\\nterfere with the operation of many healthy\\nlaws passed during the last session.\\nThe different applicants for tbe office of\\nTerritorial Auditor and Territorial Treasurer,\\nwill, also materially retard the business in\\nthose offices. I havejust learned that Dr. M\\nA. Kelly, who was elected Territorial Treas\\nurer, has his bonds ready and will apply for\\na certificate ; also, that Dr. E. Smith, appoin\\nted by the Governor and Legislative Council\\nis preparing his;\\u2014meantime, writs y of in*\\njunction are being served on D. S. Kenyon\\nforbidding him deliverfng over to either any\\nbooks, records, or papers, belonging to said\\noffice,\\u2014to which he also puts in a claim that\\nhe was duly appointed to for the term pre\\nscribed by the statute, viz. : two years.\\nThese numerous questions will hardly be\\ndecided until near the expiration of the term\\nclaimed by Kenyon. Thus the matter stands.\\nPallas.\\nDemocratic Central Committee, Ada Co.\\nheld at Boise City, Ada county, I. T., Janua\\nry 30th, 1865, for the purpose of appointing\\na Democratic Central Committee :\\nOn motion of Mr. Duvall, Dr. J. S. Mcl\\nteeney was nominated and elected to tbe\\nChair.\\nOn motion of Mr. Short, Wm. A. Yates was\\nnominated and elected Secretary of the\\nmeeting.\\nMr. Short moved to proceed to elect mem\\nbers\\u2014nominated Mr. Chas. Warren.\\nMr. Duvall moved an amendment, as follows\\n\\u2014The Chair to appoint a Committee of five,\\nwho shall appoint the said County Commit\\ntee. Voted down.\\nMr. Warren nominated and elected.\\nMr. Buckley nominated Daniel Stewart\\nelected.\\nMr. Agnew nominated B. C. Riggs\\u2014elected.\\nOn motion of Mr. Buckiey, That the Sec\\nretary be requested to forward a copy of pro\\nceedings to the Idaho World for publication.\\nCarried unanimously.\\nMr. Duvall moved an adjournment. Carried.\\nJ. S. McITEENEY, Chairman.\\nWm. A. Yates, Secretary.\\nThere is good sleighing all the way from\\nIdaho City to Walla Walla. There is about\\nten inches of snow at the latter place.\\nto\\nof\\nor\\nof\\nto\\nit\\nof\\na\\nif\\na\\nin\\nof\\nin\\nM\\nfor\\nin*\\nany\\nsaid\\nthat\\npre\\nbe\\nterm\\nPioneer Lodge,\\nNo. 1, U. D., holds its regular\\nmeetings at the Masonic Hall, on (\\nMonday evening of each week, at (\\n7 o'clock, p. m. Brothers in good\\nstanding are cordially invited to\\nattend.\\nM. ROSENBERG, N. G.\\nJohn Christie, Secretary.\\nI. O. O. F.\\nCo.\\ntbe\\nwas\\nthe\\nfive,\\npro\\nIdaho Lodge, No. 35, IP. Sc JR\\nA. M., hold their regular meetings on Saturday\\nnight preceding the full moon of each month, 'W'\\nat Masonic Hall, corner of Wall and Montgom\\nry streets. Called meetings every Saturday ' \\u25bc '\\nevening at 7 o'clock. C. D. S AYRS,\\n18tf Secretary,\\nJ. K. SHAFER,*\\nA TTORNEY AT LAW. Office-on the east\\n/\\\\ side of Montgomery, near the northeast\\ncorner of Wall and Montgomery streets, and one\\ndoor south of the Occidental Hotel, Idaho City.\\n[4tf]\\nH. MARTIN.....................J. M. MURPHY.\\nMARTIN Sc MURPHY,\\nATTORNEYS AT LAW.\\nOffices at Idaho and Rnby cities.\\n2tf\\nW.R. Keithly,\\nlitorneg at Caro.\\n1\\nSS\\\" OFFICE\\u2014Montgomery street near Wall,\\nIdaho City, Boise flonn'\\\" r 30tf\\nJ. B. Rosborough,\\nATTOKNEY-A T-L a w.\\n- f\\n/'\\\"VFFICE\\u2014 On Wall street, opposite Clerk's\\noffice, Idaho city.\\nE. F. GRAY,\\nATTORNEY AT LAW,\\nIdaho city. Wall street, Above Main.\\nvlnltf\\nCHARLES B. WAITE. | JOSEPH MILLER.\\ntoaite \\u00a3 Jfliiler,\\nA-ttornevs-at-Law.\\n/^VFFICE on Montgomery street, 2d door north\\nV/ of Hildreth's drugstore. 4ltf\\nD. Wm. Dontliitt,\\nQUtorncn at Darn,\\nIdaho City, - - Idaho Territory\\n^\\\"Particular attention paid to collecting\\nDebts. 27 m3\\nGEORGE AINSLIE\\nAttorney and Counselor at Law,\\n\\u2014and\\u2014\\nSolicitor in Chancery.\\nCenterville, Boise County, 1. T. 28m3\\nCHAS. WALKER,\\nJustice of the Fe^ce.\\nJBST Office on Wall street, above Main. 4\\u00bbtf\\nCREIGHTON & BUTTON.\\nr\\\\EALERS in Staple Dry Goods, Clothing\\nXJ Groceries, Boots and Shoes, Liquors Tobacco\\nand Miners' outfits.\\nWashington St., Centerville. Sept. 25,1853\\u2014ltf\\nDr. Raymond,\\nPhysician and Surgeon.\\n^^FFICE opposite W., F. & Co.'s, Idaho City.\\nDE, L WILLIS\\nTT AS gone to San Francisco for stock, in the\\nXX line of his professsion as a Dentist and Sur\\ngeon, and will return about the 1st of December,\\nto resume his practice, L. AILLIS'\\nOctober 22.1864. n5 vi\\nDR. C. H. STUART,\\nPHYSICIAN,\\nSurg\\u00e9on and YVc'C'oxielierir.\\nXfcFFICE\\u2014On Main Street,[[Pioneer City, I, T.\\n6tf.\\nWAJSTTICD !\\nA\\u00ab\\u00bb\\u00ae\\u00bb\\u00ab\\u00bb iraaCBEIW\\u00ab,\\nAT\\nJULIUS GREEN WALD'S\\nTO HUY\\ni AA BOXES OF TOBACCO \\u2014 CHOICE\\nX Brands.\\ni AA AAA HAVANA AND DO\\nX vJ 9 v/ vJmestic Cigars.\\nWholale at very low figures, at Greenwald's\\nCIGLAI1 STORE,\\nSouth Side Main Street, two doors above Wells,\\nFargo 4* Co.'s Express Office.\\nAlso keeps constantly on hand, for my Re\\ntail Trade, the best of Cigars and Tobacco. 8m3\\nfrom\\nAMBR0TYPE8 AND PHOTOGRAPHS!!\\nJOHN JUNK & CO.,\\nEast Side of Main Street, nearly opposite Wells,\\nFargo fy Co.'s Express Office,\\nIDAHO CITY,\\nA RE always ready prepared to furnish Pic\\ntures of all styles in the most artistic man\\nner. We would respectfully solicit a trial from\\nthe public. \\u2022 5tf\\nthe\\nvi\\nT.\\nJ. K. Clark, M. D. | C. B . Parker, M. D.\\nDoctors Clark & Parker,\\nH OMEOPATHIC PHYSICIANS. Office on Main St.,\\nopposite Poujade House, Idaho city. This treatment\\nParticular attention paid to chronic\\nleases of women and children. May be\\nirs day and night. 4m6\\nS. P. SCANIKER,\\nAttorney and Counselor at Law.\\nOffice on East Side of Main Street,\\nNear the Terminus of the Bear Run Railroad ,]\\nIDAHO CITY.\\n8tf\\nC*. E. FREEMAN. R. B. WALLACE.\\nC. E. FREEMAN & CO.,\\n(\\u00eeljcmists nn\\u00eer Druggists.\\n\\\"Wells, Fargo & Co.'s Building, .\\nWASHINGTON STREET, CENTERVILLE. I. T. -\\n[v2-n2tf]\\nDR. A. J. HOGG,\\nIDAHO CITY, I. T.\\nvlnl\\nDR. J. M. BETTS,\\nPHYSICIAN AND SURGEON:\\nOffice\\u2014Two dcors south of the Empire Market,\\nIdaho City. 3tf\\nC. 33. WAITE Sc CO.\\nW ILL buy and sell, on commission, Quarts and Min\\ning claim* real estate, mining stocks, Ac.\\nThe immense Extent and extraordinary richness of\\nthis mining region, present unusual facilities and offer\\ngreat inducements to capitalists.\\nIn addition to the mines well known, and daily being\\nworked, others of unprecedented richness are being con\\nstantly discovered.\\nAll communications will receive prompt attention.\\nIdaho city, November 1,1864. n2m3\\nDENTESTRY.\\nT HE undersigned has located in this city to practice\\nhis profession. Haring been in constant practice for\\na period of over twelve years, he feels confident that he\\ncan satisfy all who may require his services. Has a\\nlarge supply of artificial teeth, and other facilities for\\ndoing all kinds of work in his line.\\nOffice on Wall street, second door above Higby & Co.'\\nstore. 2tf F. C. NICHOLS.\\nC. If. MACK,\\nDENTIST,\\nNo. 10 Alder street,\\nPortland., Oregon,\\nAt the old place of II. H. Black, near the People\\nTransportation Company's office The patronage\\nof those desiring first-ciass and finished operations\\nis particularly requested. v2n5tf\\nDR, JAMES HEALY,\\nPHYSICIAN AND SURGEON.\\nOffice i&t McGlinchy's Old Store,\\nMONTGOMERY STREET, IDAHO CITY.\\n[n7tf]\\nDr. HARRIS\\nYTOTIFIES the public that John E. Brough\\nJL l ton is his authorized Agent to transact any\\nbusiness connected with his Drug establishment\\nduring his absence to San Francisco'\\nHe will return in the Spring with a full assort\\nmerit of Goods belonging to his line of business,all\\nof which will be sold at the lowest possible rates\\nNov. 1,1804 vln2tf\\nDUNCAN & TURNER,\\nAuctioneers and Commission Mer\\nchants.\\nC CLOTHING, GROCERIES, PROVISIONS\\nJ and every species of Merchandise for sale at\\ntheir store on Wall street, one door above the\\nIdaho Stable, Idaho City. \\u00dftf\\nDR. J B. ISBAAL,\\nDENTIST,\\nH AS removed his office and taken rooms at the\\nInternational up stairs, on Main st., Idaho\\nCity. All operations guaranteed to give the best\\nsatisfaction. 1 shall visit Boise City and the sur\\nrounding camps at stated periods, when 1 shall\\ngive notice. N. B. To the Profession\\u2014I shall\\nkeep on hand a new supply of gold foil, and in\\nstruments of all kinds, as fine as can be had in the\\nEastern States. n2m6\\nOctober 21, 1864.\\nJ. EL HBCKMAlTST.\\nMain Street, Idaho City,\\nW ATCHMAKER and Jeweler, Dealer in Jew\\nelry and Watches. Solid Gold Jewelry\\nmade to order. Particular attention paid to\\nRepairing Fine Watches\\nI5F\\\" All work warranted for twelve months.\\\"\\u00a9a\\nIdaho City, August, 1864- 50tf\\nS. X\\u00c6MOlSr,\\n/i\\\\ \\\\r.w .......\\nwwm'ix,\\nCorner of Washington & Second streets,\\nDalles, Oregon,\\nD EALER in Drugs, Patent Medicines, Trusses,\\nAcids, Oils, Brushes, Hops, Glue, Corks,\\nPerfumery, Soaps and Toilet articles. Orders from\\nDruggists, Physicians and Traders in the Mines\\nfilled at the lowest price. 35tf\\n\\\" EMPIRE HOTEL, \\\"\\nMAIN STREET, DALLES, OREGON\\nThomas Smith, Proprietor.\\nA FIRST-CLASS HOUSE,\\n^ situated in the center of business,\\nNear the Steamboat and Railroad\\nLANDINGS.\\nMeals................................so Cents\\nLog iegs............................50 \\\"\\nNo liquors sold on tbe premises. Baggage\\ntaken to the hotel free of charge. Fire\\nproof Safe in the office for deposit. of valuables.\\nHouse open all n\\u00ee\\u00ffit. \\u201en47-if\\nSt.,\\nbe\\n,]\\n-\\nWilliam McGrprty\\nO FFERS FOR SALE ONE OF THE LARG\\nest stocks of merchandise ever offered to a\\ndiscriminating public, and at prides which will\\ndefy competition\\u2014viz :\\nFlour, Soap,\\nBeans, Sugar,\\nHams, Can Fruits,\\nPeaches, Clothing,\\nApple, Tobacco,\\nCoffee,' Boots\\nCandles, & Shoes,\\nNails, Quicksilver,\\nShovels, Butter\\nEtc., Etc.\\nGoods taken on Storage and Com\\nmission.\\n$a_William McGrorty's Block, Wall street, ia\\nthe largest building e er erected in Idaho Territo\\nry, and considered safe from fire ; the accommo*\\ndations cannot be surpassed.\\nIdaho city, October 26, 1864. ltf\\nof\\ncon\\nfor\\nhe\\na\\nfor\\nany\\nSpades,\\nand Cheese,\\nORIENTAL HOTEL\\nCorner Main and 3d Streets,\\nWALLA_WALLA:\\nT he liberal patron ageiheretofore\\nbestowed by an appreciative public upon the\\nOriental Hotel, only stimulates its proprietor to\\ngreater exertions to please those who may favor\\nhim by STOPPING AT HIS HOUSE.\\nThe Proprietor is particularly desirous to attract\\nTHE ATTENTION OF FAMILIES,\\nfor whose comfort no pains will be spared.\\nMr. E. R. SHUNK will alwaj B be on hand to\\nattend to the wants of guests at the Oriental Hotel.\\nTlx\\u00a9 Stages Prom Lewiston,\\nBoise and WalTixla,\\narrive and depart from THIS HOUSE. ,\\n*grThe LADIES' DEPARTMENT ia under the\\ncontrol of Mrs. Hartman.\\nM. HARTMAN. Proprietor.\\nWalla Walla, W. T., Dec. 3d, 1864. 13tf\\nEDWIN POWELL. GEORGE H. COB.\\nPOWELL & OOF,\\nForwarding and Commission\\nMERCHAN T S,\\n* AND DEALERS Lx\\n\\\"Wines, Liquors,\\nCIGARS AND TOBACCO.\\nUmatilla, : : : : Oregon.\\nP articular Personal Attention given to re\\nceiving and forwarding Goods to all parts\\nof the mines in Oregon, Washington and Idaho.\\nGoods re-measured, Freights paid. Storage ob\\ntained, and all business connected with the For\\nwarding and Commission Business promptly and\\npersonrlly attended to. Consignments of Good\\u00bb\\nsolicited. We refer by permission :\\nAt S^an Francisco, ) j At Portland,\\nHoward, Goewy & Co., ) / Richards & McCracken.\\nv t j Goldstone & Bro.,\\nAt Victoria, V. I., j Gui]dj David & c ' 0>\\nti0_Mark goods care P. & C., Umatilla. 32tf\\n1\\nat\\nthe\\nthe\\nIdaho\\nbest\\nsur\\nshall\\nshall\\nin\\nthe\\nJew\\nto\\ny\\nfrom\\nMines\\nFire\\nREMOVAL.\\nJ. A.. DAVISON, Tailor,\\nH AS removed from his old stand on Wallst.,\\nto Main street, opposite the City Hotel,\\u2014\\nwhere he is receiving a new supply of goods of\\nthe latest styles, which he will make up in the best\\nmanner at reasonable prices. Particular attention\\nwill be paid to SCOURING and REPAIRING. A\\nsuperior article of PURSES of his own make, of\\nall sizes, always on hand.\\nIdaho City, October, 1864. v2n5tf\\nO. KLANE,\\nDEALER IN\\n%\\nF URNITURE of every description, Beds and\\nBedding, Sofas, Wall Paper. Curtains, etc.\\nOn Main street, near corner of Wallula street,\\u2014\\nIdaho City. 4m3\\nIdaho & Boise City\\nsvaoib msjeo\\nW ARD & CO.'S Stages leave Idaho City TRI\\nWEEKLY, on Mondays, Wednesdays and\\nFridays, at 8 o'clock a. m., arriving in Boise city\\nat 5 o'clock p. m., same day. Returning, leave\\nBoise city at 7 a. m., on Tuesdays, Thursdays and\\nSaturdays, and arrive in Idaho city at 5 p. m. All\\nPackages, &c., entrusted to them will be promptly\\ndelivered. Office at the City Hotel, Idaho. 37-tf\\nMiner's Brewery\\n\\u2014and\\u2014\\nIBAEEBm'Sa\\nT HE proprietors of the Pioneer Brewery of th\\nBasin being thankful for the lib\\u00e9rai patronage\\nreceived, assuie their friends that they will con\\ntinue to make in their establishment, the best\\nof Lager Beer, Bread, Pies and Cakes.\\nKNAUER & CO.\\nBannock City, September 29th, 1863. . f ltf,\\nFRANKLIN HOTEL,\\n12 1-2 miles from Umatilla city,\\nO N THE ROAD To LA GRAND, AUBURN,\\nIdaho City, Placerville and Owyhee.\\nTHE HQUSE is spacious and convenient, with\\na Diningroom capable of seating a large number\\nof persons at a time, and in the way of luxuries no\\ntable at any hotel on the road shall surpass that of\\nthe Franklin House, The house is well furnished\\nwith Pulu Beds which will be \\u00c6ept warm and com\\nfortable. The Bar will be kept constantly supplied\\nwith the best\\nWINES, LIQUORS & CIGARS.\\nThere is attached to the premises, a large Stable\\nwith hay and grain for animals.\\n27tf / J. C. Franklin, Proprietor.\\nStorage.\\nA PPLY at the Miners' Brewery and Briery\\n[u9-tf] MARKS, KKAUER & CO.\", \"batch\": \"batch_idhi_dickens_ver01\", \"title_normal\": \"idaho world.\", \"url\": \"http://chroniclingamerica.loc.gov/lccn/sn82015407/1865-02-04/ed-1/seq-1.json\", \"place\": [\"Idaho--Boise--Idaho City\"], \"page\": \"\"}]}\n"
     ]
    }
   ],
   "source": [
    "import json # Import JSON tools\n",
    "'''\n",
    "Inspect the downloaded data.\n",
    "'''\n",
    "idaho = all_data[0] # Indexing and slicing\n",
    "idaho.keys() # Inspecting JSON objects & Python dictionaries\n",
    "print(json.dumps(idaho))\n",
    "#json.dump(idaho,open('./idaho_example.json','w'))# Copy-Paste the print output to http://jsonviewer.stack.hu/"
   ]
  },
  {
   "cell_type": "code",
   "execution_count": 4,
   "metadata": {},
   "outputs": [
    {
     "name": "stdout",
     "output_type": "stream",
     "text": [
      "['Idaho weekly world']\n"
     ]
    }
   ],
   "source": [
    "# print the title\n",
    "print(idaho['items'][0]['alt_title'])"
   ]
  },
  {
   "cell_type": "code",
   "execution_count": 5,
   "metadata": {},
   "outputs": [
    {
     "name": "stdout",
     "output_type": "stream",
     "text": [
      "The Idaho World\n",
      "\"THE NOBLEST MOTIVE IS THE ^PUBLIC GOOD.\"\n",
      "Voll\n",
      "IDAHO CITY, BOISE COUNTY, IDAHO TERRITORY, SATURDAY, JANUARY 7, 1865.\n",
      "No. 11.\n",
      "dab World,\n",
      "PUBLISHED EVERT SATURDAY MORNING BY\n",
      "I. H. BOWMAN & CO.\n",
      "H. C. STREET, Editor,\n",
      "TERMS INVARIABLY in ADVANCE.\n",
      "Bates of Subscription s\n",
      "One year,..... - $12 00.\n",
      "Six mort ha, ------- 7 00.\n",
      "Three months, .------4 00.\n",
      "Single copies, ----- - - 60.\n",
      "Bates of Advertising s\n",
      "Per square, ten lines or less, first insertion, : : : $5\n",
      "« « \" \" \" each subsequent in. 2\n",
      "« « « \" \" three months, : : : 12\n",
      "•* « \" \" u one year, : : 40\n",
      "Agents for the Idaho \"Worfd.\n",
      "A. P. Turner, Carrier and General Agent, Idaho city.\n",
      "Tho8. Boyce, northeast corner Montgomery and Wash\n",
      "ington street, up stairs, San Francisco. Cal.\n",
      "C. R. Street, Cal. Express office, Marysville, Cal.\n",
      "S. J. McCormick, Portland, Oregon.\n",
      "M. J. Allphin, Dalles city, Oregon.\n",
      "Capt T Miller,° RAY '} Cat, y° n cit L Oregon.\n",
      "A. H. Brown—W ells, Fargo k Co.'s agent, Auburn, Or.\n",
      "Powell & Coe, Umatilla, Oregon.\n",
      "A. A. Mix, Walla Walla.\n",
      "W. W. Chapman, Jr., Pioneer city.\n",
      "R. B. Wallace, Centerville.\n",
      "M. B. Moore, Placerville.\n",
      "8. L. Carr, Boise city.\n",
      "C. L. GooDRicn. Rocky Bar.\n",
      "H. 0. Purdy, Silver city, (Owyhee.)\n",
      "W. Greenwell, Ruby city.\n",
      "MY MOTHER'S GRAVE.\n",
      "SUNG DY MR. JOHN KELLY.\n",
      "Where the valley brook is slowly creeping,\n",
      "And the wood bird sings its lonely song,\n",
      "Where the willow boughs are sadly weeping,\n",
      "Where the sephyrs murmuring pass along\n",
      "There my gentle mother's form reposes,\n",
      "Dearly loved in chilehood's happy day.\n",
      "At the gajve I kneel 'mid clustering r^sos,\n",
      "Weeping twilight's stilly hour away.\n",
      "Can I 'mid the toils of life forget thee,\n",
      "Angel guardian of my infant years 1\n",
      "Every care compels me to regret thee,\n",
      "Every smile is chased away by tears.\n",
      "Holy precepts by thy lips were given,\n",
      "How I've kept them let my anguish own,\n",
      "Dearest mother, from thy home iu heaven,\n",
      "Lean down and listen to my anguished moan.\n",
      "TELEGRAPHIC*\n",
      "A letter is published from Sherman on\n",
      "board a gunboat in Ossabaw Sound, Dec. 13.\n",
      "He states that Gen. Haven's division assault*\n",
      "ed Fort McAllister on the 15th, and carried\n",
      "it, capturiug the garrison and stores. This\n",
      "opened the channel to the Sound, by which\n",
      "be communicated with the fleet. All the\n",
      "railroads leading into Savannah are destroy\n",
      "ed, and the city invested. The left is on the\n",
      "Savannah River, 15 miles above the city, and\n",
      "the right on the Ogeechee, at King's Bridge,\n",
      "Supplies are abuudant and the army in good\n",
      "condition. Two boats were captured on the\n",
      "Savannah RiVer, preventing the rebel\n",
      "gunboats from coming down. The estimated\n",
      "m\n",
      "population of Savannah is 25,000 : garrison,\n",
      "15,000. Hardee is in command. He says he\n",
      "\"destroyed over 200 miles of railroad, and\n",
      "many stores essential to Lee and Hood. He\n",
      "concludes by saying, *' 1 regard Savannah as\n",
      "already gained.\"\n",
      "The Herald's correspondent says Sherman's\n",
      "entire loss from Atlanta to Savannah was\n",
      "about 1000—traveled about 12 miles per day.\n",
      "The fight around Nashville is still going\n",
      "on. It is reported that Wood is in Hood's\n",
      "rear, and that the rebel forces at Franklin\n",
      "were retreating ; also rumored that Forrest\n",
      "' was routed at Murfreesboro on the 15tb.\n",
      "Richmond papers say Foster's raid on the\n",
      "SaTannuh railroad was a failure, and that\n",
      "Savannah is not invested. A proposition is\n",
      "made in Congress to tax all sales one per ct.,\n",
      "which meets with favor. Copies of orders\n",
      "</t Breckinridge are published, ordering his\n",
      "men to husband small arms, ammunition and\n",
      "lead. A call and draft for 300,000 more\n",
      "troops has been made by the President . m Bur\n",
      "bridge had a fight with Basil Duke's brigade,\n",
      "formerly John Morgan's, in Tennessee, routing\n",
      "him and killing Dick Morgan, John Morgan's\n",
      "brother. A rebel rumor says Hood is to be\n",
      "reinfprced by Price, Breckinridge and Ma\n",
      "gruder. Forrest is near the Hermitage. Hood\n",
      "has fallen back from Nashville, and Thomas\n",
      "is pressing him. Wilmington is supposed to\n",
      "be the point aimed at by tbe great expedition\n",
      "from Hampton Roads. A letter from Lord\n",
      "Russell says the British Government will\n",
      "continue strictly neutral. Dayton, American\n",
      "Minister at Paris, is dead. Semraes is on tbe\n",
      "Sea King, whose name is changed to Shenan\n",
      "doah. The vessel is heavily armed, and 1000\n",
      "tons register and very fast.\n",
      "The Yreka Journal of December 9tb,—\n",
      "«ays it rained and snowed for the\n",
      "three weeks previous, and the country has\n",
      "been under a flood, causing a great deal of\n",
      "damage. Scott river was difficult to cross ;\n",
      "Humbug creek was a river, and Yreke creek\n",
      "was \"booming; Shasta Valley was flooded,\n",
      "bat the bridge escaped destruction.\n",
      "Col. Sam Mkuabt, one of Ohio's most no\n",
      "ble sons, and long tbe editor of the Ohio\n",
      "Crisis, died at bis home, one day before the\n",
      "Presidential election.\n",
      "CANYON CITY PAPER-*.\n",
      "BY XINN1R MYRTLE.\n",
      "CHILL NOVEMBER.\n",
      "\" Oh,\" says the owl, \" my head's so white !\n",
      "What shall I do this live-long night?\"\n",
      "Some \" dull corner\" of roy head has been\n",
      "keeping time to this little refrain all the eve\n",
      "ning and all the while I've been thinking\n",
      "4 how glad I am not an owl 1 '\n",
      "It is a very stormy night. How the wind\n",
      "sweeps down the narrow Cnfion ! bow madly\n",
      "it besieges our little homes that we have\n",
      "builded here for tbe sake of jobbing these\n",
      "barren old hills of their sepulchered god of\n",
      "men and women. The weather has been very\n",
      "much akin to a Webfoot winter for the past\n",
      "few days. All day the streets have been\n",
      "sloppy and the men hurrying along distress\n",
      "edly, dripping and grumbling about the rain.\n",
      "To-night it is dolefully doleful.\n",
      "*• Heart-broken moans the homeless mind\n",
      "As if the whole world was unkind.\"\n",
      "November is truly a month of sobrietiePj\n",
      "of melancholy reveries of gentle memories,\n",
      "of half regretful recollections ; it i3 not meet\n",
      "for giddy fancies, for joyous hopes or gay air\n",
      "palaces.\n",
      "When the winds and the rain are weeping\n",
      "over us, we too bow our beads and bewail—\n",
      "not bitterly, but with a kind of satisfaction—\n",
      "over our broken hopes and weep with the\n",
      "November rain that the Summer blooms have\n",
      "faded. We say no more the high and hope\n",
      "ful things that once we said, but witb subdued\n",
      "spirits we look back as if through blinding\n",
      "rain to tbe misty scenes of the Past and\n",
      "whisper—\" it might bave been.\"\n",
      "Yes, \"it might have been.\" It might bave\n",
      "been always Summer, tbe bright flowers\n",
      "might, never have faded, nor the gay leaves\n",
      "perished. Fair brows might forever be fair,\n",
      "and \" golden hair stay golden ; \" dancing\n",
      "feet might never lose their fleetness, norring\n",
      "ing voices their music ; buoyant youth might\n",
      "uever collapse into old age,—nor hopeful\n",
      "hearts, once warm and quick witb love and\n",
      "joy, become tbe'borne of dull remorse and\n",
      "chill-corroding care.\n",
      "Sitting here to-night listening to the storm\n",
      "and somewhat blues-oppressed, l feel like\n",
      "doing a little wailing myself :\n",
      "MY WAIL.\n",
      "The shadows are crouching and filling the room,\n",
      "Without the wild wind blows ;\n",
      "Aud I sit here in the silence and gloom—\n",
      "This is the life I chose.\n",
      "All day long while the chill rains fall,\n",
      "I sit in my chamber and write, 4\n",
      "And then with the darkness that covers all,\n",
      "Come thronging the shadows at night.\n",
      "I write of lovo and of broken hearts,\n",
      "Of a rest that will come at last,\n",
      "And smile to think of one I knew,\n",
      "Away in the shining past.\n",
      "»\n",
      "•To think how over his youthful face\n",
      "The death-white palor came,\n",
      "When I told him that night in my gauze and lace,\n",
      "I had bartered my Love for Fame. •\n",
      "There are voices away in the Long Ago,\n",
      "That could banish the shadows and pain.\n",
      "But tbe Past is laid in a sepulchre low—«\n",
      "It never will come again.\n",
      "Leave, cold shadows, my silent room,\n",
      "Creep back from my empty heart;\n",
      "Let the past be hid in the silent tomb,\n",
      "Let the spectral shadow depart.\n",
      "44 Deeply, darkly, beautifully blue,\"\n",
      "This is the life I chose,\n",
      "Sitting here in the silence and gloom—\n",
      "Where is the \"colour de rose ?\"\n",
      "There, I, have wailed my wail I Now for\n",
      "something else.\n",
      "THE MINES.\n",
      "All flimsy fancies and idle poetical dream\n",
      "ing must give way at times to something\n",
      "practical and bard. I know of no subject\n",
      "more practical than making money, and gold\n",
      "is hard—bard to get, and hard to keep.\n",
      "The mines in this place, I believe, average\n",
      "very well. Some pay big, and some bigger;\n",
      "some pay little, and some less—and some not\n",
      "at ail. This is the information I elicited from\n",
      "a friend of mine. I cannot speak from prac\n",
      "tical knowledge, not being a miner myself.\n",
      "A very good looking miner came in the\n",
      "other evening with his gold pan, and said he\n",
      "wanted to show me how much be had taken\n",
      "from his claim that day. I think there was\n",
      "about a quart of tbe ponderous metal iu the\n",
      "pan. I offered to introduce him to a nice\n",
      "Immigrant girl, but he did not seem to think\n",
      "much of it.\n",
      "CANYON CITY.\n",
      "Caüon City may be destined to become a\n",
      "great city, and it may not. At any rate it is\n",
      "improving quite rapidly, and some very stylish\n",
      "little houses are being erected. The Catholic\n",
      "Church is now completed. It is a neat ouild\n",
      "ing for a mining camp, and stands away up\n",
      "un the hill overlooking the town like a guar\n",
      "dian angel.\n",
      "• But for fear of trespassing on the columns\n",
      "of your pretty little paper, I will bring my\n",
      "letter to a close.\n",
      "By the way, we polled quite a nice little\n",
      "majority for McClellan here—or rather our\n",
      "meo did, us \"females\" of course having\n",
      "nothing to do with it—but alas 1 it did no\n",
      "good.\n",
      "«^Advertisements, to insure insertion, must be band\n",
      "ed in os early as Thursday, and the number of insertions\n",
      "desired should be noted on the margin.\n",
      "Religious Notices.— Rev. Father A. Z.\n",
      "Poulin will hold divine service at the St. Joseph Church,\n",
      "corner Commercial street and East Hill, every Sunday at\n",
      "10% o'clock a. m.; vespers at 7 o'clock p. m.\n",
      "Rev. Father T. Mesplie, will hold divine service at Pla\n",
      "cerville, at the St. Thomas Church, on the 1st Sunday in\n",
      "January, 1865, at 10 o'clock a. m. ; aud every third Sunday\n",
      "thereafter at the same hour. Also, at the St. Dominic\n",
      "Church, at Centerville, on the second Sunday of January,\n",
      "1865, at 10% o'clock a. m. : and every third Sunday there\n",
      "after. And, also, at. the St. Francis Church, in Pioneer,\n",
      "on the third Sunday in January. 1S65, at 10% o'clock a.\n",
      "and every third Sunday thereafter—until further\n",
      "notice.\n",
      "Pioneer Lodge,\n",
      "No. 1, U. D., holds its regular\n",
      "meetings at the Masonic Hall, on\n",
      "Monday evening of each week, at!\n",
      "7 o'clock, p. M. Brothers in good\n",
      "standing are cordially invited to\n",
      "attend.\n",
      "M. ROSENBERG, N. G.\n",
      "John Christie, Secretary.\n",
      "I. O. O. F.\n",
      "V\n",
      "Idaho Lodge, No. 35, F. St\n",
      "A. M., hold their regular meetings on Saturday\n",
      "night preceding the full moon of each month,\n",
      "at Masonic Hall, corner of Wall and Montgom\n",
      "ry streets. Called meetings every Saturday\n",
      "evening at 7 o'clock. S. S. RICE,\n",
      "18tf Secretary.\n",
      "yV\n",
      ":aa\n",
      "J. K. SHAFER)\n",
      "A TTORNEY AT LAW. Office- on the east\n",
      "side of Montgomerj', near thu northeast\n",
      "comer of Wall aud Montgomery streets, and one\n",
      "door Bouth of the Occidental Hotel, Idaho City.\n",
      "[4tf]\n",
      "H. MARTIN..\n",
      ".. J. M. MURPHY.\n",
      "MARTIN & MURPHY,\n",
      "ATTORNEYS AT LAW.\n",
      "Offices at Idaho and Ruby cities.\n",
      "2tf\n",
      "FRANK MILLER. CHAS. C. DUDLEY.\n",
      "Miller, & Dudley\n",
      "ATTORNEYS * COUNSELORS\n",
      "AT LAW.\n",
      "Montgomery streets,\n",
      "s depot, Idaho city,\n",
      "47 tf\n",
      "Office—South-west corner Wall aud Mon\n",
      "next door to Fronts A Co.'s Packer'\n",
      "I. T.\n",
      "W. R- K e i t h 1 y,\n",
      "^ttnrnep at Cam.\n",
      "93T OFFICE—Montgomery street near Wall,\n",
      "Idaho City, Boise Conn*-. r 3otf\n",
      "J. B. Rosborough,\n",
      "ATTO R N E Y-A T-LAW.\n",
      "O\n",
      "FFICE—On Wall street, opposite Clerk's\n",
      "office, Idaho city.\n",
      "E. F. GRAY,\n",
      ".ATTORNEY AT LAW,\n",
      "Idaho city. Wall street, Above Main,\n",
      "vlnltf\n",
      "CHARLES B. WAITE.\n",
      "JOSEPH MILLER.\n",
      "toaite l Üliller,\n",
      "•Attornevs-at-Law.\n",
      "O FFICE on Montgomery street, 2d door north\n",
      "of Hildreth's drugstore. 4ltf\n",
      "Geo I. GUbert, : : Geo C. Hough,\n",
      "Notary Public, Dist. attorney,\n",
      "Grilbert<fe H o n o* li,\n",
      "ATTORNEYS AT LAW,\n",
      "[Wall st., above Main,]\n",
      "_ (n30-tf)\n",
      "D. Wm. Dontliitt,\n",
      "2Utorneg at Cam,\n",
      "Idaho City,\n",
      "^\"Particular\n",
      "Debts,\n",
      "- Idaho Territory\n",
      "attention paid to collecting\n",
      "27 m3\n",
      "GEORGE AINSLIE.\n",
      "Attorney and Counselor at Law,\n",
      "—and—\n",
      "Solicitor in Chancery.\n",
      "Centerville, Boise County, 1. T. 28m3\n",
      "CIIAS. WALKER,\n",
      "Justice of the Peace.\n",
      "aar Office on Wallstreet, above Main. 4»tf\n",
      "CREIGHTON 1 8c BUTTON.\n",
      "D EALERS in Staple Dry Goods, Clothing\n",
      "Groceries, Boots aud Shoes, Liquors Tobacco\n",
      "and Miners' outfits.\n",
      "Washington St., Centerville. Sept. 25,1853—ltf\n",
      "Dr. Raymond,\n",
      "Physician and Surgeon.\n",
      "^^FFICE opposite W., F. & Co.'s, Idaho City.\n",
      "DR. L WILLIS\n",
      "H AS gone to San Francisco for stock, in the\n",
      "line of his professsion as a Dentist and Sur\n",
      "geon, aud will return about the 1st of December,\n",
      "to resume his practice. L. iVILLIS'\n",
      "October 22. 1864. n5v2\n",
      "DR. C. H. STUART.\n",
      "PHYSICIAN,-----\n",
      "Surgeon and. Accoucheur.\n",
      "O FFICEt~0o Main Street, Pioneer City, I, A '\n",
      "' . Stf.\n",
      "Cl E. FREEMAN. R. B. WALLACE.\n",
      "C. E. FREEMAN & CO.,\n",
      "Chemists anb {Druggists\n",
      "Wells, Fargo A Co.'s Building,\n",
      "WASHINGTON STREET, CENTERVILLE. I. T.\n",
      "[v2-n2tf]\n",
      "DP. J B. ISBA1D,\n",
      "DENTIST,\n",
      "H AS removed his office and taken rooms at the\n",
      "International up stairs, on Main st., Idaho\n",
      "City, All operations guaranteed to give the best\n",
      "satisfaction, l shall visit Boise City and the sur\n",
      "rounding camps at stated periods,'when 1 shall\n",
      "give notice. N. B. To the Profession—I shall\n",
      "keep on hand a new supply of gold foil, and in\n",
      "strument» of all kinds, as fine as can be had in the\n",
      "Eastern States. n2m6\n",
      "October 21. 1864.\n",
      "CITY M HOTEL\n",
      "AND\n",
      "GENERAL STAGE HOUSE,\n",
      "MAIN STREET, IDAHO CITY, I. T\n",
      "50tf\n",
      "Barber St Oldliam, Prop's.\n",
      "P0ÜJADE HOUSE !\n",
      "AND\n",
      "STAGE OFFICE!\n",
      "T.C-POUJADE, - - PROPRIETOR.\n",
      "MAIN STREET, TWO DOORS BELOW WALL.\n",
      "n5tf\n",
      "MONTANA HOUSE.\n",
      "T HE undersigned would inform the public that the\n",
      "Montana House, on Main street, a few doors below\n",
      "Commeicial street, is now open and ready for the accom\n",
      "modation of the public.\n",
      "BOARD BY THE DAV~AND WEEK, WITH\n",
      "OR WITHOUT LODGING.\n",
      "Funnished Booms to Let.\n",
      "Idaho city, October 25,1864. [ltfj Jacob Bartt.\n",
      "INTERNATIONAL\n",
      "PLACERVILLE.\n",
      "E XCELLENT accommodation» for families or\n",
      "single gentlemen. The table is always\n",
      "supplied with the best in market. Rooms neat,\n",
      "clean and commodious. BURTHEY & BRUNN\n",
      "Placerville, Oct. 8th, 1863. 3m3\n",
      "Rockfellow's Half Way House,\n",
      "(at the Kockfellow Quartz Lode)\n",
      "EQUr-DISTANT FROM WALLA WALLA AND BOI8 E\n",
      "T HIS HOUSE will be open for the accommoda\n",
      "tion of the traveling public on and after No\n",
      "vember 1st. Everything for the\n",
      "COMFORT OF MAN AND BEAST\n",
      "will be found on the premises. A good rpad is\n",
      "opened by way of this place, without addition to\n",
      "the distance.\n",
      "n9tf W. H. KOCKFELLOW. Proprietor\n",
      "« EMPIRE HOTEL, \"\n",
      "MAIN STREET, DALLES, OREGON\n",
      "Thomas Smith, Proprietor.\n",
      "A FIRST-CLASS HOUSE,\n",
      "situated in 'he center of business,\n",
      "Near the Sleamboat and Railroad\n",
      "LANDINGS.\n",
      "Meals................................50 Cents\n",
      "Log ings. .........................50\n",
      "«6T No liquors sold on tbe premises. Baggage\n",
      "taken to the hotel free of charge. Fire\n",
      "proof Safe in the office for deposit of valuables.\n",
      "House open all night.\n",
      "n47-tf\n",
      "FRANKLIN HOTEL.\n",
      "12 1-2 miles from Umatilla city,\n",
      "O N THE ROAD To LA GRAND, AUBURN,\n",
      "Idaho City, Placerville and Owyhee.\n",
      "THE HQ.USE is spacious and convenient, with\n",
      "a Diningroom capable of seating a large number\n",
      "of persons at a time, and in the way of luxuries no\n",
      "table at anv hotel on the road shall surpass that of\n",
      "the Franklin House, The house is well furnished\n",
      "with Pulu Beds which will be Aept warm and com\n",
      "fortablc. The Bar will be kept constantly supplied\n",
      "with the best\n",
      "WINES, LIQUORS & CIGARS.\n",
      "There is attached to the premises, a large Stable\n",
      "with hay and grain for animals.\n",
      "27tf J. C. Fbanklin, Proprietor.\n",
      "Umatilla House !\n",
      "IDivEjlljîSS ......©HilS®@Sro\n",
      "D. Handley & N. £. Sinnott, Proprietors\n",
      "House kept open all Night.\n",
      "Fire Proof Safe in the office for deposit of valuables\n",
      "Baggage taken to the house free of charge.\n",
      "November 3d, 1863.—tf\n",
      "AT $35 PER THOUSAND.\n",
      "O UR mill being in successful operation, we\n",
      "take this melbod to inform our patroLS and\n",
      "tu« public geuerally that we shall coutiuueto sell\n",
      "lumber at our yard in town ane at Bear Run Mill,\n",
      "aithe rate of thirty five dollars per thousand feet.\n",
      "IiOBIE & BUSH.\n",
      "«cyOFFICE. upper end of Main Street.\n",
      "Idaho City, Octobt r, 20th. 1864. ' 2n5\n",
      "Type Metal, which, for machine\n",
      "boxing is considered equal if not superior to Babbitt's\n",
      "metaL Woeid Ornn.\n",
      "1\n",
      "William McGrorty\n",
      "O FEERS FDR SALE ONE OF TH-i LARG\n",
      "est stocks of merchandise ever offered to a\n",
      "discriminating public, and at prices which will\n",
      "defy competition—via :\n",
      "Flour,\n",
      "Beans,\n",
      "Hams,\n",
      "Peaches,\n",
      "Apple,\n",
      "Coffee,\n",
      "Candles,\n",
      "Nails,\n",
      "Shovels,\n",
      "Spades,\n",
      "Soap,\n",
      "Sugar,\n",
      "Can Fruit?,\n",
      "Clothing,\n",
      "Tobacco,\n",
      "Boots\n",
      "& Shoes,\n",
      "Quicksilver,\n",
      "Butter\n",
      "and Cheese,\n",
      "Etc., Etc.\n",
      "Goods taken on Storage and Com\n",
      "mission.\n",
      "«B»William McGrorty's Block, Wall street, is\n",
      "the largest building e er erected ia Idaho Territo\n",
      "ry, and considered safe frotn fire ; the accommo\n",
      "dations cannot be surpassed.\n",
      "Idaho city, October 26, 1864. ltf\n",
      "stage m,r&|\n",
      "BOISE CITY, I. T.\n",
      "Y ates St Carr, Props.\n",
      "T HE undersigned would respectfully inform their\n",
      "friends, and the public in general that they have\n",
      "rented the above named Hotel, and are prepared to fur\n",
      "nish their patrons with accommodations equal to any in\n",
      "the city. Thy Table will be supplied with the best that\n",
      "can be obtain«! m the market, and lodgers will be fur\n",
      "nished with Nice Clean Beds. Iduhocityand\n",
      "Owyhee stages arrive and depart from this House.\n",
      "W. A. YATES,\n",
      "nltf S. L. CARR.\n",
      "PRIVATE MEDICAL AID.\n",
      "Quick Cares and Moderate Charges.\n",
      "DR. W. K DOHERTY'S\n",
      "PRIVATE MEDICAL AND SURGICAL INSTITUTE\n",
      "Sacramento street, below Montgomery, opposite the Pa\n",
      "cific Mail Steamship Co's office. Private entrance ou\n",
      "Leidesdorff street, San Francisco,\n",
      "of the bladder and Kidneys, etc., etc.; and he hopes that\n",
      "his long experience and siccesful practice of many years\n",
      "will continue to insure him a share of public patronage.\n",
      "By the practice of mtny years in Europe and the United\n",
      "States, he isenabledto apply the most efficient and biuv\n",
      "Estab ished expressly to afford the afflicted sound\n",
      "and scientific Medical Aid, in the ti eatment and\n",
      "cure of all Private and ('hrenic Diseases,\n",
      "cases nf secrecy and all sexual diseases\n",
      "To the afflicted, Dr. AV. K. Doherty returns his sincere\n",
      "thanks to hi9 numerous patients for their patronage, and\n",
      "would take this opportunity to remind them that he con\n",
      "tinues to consult at his Ipstitnte for the cure chronic\n",
      "disease of the Lungs, Liver, Kidneys, Digestive and\n",
      "Genito-Uriny Organs, and all private diieases, viz: Sy\n",
      "philis in all its forms and stages,Seminal Weakness, and\n",
      "all the horrid consequences of self-abuse Gonorrhoea,\n",
      "Gleet, Strictures, Nocturnal aud Diurnal Emissions, Sexu\n",
      "al Debility, diseases of the Back and Lions, Inflamation\n",
      "essful remedies again st diseases of all kinds. He uses\n",
      "no mercury, chargesmoderate, treats his patients in a\n",
      "correct and honorable way, has references of unquestion\n",
      "able veracity from men of known respectability and high\n",
      "standing in society. All parties consulting him, by lettsj\n",
      "and otherwise, will receive the best and gentlest treat\n",
      "ment and implicit secrecy.\n",
      "Dr. Doherty will take pleasure in showing to patients\n",
      "who will call on him the sworn depositions of many who\n",
      "have been cured by him, who have previously tried many\n",
      "physicians but without success.\n",
      "TO CORRESPONDENTS.\n",
      "Patients residing in any part of the State, however dis\n",
      "tant, who may desire the opinion and advice of Dr. Doherty\n",
      "on their respective cases, and who think proper to submit\n",
      "a written statement of such, in preference to holding a\n",
      "personal interview, ere respectfully assured that Iheir\n",
      "communications will be held most sacred. Dr. Doherty\n",
      "takes this opportunity of observing, that all letters are\n",
      "only opened and replied to by himself, and the latter as\n",
      "promptly as possible.\n",
      "If the case be fully and candidly described, personal\n",
      "communication will be superceded, as instructions for\n",
      "diet, regimen, and the general treatment of the cases itself\n",
      "(including the remedies), will be forwarded without delay,\n",
      "and in luch a manner as to convey no idea of the purport\n",
      "of the letter or parcel so transmitted.\n",
      "«^Consultation gratis. Permanent cure guaranteed\n",
      "or no pay. Address W. K. DOHERTY, M.D..\n",
      "n6-3m San JYancisco, California.\n",
      "Notice.\n",
      "Mb.S. J. Pierce is my Agent and Attorney,\n",
      "duly authorized to transact all business in my\n",
      "behalf during my absence from Idaho City.\n",
      "J; B. PIERCE.\n",
      "October 31,1864. . n2tf\n",
      "HIGBY & CO.\n",
      "CORNER MAIN and WALL STS.,\n",
      "OPPOSITE INTERNATIONAL\n",
      "HOTEL.\n",
      "Wholesale and Retail Dealers in\n",
      "Groceries, Provisions, Mining- Tools,\n",
      "Hardware, Clothing, Wines,\n",
      "Liquors, Boots and Shoes,\n",
      "' Atnunition, Hats, Gloves,\n",
      "Stationery, Ladies' and Children's Shoe».\n",
      "N. B. The entire stock has been selected with\n",
      "great care, in San Francisco, by an experienced\n",
      "man, expressly for this market.\n",
      "Bannock Oily, September 29th, 1863. Iff\n",
      "UMATILLA FERRY\n",
      ".and..\n",
      "— opposite.\n",
      "Umatilla City,\n",
      "Oregon.\n",
      "B EST GRASS and WATER in all the Upper\n",
      "Country. Animals put across the Columbia\n",
      "river and returned with dispatch. A large boat!»\n",
      "running that carries forty animals safely at a trip.\n",
      "Umatilla, April 1st, 1864.\n",
      "3otf FOSTER & CLIFFORD.\n",
      "Miner's Brewery\n",
      "—and—\n",
      "SÜEllSïïa'\n",
      "T HE proprietors of the Pioneer Brewery of th\n",
      "Basin being thankful for the libera» patronag*\n",
      "received, assoie their friends that they will con*\n",
      "tinue to make in their establishment, tbe best\n",
      "ef Lager Beer, Bread, Pies and Cakes.\n",
      "KNAUER & CO.\n",
      "Bannock City, September 29th, 1863. ltf,\n",
      "Storage.\n",
      "A PPLY at the Miners' Brewery and Bakery\n",
      "[nfl-tf] MARKS, KNAUER à CO.\n"
     ]
    }
   ],
   "source": [
    "# print ocr text\n",
    "print(idaho['items'][0]['ocr_eng'])"
   ]
  },
  {
   "cell_type": "code",
   "execution_count": 6,
   "metadata": {},
   "outputs": [
    {
     "name": "stdout",
     "output_type": "stream",
     "text": [
      "3692\n"
     ]
    }
   ],
   "source": [
    "# how many words does this text contain?\n",
    "idaho_text = idaho['items'][0]['ocr_eng']\n",
    "print(len(idaho_text.split()))"
   ]
  },
  {
   "cell_type": "code",
   "execution_count": 7,
   "metadata": {
    "collapsed": true
   },
   "outputs": [],
   "source": [
    "import pickle # Pickling is a method for saving Python objects\n",
    "json.dump(all_data,open('./chrom_america.json','w')) # Store the data on your disk"
   ]
  },
  {
   "cell_type": "markdown",
   "metadata": {},
   "source": [
    "The difficult thing about learning how to program is that you have get a proper understanding of all these building blocks, before you can start writing useful programs.\n",
    "\n",
    "We have to go through these elements in isolation. This can be tedious, as things only start to make sense when you start combining different components."
   ]
  },
  {
   "cell_type": "markdown",
   "metadata": {},
   "source": [
    "# 3. Baby Python\n",
    "\n",
    "For practising your coding skills, you can use the many 'code blocks' in this Notebook, such as the grey cell below. Place your cursor inside the cell and press ``ctrl+enter`` to \"run\" or execute the code. Let's begin right away: run your first little program!"
   ]
  },
  {
   "cell_type": "code",
   "execution_count": null,
   "metadata": {},
   "outputs": [],
   "source": [
    "print('Hello, World!')"
   ]
  },
  {
   "cell_type": "markdown",
   "metadata": {},
   "source": [
    "You've just executed your first program!\n",
    "\n",
    "### Exercise\n",
    "- Can you describe what the programme just did?\n",
    "- Can you adapt it to print your own name (with a greeting)?\n",
    "\n",
    "Use the code block below."
   ]
  },
  {
   "cell_type": "code",
   "execution_count": null,
   "metadata": {
    "collapsed": true
   },
   "outputs": [],
   "source": [
    "# Insert your own code here!\n",
    "# Print your own name ... or whatever you want, and press ctrl + enter"
   ]
  },
  {
   "cell_type": "markdown",
   "metadata": {},
   "source": [
    "Apart from printing words to your screen, you can also use Python as a calculator. "
   ]
  },
  {
   "cell_type": "code",
   "execution_count": null,
   "metadata": {},
   "outputs": [],
   "source": [
    "print(5+9)\n",
    "print(3*8)"
   ]
  },
  {
   "cell_type": "markdown",
   "metadata": {},
   "source": [
    "### Exercise\n",
    "Use the code block below to calculate (and print) how many minutes there are in one week?"
   ]
  },
  {
   "cell_type": "code",
   "execution_count": null,
   "metadata": {
    "collapsed": true
   },
   "outputs": [],
   "source": [
    "# Write your code here"
   ]
  },
  {
   "cell_type": "markdown",
   "metadata": {},
   "source": [
    "# 4. Variables: Presents for Everyone"
   ]
  },
  {
   "cell_type": "markdown",
   "metadata": {},
   "source": [
    "One of the most powerful features of a programming language is the ability to **store and manipulate variables**. A variable is a **name** that refers to a value. The **assignment statement** creates new variables and relates them to concrete values. Instead of passing these elements as an argument to the `print()` function, we can store them, by creating a variable that refers to the \"Hello, World!\" string."
   ]
  },
  {
   "cell_type": "code",
   "execution_count": null,
   "metadata": {},
   "outputs": [],
   "source": [
    "# declare a variable\n",
    "x = 'Hello World.'\n",
    "# print what is in the box\n",
    "print(x)"
   ]
  },
  {
   "cell_type": "code",
   "execution_count": null,
   "metadata": {},
   "outputs": [],
   "source": [
    "# declare a variable\n",
    "y = 22\n",
    "# print what is in the box\n",
    "print(y)"
   ]
  },
  {
   "cell_type": "markdown",
   "metadata": {},
   "source": [
    "If you vaguely remember your math-classes in school, this should look familiar. It is basically the same notation with the name of **the variable on the left, the value on the right**, and the = sign in the middle. \n",
    "\n",
    "In the code block above, two things happen. **First**, we fill `x` with a value, in our case `22`. This variable x behaves pretty much like a **box** on which we write an `x` with a thick, black marker to find it back later. **Second**: We print the contents of this box, using the `print()` command. ![box](./images/box.png)"
   ]
  },
  {
   "cell_type": "markdown",
   "metadata": {},
   "source": [
    "You can inspect the type of the variable with the `type()` function. A string is always between quotation marks *`'`* or *`\"`*, a number (integers or floats) is not."
   ]
  },
  {
   "cell_type": "code",
   "execution_count": null,
   "metadata": {},
   "outputs": [],
   "source": [
    "text = 'Hello, Worlds!'\n",
    "print(type(text))\n",
    "number = 10\n",
    "print(type(number))\n",
    "number_string = '10'\n",
    "print(type(number_string))"
   ]
  },
  {
   "cell_type": "markdown",
   "metadata": {},
   "source": [
    "#### Exercise \n",
    "Create and print two values: your name (string) and date of birth (integer)"
   ]
  },
  {
   "cell_type": "code",
   "execution_count": null,
   "metadata": {
    "collapsed": true
   },
   "outputs": [],
   "source": [
    "# write your code here"
   ]
  },
  {
   "cell_type": "markdown",
   "metadata": {},
   "source": [
    "#### Exercise \n",
    "Find the variable assignments in the example code."
   ]
  },
  {
   "cell_type": "markdown",
   "metadata": {},
   "source": [
    "# 5. Strings: How Python Understands Text"
   ]
  },
  {
   "cell_type": "markdown",
   "metadata": {},
   "source": [
    "Let's have a closer look at the ``'str'`` type (str stands for string)\n",
    "\n",
    "Not only numbers but also strings can be added together. What do you think the operation below will produce?"
   ]
  },
  {
   "cell_type": "code",
   "execution_count": null,
   "metadata": {},
   "outputs": [],
   "source": [
    "name = 'Kaspar'\n",
    "print(type(name))"
   ]
  },
  {
   "cell_type": "markdown",
   "metadata": {},
   "source": [
    "Not only numbers but also strings can be added together. What do you think the operation below will produce?"
   ]
  },
  {
   "cell_type": "code",
   "execution_count": null,
   "metadata": {},
   "outputs": [],
   "source": [
    "first_name = \"Kaspar\"\n",
    "last_name = \"Beelen\"\n",
    "print(first_name+last_name)"
   ]
  },
  {
   "cell_type": "markdown",
   "metadata": {},
   "source": [
    "This the last operation is called string **concatination**. We added one string to another using the `+` operator."
   ]
  },
  {
   "cell_type": "code",
   "execution_count": null,
   "metadata": {},
   "outputs": [],
   "source": [
    "book = \"The Lord of the Flies\"\n",
    "print(first_name + \" likes \" + book + \"?\")"
   ]
  },
  {
   "cell_type": "markdown",
   "metadata": {},
   "source": [
    "#### Exercise: \n",
    "Declare two variables `first_name` and `last_name`. Print them neatly using concatenation."
   ]
  },
  {
   "cell_type": "code",
   "execution_count": null,
   "metadata": {
    "collapsed": true
   },
   "outputs": [],
   "source": [
    "# Write your code here"
   ]
  },
  {
   "cell_type": "markdown",
   "metadata": {},
   "source": [
    "Another option would be the `format()` method. Please note the `\\n` sign here. Which denotes a hard return (newline character).\n",
    "\n",
    "To see what `format()` does, we can simply use Python's help functionalities!"
   ]
  },
  {
   "cell_type": "code",
   "execution_count": null,
   "metadata": {},
   "outputs": [],
   "source": [
    "help(str.format)"
   ]
  },
  {
   "cell_type": "markdown",
   "metadata": {},
   "source": [
    "`.format()` inserts a variable (either a string or a number) between braces. Try it out below!"
   ]
  },
  {
   "cell_type": "code",
   "execution_count": null,
   "metadata": {},
   "outputs": [],
   "source": [
    "name = # enter a name\n",
    "print('{} is great!'.format(name))"
   ]
  },
  {
   "cell_type": "code",
   "execution_count": null,
   "metadata": {},
   "outputs": [],
   "source": [
    "name = 'My first name is {0}.\\nMy second name is {1}'.format(first_name,last_name)\n",
    "print(name)"
   ]
  },
  {
   "cell_type": "markdown",
   "metadata": {},
   "source": [
    "#### Exericse\n",
    "What would the following expression return?\n",
    "'My first name is {1}.\\nMy second name is {0}'.format(first_name,last_name)"
   ]
  },
  {
   "cell_type": "markdown",
   "metadata": {},
   "source": [
    "A lot is actually happening here--these lines may be confusing. Let's inspect this line a bit closer."
   ]
  },
  {
   "cell_type": "markdown",
   "metadata": {},
   "source": [
    "## 5.1 String Methods\n",
    "\n",
    "The expression below follows the Python dot notation:\n",
    "\n",
    "    - `'My first name is {0}.\\nMy second name is {1}'.format(first_name,last_name)`\n",
    "\n",
    "Which in a more abstract forms looks like\n",
    "\n",
    "    - `object.method(arguments)`\n",
    "    \n",
    "In this example, we applied the format method using names as arguments."
   ]
  },
  {
   "cell_type": "markdown",
   "metadata": {},
   "source": [
    "But Python comes with many useful tools for text processing. You can list and inspect them with `dir()` and `help()`."
   ]
  },
  {
   "cell_type": "code",
   "execution_count": null,
   "metadata": {
    "collapsed": true
   },
   "outputs": [],
   "source": [
    "book = 'Pride and Prejudice' # Let's pretend we stored a whole book in this variable"
   ]
  },
  {
   "cell_type": "markdown",
   "metadata": {},
   "source": [
    "`dir()` shows all the methods you can apply to the string variable `book`. Please scroll down. You can ignore all those starting with double underscores."
   ]
  },
  {
   "cell_type": "code",
   "execution_count": null,
   "metadata": {},
   "outputs": [],
   "source": [
    "dir(book)"
   ]
  },
  {
   "cell_type": "markdown",
   "metadata": {},
   "source": [
    "All these methods allows you to do things with strings. Some of the most useful methods are\n",
    "- `split()`\n",
    "- `lower()`\n",
    "- `len()`\n",
    "- `find()`"
   ]
  },
  {
   "cell_type": "markdown",
   "metadata": {},
   "source": [
    "## .split()"
   ]
  },
  {
   "cell_type": "markdown",
   "metadata": {},
   "source": [
    "#### Exercise\n",
    "\n",
    "Go back to the initial example, and figure out how the `split()` method works.\n",
    "\n",
    "HINT: use print before and after `split()`."
   ]
  },
  {
   "cell_type": "markdown",
   "metadata": {},
   "source": [
    "#### Exercise\n",
    "Find the **documentation** on `split` using the `help` function"
   ]
  },
  {
   "cell_type": "code",
   "execution_count": null,
   "metadata": {
    "collapsed": true
   },
   "outputs": [],
   "source": [
    "# search for help here"
   ]
  },
  {
   "cell_type": "markdown",
   "metadata": {},
   "source": [
    "Inspect the following examples:"
   ]
  },
  {
   "cell_type": "code",
   "execution_count": null,
   "metadata": {},
   "outputs": [],
   "source": [
    "print('Split on white space: ',book.split())\n",
    "print('Split on character \"e\": ',book.split('e'))\n",
    "print('Splint on newline: ',book.split('\\n'))"
   ]
  },
  {
   "cell_type": "markdown",
   "metadata": {},
   "source": [
    "### Important\n",
    "\n",
    "`split()` divides a string into words (approximately, we come back to this later)."
   ]
  },
  {
   "cell_type": "markdown",
   "metadata": {},
   "source": [
    "## .lower()"
   ]
  },
  {
   "cell_type": "markdown",
   "metadata": {},
   "source": [
    "**Exercise**\n",
    "\n",
    "1. Experiement with the `lower()`."
   ]
  },
  {
   "cell_type": "code",
   "execution_count": null,
   "metadata": {
    "collapsed": true
   },
   "outputs": [],
   "source": [
    "# Experiment with lower\n",
    "# Declare a string variable\n",
    "\n",
    "variable = \n",
    "\n",
    "# Look for documentation on `lower`\n",
    "\n",
    "help\n",
    "\n",
    "# Apply lower to the variable AND assign the lowercased string to a new variable\n",
    "\n",
    "var_lower = \n",
    "\n",
    "# print the variables before and after applying the lower method\n",
    "print()\n",
    "print()\n"
   ]
  },
  {
   "cell_type": "markdown",
   "metadata": {},
   "source": [
    "## .find()"
   ]
  },
  {
   "cell_type": "markdown",
   "metadata": {},
   "source": [
    "#### **Exercise**\n",
    "\n",
    "Find the position of the first 'e' in the title \"Naturkatastrophenkonzert\"."
   ]
  },
  {
   "cell_type": "code",
   "execution_count": null,
   "metadata": {},
   "outputs": [],
   "source": [
    "title = 'Naturkatastrophenkonzert'\n",
    "# use the find() method here"
   ]
  },
  {
   "cell_type": "markdown",
   "metadata": {},
   "source": [
    "#### Exercise"
   ]
  },
  {
   "cell_type": "code",
   "execution_count": null,
   "metadata": {},
   "outputs": [],
   "source": [
    "randj = requests.get('http://www.gutenberg.org/cache/epub/1777/pg1777.txt').text"
   ]
  },
  {
   "cell_type": "markdown",
   "metadata": {},
   "source": [
    "#### Exercise\n",
    "\n",
    "Find the position of the word `love` in the Shakespeare's Rome and Juliet. \n",
    "\n",
    "HINT: Do not forget to first lowercase all words!"
   ]
  },
  {
   "cell_type": "code",
   "execution_count": null,
   "metadata": {},
   "outputs": [],
   "source": [
    "first_love = randj.lower().find('love')\n",
    "print(first_love)"
   ]
  },
  {
   "cell_type": "markdown",
   "metadata": {},
   "source": [
    "You can print the context around `first_love` using the [index](https://www.oreilly.com/learning/how-do-i-use-the-slice-notation-in-python) notation. (Please follow link for more information.)"
   ]
  },
  {
   "cell_type": "code",
   "execution_count": null,
   "metadata": {},
   "outputs": [],
   "source": [
    "context_size = 50 # the number of character around the word\n",
    "start_at = first_love-context_size # indicate the starting position\n",
    "stop_at = first_love+context_size+len('love') # indicate where to stop\n",
    "print('Start printing at character with position=',start_at)\n",
    "print('Stop printing at character with position=',stop_at)\n",
    "print('\\n')\n",
    "print(randj[start_at:stop_at])"
   ]
  },
  {
   "cell_type": "markdown",
   "metadata": {},
   "source": [
    "## len()"
   ]
  },
  {
   "cell_type": "markdown",
   "metadata": {},
   "source": [
    "`len()` counts the number of elements that the argument contains. If you pass a string as an argument, it counts the number characters.\n",
    "\n",
    "Note: the syntax is slighly different here (for reasons that fall outside the scope of this course.)"
   ]
  },
  {
   "cell_type": "code",
   "execution_count": null,
   "metadata": {},
   "outputs": [],
   "source": [
    "word = 'supercalifragilisticexpialidocious'\n",
    "print(len(word))\n",
    "#print(word.__len__())"
   ]
  },
  {
   "cell_type": "code",
   "execution_count": null,
   "metadata": {
    "collapsed": true
   },
   "outputs": [],
   "source": [
    "# How many characters does your full name contain?"
   ]
  },
  {
   "cell_type": "markdown",
   "metadata": {},
   "source": [
    "Final Question: How many words does Romeo and Juliet contain (approximately)? Use `split()` and `len()` in combination."
   ]
  },
  {
   "cell_type": "code",
   "execution_count": null,
   "metadata": {
    "collapsed": true
   },
   "outputs": [],
   "source": []
  },
  {
   "cell_type": "markdown",
   "metadata": {},
   "source": [
    "**Exercise**\n",
    "\n",
    "Are there other useful string methods?"
   ]
  },
  {
   "cell_type": "code",
   "execution_count": null,
   "metadata": {
    "collapsed": true
   },
   "outputs": [],
   "source": [
    "# if yes, play with them here"
   ]
  },
  {
   "cell_type": "markdown",
   "metadata": {},
   "source": [
    "# Intermezzo: Returning to the main example"
   ]
  },
  {
   "cell_type": "markdown",
   "metadata": {},
   "source": [
    "Let's inspect more closely some lines in the leading example."
   ]
  },
  {
   "cell_type": "markdown",
   "metadata": {},
   "source": [
    "#### `\\n` indicates the end of a line"
   ]
  },
  {
   "cell_type": "code",
   "execution_count": null,
   "metadata": {},
   "outputs": [],
   "source": [
    "data = \"\"\"Idaho,1865\\nMontana,1865\\nOregon,1865\\nWashington,1865\"\"\"\n",
    "print(data)"
   ]
  },
  {
   "cell_type": "markdown",
   "metadata": {},
   "source": [
    "#### Split by newline returns the rows as a list (see below)."
   ]
  },
  {
   "cell_type": "code",
   "execution_count": null,
   "metadata": {},
   "outputs": [],
   "source": [
    "data.split('\\n')"
   ]
  },
  {
   "cell_type": "markdown",
   "metadata": {},
   "source": [
    "#### We can save this by declaring a new variable `lines`."
   ]
  },
  {
   "cell_type": "code",
   "execution_count": null,
   "metadata": {},
   "outputs": [],
   "source": [
    "lines = data.split('\\n')\n",
    "print(lines)"
   ]
  },
  {
   "cell_type": "markdown",
   "metadata": {},
   "source": [
    "#### .format() method manipulates the url by inserting substrings as specific locations marked by braces '{}'."
   ]
  },
  {
   "cell_type": "code",
   "execution_count": null,
   "metadata": {},
   "outputs": [],
   "source": [
    "url = \"http://chroniclingamerica.loc.gov/search/pages/results/?state={0}&date1={1}&date2={1}&dateFilterType=yearRange&sequence=1&sort=date&rows=5&format=json\"\n",
    "query = url.format('Idaho',1865)\n",
    "print(query)"
   ]
  },
  {
   "cell_type": "markdown",
   "metadata": {},
   "source": [
    "Please follow the link produced by the `print` operation."
   ]
  },
  {
   "cell_type": "markdown",
   "metadata": {},
   "source": [
    "This may look very complicated, but actually we are doing nothing more than generating a query that we use to retrieve data from \"Chronicling America\". Let's have a closer look at what we are actually doing."
   ]
  },
  {
   "cell_type": "markdown",
   "metadata": {},
   "source": [
    "The basic components of the this URL are:\n",
    "- the base URL, http://chroniclingamerica.loc.gov/\n",
    "- the search service location for individual newspaper pages, search/pages/results\n",
    "- a query string, starting with `?` and made up of **value pairs** (fieldname=value) separated by `&`.\n",
    "    - e.g. value pairs are: state=Idaho; date1=1865;\n",
    "    - only the front pages (sequence=1)\n",
    "    - sorting by date (sort=date)\n",
    "    - returning a maximum of five (rows=5)\n",
    "    - in JSON (format=json)"
   ]
  },
  {
   "cell_type": "markdown",
   "metadata": {},
   "source": [
    "Now image we would like to retrieve data for multiple years for the state Idaho. In Python this is very simple, but we have to extend our syntax to properly understand how."
   ]
  },
  {
   "cell_type": "code",
   "execution_count": null,
   "metadata": {},
   "outputs": [],
   "source": [
    "queries = [] # define a variable where you will store all your queries\n",
    "for year in [1865,1885,1905]:  # loop over these years\n",
    "    query = url.format('Idaho',year) # formulate queriy\n",
    "    queries.append(query) # store it in the queries variable using .append()\n",
    "print(queries) # done! print! copy paste one of the elements to see if this worked..."
   ]
  },
  {
   "cell_type": "markdown",
   "metadata": {},
   "source": [
    "So let's turn to list objects!"
   ]
  },
  {
   "cell_type": "markdown",
   "metadata": {},
   "source": [
    "# 6. Lists"
   ]
  },
  {
   "cell_type": "markdown",
   "metadata": {},
   "source": [
    "Lists resemble strings: both are a **sequence** of values. But whereas a string was a sequence of characters, a list can contain values of any type. These values we call **elements** or **items**."
   ]
  },
  {
   "cell_type": "code",
   "execution_count": null,
   "metadata": {
    "collapsed": true
   },
   "outputs": [],
   "source": [
    "this_is_a_string = 'Hello Newman'\n",
    "this_is_a_list = ['Hello','Jerry',42,3.1415]"
   ]
  },
  {
   "cell_type": "markdown",
   "metadata": {},
   "source": [
    "Consider the first sentence (represented as a string) from Franz Kafka's book 'The Trial'. Image for a moment we would have assigned the whole book to the `trial` variable."
   ]
  },
  {
   "cell_type": "code",
   "execution_count": null,
   "metadata": {
    "collapsed": true
   },
   "outputs": [],
   "source": [
    "trial = \"Someone must have slandered Josef K., for one morning, without having done anything truly wrong, he was arrested. \""
   ]
  },
  {
   "cell_type": "markdown",
   "metadata": {},
   "source": [
    "**A string is a sequence of characters.**\n",
    "\n",
    "How can we select specific words from this book? For the sentence above, it might seem more natural for humans to describe it as a series of words, rather than as a series of characters. Say, we want to access the first word in our sentence. If we enter:"
   ]
  },
  {
   "cell_type": "code",
   "execution_count": null,
   "metadata": {
    "collapsed": true
   },
   "outputs": [],
   "source": [
    "first_word = trial[0]\n",
    "print(first_word)"
   ]
  },
  {
   "cell_type": "markdown",
   "metadata": {},
   "source": [
    "**`split()` converts this string to a list of words.**\n",
    "\n",
    "Python only prints the first character of our sentence. (Think about this if you do not understand why.) We can, however, transform our sentence into a list of words (represented by strings) using the split() function as follows:"
   ]
  },
  {
   "cell_type": "code",
   "execution_count": null,
   "metadata": {
    "collapsed": true
   },
   "outputs": [],
   "source": [
    "words = trial.split()\n",
    "print(words)"
   ]
  },
  {
   "cell_type": "markdown",
   "metadata": {},
   "source": [
    "The variable `trial` now holds the first line of Kafka's Trial as a list. Each element in this list is now (approximately) a word. Run the code below to see the difference."
   ]
  },
  {
   "cell_type": "code",
   "execution_count": null,
   "metadata": {
    "collapsed": true
   },
   "outputs": [],
   "source": [
    "first_word = words[0]\n",
    "print(first_word)"
   ]
  },
  {
   "cell_type": "markdown",
   "metadata": {},
   "source": [
    "## Creating a list: the basic rules \n",
    "\n",
    "To store an empty list in variable `x`, simply assign `x` to ``[]`` (square brackets)."
   ]
  },
  {
   "cell_type": "code",
   "execution_count": null,
   "metadata": {
    "collapsed": true
   },
   "outputs": [],
   "source": [
    "# create an empty list\n",
    "x = []"
   ]
  },
  {
   "cell_type": "markdown",
   "metadata": {},
   "source": [
    "We can also create lists with some content: enclose the individual items within square brackets, separated by a comma."
   ]
  },
  {
   "cell_type": "code",
   "execution_count": null,
   "metadata": {
    "collapsed": true
   },
   "outputs": [],
   "source": [
    "my_grades = [8,9,6,7]\n",
    "print(my_grades)\n",
    "my_garbage = ['Potatoe',[1,2,3],9.03434,'frogs']\n",
    "print(my_garbage)"
   ]
  },
  {
   "cell_type": "markdown",
   "metadata": {},
   "source": [
    "### General rules:\n",
    "* Lists are surrounded by square brackets and the elements in the list are separated by commas\n",
    "* A list element can be **any Python object** - even another list (e.g. * List can be an collection of numbers, strings, floats (or a combination thereof))\n",
    "* A list can store values with different types\n",
    "* A list can be empty"
   ]
  },
  {
   "cell_type": "markdown",
   "metadata": {},
   "source": [
    "#### Exercise\n",
    "\n",
    "Create a list manually, select your three favorite artists/composers, whatever, and put them in one list."
   ]
  },
  {
   "cell_type": "code",
   "execution_count": null,
   "metadata": {
    "collapsed": true
   },
   "outputs": [],
   "source": [
    "# put your code here"
   ]
  },
  {
   "cell_type": "markdown",
   "metadata": {},
   "source": [
    "## Adding Items to a List: The concatenation and the `.append()` method"
   ]
  },
  {
   "cell_type": "markdown",
   "metadata": {},
   "source": [
    "Similar to strings, Python comes with specific operations (``*`` and ``+``) that you can apply to a list.\n",
    "\n",
    "The ``+`` operator **concatenates** lists. \n",
    "\n",
    "Can you guess what the variable `c` will look like?"
   ]
  },
  {
   "cell_type": "code",
   "execution_count": null,
   "metadata": {},
   "outputs": [],
   "source": [
    "a = [1, 2, 3]\n",
    "b = [4, 5, 6]\n",
    "c = a + b\n",
    "print(c)"
   ]
  },
  {
   "cell_type": "markdown",
   "metadata": {},
   "source": [
    "Most of the crucial list functionalities are provided by the inbuilt list **methods**: functions attached to the list object. For an overview of the available methods run the code below (scroll down, for this course you can ignore the methods starting and ending with double underscores.)"
   ]
  },
  {
   "cell_type": "code",
   "execution_count": null,
   "metadata": {
    "collapsed": true
   },
   "outputs": [],
   "source": [
    "writers_list = []\n",
    "print(type(a_list))"
   ]
  },
  {
   "cell_type": "markdown",
   "metadata": {},
   "source": [
    "We learn, unsurprisingle to that the variable a_list is of type `list`. Let's inspect the functionalities Python provides for working with lists."
   ]
  },
  {
   "cell_type": "code",
   "execution_count": null,
   "metadata": {
    "collapsed": true
   },
   "outputs": [],
   "source": [
    "help(list)"
   ]
  },
  {
   "cell_type": "markdown",
   "metadata": {},
   "source": [
    "**``append()`` adds other values to the list**\n",
    "\n",
    "The first method we encounter is ``append``. To see what this method does use the same `help` function as before"
   ]
  },
  {
   "cell_type": "code",
   "execution_count": null,
   "metadata": {
    "collapsed": true
   },
   "outputs": [],
   "source": [
    "help(list.append)"
   ]
  },
  {
   "cell_type": "markdown",
   "metadata": {},
   "source": [
    "`append` is a method that **adds new items** to the end of a list. It has one positional argument and **returns `None`** (we come back to this a few blocks below)."
   ]
  },
  {
   "cell_type": "code",
   "execution_count": null,
   "metadata": {
    "collapsed": true
   },
   "outputs": [],
   "source": [
    "composer_list = ['J.S. Bach', 'W.A. Mozart', 'F. Mendelssohn']\n",
    "print(composer_list)\n",
    "composer_list.append('L. van Beethoven')\n",
    "print(composer_list)"
   ]
  },
  {
   "cell_type": "markdown",
   "metadata": {},
   "source": [
    "#### Exercise\n",
    "add another composers to the `composer_list`"
   ]
  },
  {
   "cell_type": "code",
   "execution_count": null,
   "metadata": {
    "collapsed": true
   },
   "outputs": [],
   "source": [
    "# add your code here"
   ]
  },
  {
   "cell_type": "markdown",
   "metadata": {},
   "source": [
    "Functions in Python are generally divided into **fruitful** and **void** functions? `append` is a **void** function: similar to `print`, it performs an operation (adds one element to the list) but **returns nothing**. Understanding this distinction may help you tracing bugs in future code."
   ]
  },
  {
   "cell_type": "code",
   "execution_count": null,
   "metadata": {
    "collapsed": true
   },
   "outputs": [],
   "source": [
    "a = composer_list.append('J. des Prez')\n",
    "print(composer_list)\n",
    "print(a)"
   ]
  },
  {
   "cell_type": "markdown",
   "metadata": {},
   "source": [
    "The `append()` method is especially powerful in a `for` loop."
   ]
  },
  {
   "cell_type": "markdown",
   "metadata": {},
   "source": [
    "# 7. For-loops"
   ]
  },
  {
   "cell_type": "markdown",
   "metadata": {},
   "source": [
    "The code below shows a context in which the `append()` method is often applied. For example, we have structured data which lists song titles since the interwar year. Imagine, we want to study all songs about \"love\". \n",
    "\n",
    "But let's start with a simple example and return to Kafka."
   ]
  },
  {
   "cell_type": "code",
   "execution_count": null,
   "metadata": {
    "collapsed": true
   },
   "outputs": [],
   "source": [
    "trial = \"Someone must have slandered Josef K., for one morning, without having done anything truly wrong, he was arrested. \""
   ]
  },
  {
   "cell_type": "code",
   "execution_count": null,
   "metadata": {},
   "outputs": [],
   "source": [
    "# split the string by white spaces\n",
    "words = trial.split()\n",
    "print(words)"
   ]
  },
  {
   "cell_type": "markdown",
   "metadata": {},
   "source": [
    "### Membership operators\n",
    "\n",
    "An easy way to check if a word apears in a sentence is the membership operator `in`."
   ]
  },
  {
   "cell_type": "code",
   "execution_count": null,
   "metadata": {},
   "outputs": [],
   "source": [
    "print('\"must\" in words? ','must' in words)\n",
    "print('\"lalalala\" in words? ','lalalala' in words)"
   ]
  },
  {
   "cell_type": "markdown",
   "metadata": {},
   "source": [
    "Ok, now we have a list with the indvidual words. Now we can iterate over this list with a `for` loop. Let's loop over the words and print each of the individually in upper case and with exclamation marks!!!!"
   ]
  },
  {
   "cell_type": "code",
   "execution_count": null,
   "metadata": {},
   "outputs": [],
   "source": [
    "for word in words:\n",
    "    print(word.upper()+'!!!')"
   ]
  },
  {
   "cell_type": "markdown",
   "metadata": {},
   "source": [
    "#### Exercise:\n",
    "\n",
    "... or print the length of the words."
   ]
  },
  {
   "cell_type": "code",
   "execution_count": null,
   "metadata": {
    "collapsed": true
   },
   "outputs": [],
   "source": [
    "for  in :\n",
    "   print(...)"
   ]
  },
  {
   "cell_type": "markdown",
   "metadata": {},
   "source": [
    "For sure, we could have done this manually, and obtain the same result. But you have to agree that the above example is more elegant and concise. Also, applying the example below to a list 100.000 items or more, is very time consuming."
   ]
  },
  {
   "cell_type": "code",
   "execution_count": null,
   "metadata": {},
   "outputs": [],
   "source": [
    "print(len(words[0]))\n",
    "print(len(words[1]))\n",
    "print(len(words[2]))\n",
    "print(len(words[3]))\n",
    "print('...')\n",
    "print('etc.  till the end.')\n",
    "print('...')\n",
    "print(len(words[-4]))\n",
    "print(len(words[-3]))\n",
    "print(len(words[-2]))\n",
    "print(len(words[-1]))"
   ]
  },
  {
   "cell_type": "markdown",
   "metadata": {},
   "source": [
    "What is the benefit of having a fast computer if you have to enter everything manually?"
   ]
  },
  {
   "cell_type": "markdown",
   "metadata": {},
   "source": [
    "Python provides the so-called `for`-statements that allow us to **iterate** through any iterable object and perform actions on each element. The basic syntax of a `for`-statement is: \n",
    "\n",
    "    for X in iterable:\n",
    "\n",
    "That reads almost like English. We can collect all letters of the lengths of the words in the previous sentence:"
   ]
  },
  {
   "cell_type": "markdown",
   "metadata": {},
   "source": [
    "The `for` loop might be confusing at first. Let's have a closer look at a simple example: "
   ]
  },
  {
   "cell_type": "code",
   "execution_count": null,
   "metadata": {
    "collapsed": true
   },
   "outputs": [],
   "source": [
    "names = ['John', 'Anna', 'Bert']\n",
    "for name in names:\n",
    "    print(name)"
   ]
  },
  {
   "cell_type": "markdown",
   "metadata": {},
   "source": [
    "The `name` variable is not explicitly assigned in advance. It acts somewhat as a **placeholder**, and is assigned to each element in the list in turn (as the `print()` statement suggests). \n",
    "\n",
    "You are **free to choose the name** of this variable, but it has to be consistent in the indented block below."
   ]
  },
  {
   "cell_type": "code",
   "execution_count": null,
   "metadata": {
    "collapsed": true
   },
   "outputs": [],
   "source": [
    "names = ['John', 'Anna', 'Bert']\n",
    "for LALALALALA in names:\n",
    "    print(LALALALALA)"
   ]
  },
  {
   "cell_type": "markdown",
   "metadata": {},
   "source": [
    "... this works just fine but is less readable.\n",
    "\n",
    "We can, now, make a simple program that stores the word length of each word in `words`."
   ]
  },
  {
   "cell_type": "code",
   "execution_count": null,
   "metadata": {},
   "outputs": [],
   "source": [
    "# Initialize and empty list, in which we will store all word lengths\n",
    "word_lengths = []\n",
    "# now we iterate over the iterable (i.e. list) called words\n",
    "for word in words:\n",
    "    # get the name of the word\n",
    "    var = len(word)\n",
    "    # append it to the list\n",
    "    word_lengths.append(var)\n",
    "\n",
    "print(word_lengths)"
   ]
  },
  {
   "cell_type": "markdown",
   "metadata": {},
   "source": [
    "We could make the previous code a bit more concise:"
   ]
  },
  {
   "cell_type": "code",
   "execution_count": null,
   "metadata": {},
   "outputs": [],
   "source": [
    "# Initialize and empty list, in which we will store all word lengths\n",
    "word_lengths = []\n",
    "# now we iterate over the iterable (i.e. list) called words\n",
    "for word in words:\n",
    "    word_lengths.append(len(word))\n",
    "\n",
    "print(word_lengths)"
   ]
  },
  {
   "cell_type": "markdown",
   "metadata": {},
   "source": [
    "Now we can put everything together and make a simple programme that collects all songs about 'love'. Step by step.\n",
    "\n",
    "I left out some code. Please complete where necessary."
   ]
  },
  {
   "cell_type": "markdown",
   "metadata": {},
   "source": [
    "**A.** Retrieve the data with `requests`"
   ]
  },
  {
   "cell_type": "code",
   "execution_count": null,
   "metadata": {
    "collapsed": true
   },
   "outputs": [],
   "source": [
    "import requests\n",
    "url = 'https://labrosa.ee.columbia.edu/millionsong/sites/default/files/AdditionalFiles/tracks_per_year.txt'\n",
    "#small data set for those with a slower laptop/computer\n",
    "#url = ‘https://raw.githubusercontent.com/kasparvonbeelen/Coding-the-Humanities/master/lecture2/subsample.txt’\n",
    "data = requests.get(url).text.strip() # download the song titles"
   ]
  },
  {
   "cell_type": "markdown",
   "metadata": {},
   "source": [
    "**B.** Create an empty list and define your query."
   ]
  },
  {
   "cell_type": "code",
   "execution_count": null,
   "metadata": {
    "collapsed": true
   },
   "outputs": [],
   "source": [
    "search = #\n",
    "love_song = #"
   ]
  },
  {
   "cell_type": "markdown",
   "metadata": {},
   "source": [
    "**C.** split the data by row. There should be 515576 rows."
   ]
  },
  {
   "cell_type": "code",
   "execution_count": null,
   "metadata": {},
   "outputs": [],
   "source": [
    "rows = data.split('\\n')\n",
    "len(rows) == 515576"
   ]
  },
  {
   "cell_type": "code",
   "execution_count": null,
   "metadata": {
    "collapsed": true
   },
   "outputs": [],
   "source": [
    "for row in rows:\n",
    "    cells = # split the row into a list called cells, split on the <SEP> sequence\n",
    "    title = cells[-1] \n",
    "    title_lower = # convert capitals in the string to lowercase characters\n",
    "    words =  # split the title string into words\n",
    "    if search in words  : # print string if it contains the search term and is older than 1960\n",
    "        love_song.append(title)"
   ]
  },
  {
   "cell_type": "markdown",
   "metadata": {},
   "source": [
    "There should be 13844 in `love_song` variable."
   ]
  },
  {
   "cell_type": "code",
   "execution_count": null,
   "metadata": {},
   "outputs": [],
   "source": [
    "print(len(love_song)==13844)"
   ]
  },
  {
   "cell_type": "markdown",
   "metadata": {},
   "source": [
    "Let's print the first 100."
   ]
  },
  {
   "cell_type": "code",
   "execution_count": null,
   "metadata": {},
   "outputs": [],
   "source": [
    "print(love_song[:100])"
   ]
  },
  {
   "cell_type": "markdown",
   "metadata": {},
   "source": [
    "#### Exercise\n",
    "\n",
    "- Put all the code together in one code block. \n",
    "- Can you find all the songs \"hate\" in the song title database.\n",
    "- Is \"love\" more popular a topic than \"hate\"? "
   ]
  },
  {
   "cell_type": "markdown",
   "metadata": {},
   "source": [
    "# 8. Dictionaries"
   ]
  },
  {
   "cell_type": "markdown",
   "metadata": {},
   "source": [
    "Dictionaries provide you with the data structure that makes such tasks (**looking up values by keys**) exceptionally easy.\n",
    "\n",
    "For example, if we look at the dictionary `telephone_numbers` below, what is Susan's phone number?\n",
    "\n",
    "In Pyhon you can easily look-up a key (the element before the `\":\"`) in a dictionary:"
   ]
  },
  {
   "cell_type": "code",
   "execution_count": null,
   "metadata": {},
   "outputs": [],
   "source": [
    "telephone_numbers = {'Frank': 4334030, 'Susan': 400230, 'Guido': 487239}\n",
    "print(telephone_numbers)"
   ]
  },
  {
   "cell_type": "markdown",
   "metadata": {},
   "source": [
    "... and now print Susan's telephone number:"
   ]
  },
  {
   "cell_type": "code",
   "execution_count": null,
   "metadata": {
    "collapsed": true
   },
   "outputs": [],
   "source": [
    "print(telephone_numbers['Susan'])"
   ]
  },
  {
   "cell_type": "markdown",
   "metadata": {},
   "source": [
    "#### Exercise\n",
    "\n",
    "print Guido's number."
   ]
  },
  {
   "cell_type": "markdown",
   "metadata": {},
   "source": [
    "## Creating a dictionary\n",
    "\n",
    "* a dictionary is surrounded by **curly brackets** \n",
    "\n",
    "* a dictionary consists of one or more **key:value pairs**, the key is the 'identifier' or \"name\" that is used to describe the value.\n",
    "* the **keys** in a dictionary are **unique**\n",
    "* the syntax for a key/value pair is: `key : value`\n",
    "* and the **key/value** pairs (i.e. **items**) are separated by **commas**.\n",
    "* the keys (e.g. 'Frank') in a dictionary have to be **immutable**\n",
    "* the values (e.g. 8) in a dictionary can by **any python object**\n",
    "* a dictionary can be empty\n"
   ]
  },
  {
   "cell_type": "markdown",
   "metadata": {},
   "source": [
    "An empty dictionary:"
   ]
  },
  {
   "cell_type": "code",
   "execution_count": null,
   "metadata": {
    "collapsed": true
   },
   "outputs": [],
   "source": [
    "x = {}"
   ]
  },
  {
   "cell_type": "markdown",
   "metadata": {},
   "source": [
    "A mapping between English and German words:"
   ]
  },
  {
   "cell_type": "code",
   "execution_count": null,
   "metadata": {
    "collapsed": true
   },
   "outputs": [],
   "source": [
    "english2deutsch = {'ambulance':'Krankenwagen',\n",
    "                  'clever':'klug',\n",
    "                  'concrete':'Beton'}"
   ]
  },
  {
   "cell_type": "markdown",
   "metadata": {},
   "source": [
    "#### Exercise\n",
    "\n",
    "Make dictionary which maps three cities to the size of their population. Call it `city2population`."
   ]
  },
  {
   "cell_type": "code",
   "execution_count": null,
   "metadata": {
    "collapsed": true
   },
   "outputs": [],
   "source": [
    "city2population = #add your code here"
   ]
  },
  {
   "cell_type": "markdown",
   "metadata": {},
   "source": [
    "## Adding items to a dictionary\n",
    "\n",
    "There is one very simple way in order to add a **key:value** pair to a dictionary. Please look at the following code snippet:"
   ]
  },
  {
   "cell_type": "code",
   "execution_count": null,
   "metadata": {
    "collapsed": true
   },
   "outputs": [],
   "source": [
    "english2deutsch = dict()\n",
    "#or try english2deutsch = {}\n",
    "print(english2deutsch)"
   ]
  },
  {
   "cell_type": "code",
   "execution_count": null,
   "metadata": {
    "collapsed": true
   },
   "outputs": [],
   "source": [
    "english2deutsch['one'] = 'einz'\n",
    "english2deutsch['two'] = 'zwei'\n",
    "english2deutsch['three'] = 'drei'\n",
    "print(english2deutsch)"
   ]
  },
  {
   "cell_type": "markdown",
   "metadata": {},
   "source": [
    "#### Exercise\n",
    "\n",
    "Add two more cities to `city2population`"
   ]
  },
  {
   "cell_type": "markdown",
   "metadata": {},
   "source": [
    "## Iterating over dictionaries"
   ]
  },
  {
   "cell_type": "markdown",
   "metadata": {},
   "source": [
    "Since dictionaries are iterable objects, we can iterate through our good reads collection as well. This will iterate over the *keys* of a dictionary:"
   ]
  },
  {
   "cell_type": "code",
   "execution_count": null,
   "metadata": {},
   "outputs": [],
   "source": [
    "good_reads = {\"The Magic Mountain\":9,\n",
    "             \"The Idiot\":7,\n",
    "             \"Don Quixote\": 9.5}\n",
    "\n",
    "for book in good_reads:\n",
    "    print(book)"
   ]
  },
  {
   "cell_type": "markdown",
   "metadata": {},
   "source": [
    "To iterate over the key-value pairs use the `.items()` method."
   ]
  },
  {
   "cell_type": "code",
   "execution_count": null,
   "metadata": {},
   "outputs": [],
   "source": [
    "for book,score in good_reads.items():\n",
    "    print(book,score)"
   ]
  },
  {
   "cell_type": "markdown",
   "metadata": {},
   "source": [
    "#### Exercise\n",
    "\n",
    "Print the city and population by iterating over the items of the city2population dictionary."
   ]
  },
  {
   "cell_type": "code",
   "execution_count": null,
   "metadata": {
    "collapsed": true
   },
   "outputs": [],
   "source": []
  },
  {
   "cell_type": "markdown",
   "metadata": {},
   "source": [
    "## JSON"
   ]
  },
  {
   "cell_type": "markdown",
   "metadata": {},
   "source": [
    "The data retrieved from the Chronicling America API is a [JSON](https://en.wikipedia.org/wiki/JSON) file in which each item contains a few newspapers from a different state. Copy paste the printout below and go to the [JSON viewer](http://jsonviewer.stack.hu/) the inspect the docoment.\n",
    "\n",
    "As you'll see, the JSON object combines Python lists and dictionaries. As it is a very common data type, Python has some libraries to process and read JSON data."
   ]
  },
  {
   "cell_type": "code",
   "execution_count": null,
   "metadata": {},
   "outputs": [],
   "source": [
    "idaho = json.load(open('./idaho_example.json'))"
   ]
  },
  {
   "cell_type": "code",
   "execution_count": null,
   "metadata": {},
   "outputs": [],
   "source": [
    "print(json.dumps(idaho))"
   ]
  },
  {
   "cell_type": "markdown",
   "metadata": {},
   "source": [
    "#### Exercise\n",
    "\n",
    "Explore the JSON file."
   ]
  },
  {
   "cell_type": "markdown",
   "metadata": {},
   "source": [
    "#### Exercise\n",
    "\n",
    "Can you print the first title?"
   ]
  },
  {
   "cell_type": "code",
   "execution_count": null,
   "metadata": {
    "collapsed": true
   },
   "outputs": [],
   "source": [
    "# Add you code here"
   ]
  },
  {
   "cell_type": "markdown",
   "metadata": {},
   "source": [
    "#### Exercise\n",
    "\n",
    "Can you print the number of words (approximetaly) in the fourth article (hidden under key 'ocr_eng')?"
   ]
  },
  {
   "cell_type": "code",
   "execution_count": null,
   "metadata": {
    "collapsed": true
   },
   "outputs": [],
   "source": [
    "# Add you code here"
   ]
  },
  {
   "cell_type": "markdown",
   "metadata": {},
   "source": [
    "## We are DONE for today. Congratulations!"
   ]
  }
 ],
 "metadata": {
  "kernelspec": {
   "display_name": "Python 3",
   "language": "python",
   "name": "python3"
  },
  "language_info": {
   "codemirror_mode": {
    "name": "ipython",
    "version": 3
   },
   "file_extension": ".py",
   "mimetype": "text/x-python",
   "name": "python",
   "nbconvert_exporter": "python",
   "pygments_lexer": "ipython3",
   "version": "3.6.3"
  }
 },
 "nbformat": 4,
 "nbformat_minor": 2
}
